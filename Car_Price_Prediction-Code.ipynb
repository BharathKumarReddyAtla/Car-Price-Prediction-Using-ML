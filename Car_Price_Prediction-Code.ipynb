{
 "cells": [
  {
   "cell_type": "code",
   "execution_count": 25,
   "id": "e8cade2c",
   "metadata": {},
   "outputs": [],
   "source": [
    "import pandas as pd\n",
    "import numpy as np"
   ]
  },
  {
   "cell_type": "code",
   "execution_count": 26,
   "id": "9db9730f",
   "metadata": {},
   "outputs": [],
   "source": [
    "# import libraries\n",
    "import numpy as np\n",
    "import pandas as pd\n",
    "from sklearn.model_selection import train_test_split\n",
    "from sklearn.preprocessing import StandardScaler\n",
    "from sklearn.linear_model import LinearRegression, Lasso, Ridge\n",
    "from sklearn.pipeline import make_pipeline\n",
    "from sklearn.preprocessing import PolynomialFeatures\n",
    "from sklearn.metrics import r2_score, mean_squared_error, mean_absolute_error"
   ]
  },
  {
   "cell_type": "code",
   "execution_count": 27,
   "id": "08fc0f98",
   "metadata": {},
   "outputs": [],
   "source": [
    "df = pd.read_excel(\"Car_Features_and_Price (1).xlsx\")"
   ]
  },
  {
   "cell_type": "code",
   "execution_count": 28,
   "id": "21a3c1b9",
   "metadata": {},
   "outputs": [
    {
     "data": {
      "text/plain": [
       "Index(['Make', 'Model', 'Year', 'Engine Fuel Type', 'Engine HP',\n",
       "       'Engine Cylinders', 'Transmission Type', 'Driven_Wheels',\n",
       "       'Number of Doors', 'Market Category', 'Vehicle Size', 'Vehicle Style',\n",
       "       'highway MPG', 'city mpg', 'Popularity', 'MSRP'],\n",
       "      dtype='object')"
      ]
     },
     "execution_count": 28,
     "metadata": {},
     "output_type": "execute_result"
    }
   ],
   "source": [
    "df.columns"
   ]
  },
  {
   "cell_type": "code",
   "execution_count": 29,
   "id": "272045f1",
   "metadata": {
    "scrolled": false
   },
   "outputs": [
    {
     "data": {
      "text/html": [
       "<div>\n",
       "<style scoped>\n",
       "    .dataframe tbody tr th:only-of-type {\n",
       "        vertical-align: middle;\n",
       "    }\n",
       "\n",
       "    .dataframe tbody tr th {\n",
       "        vertical-align: top;\n",
       "    }\n",
       "\n",
       "    .dataframe thead th {\n",
       "        text-align: right;\n",
       "    }\n",
       "</style>\n",
       "<table border=\"1\" class=\"dataframe\">\n",
       "  <thead>\n",
       "    <tr style=\"text-align: right;\">\n",
       "      <th></th>\n",
       "      <th>Make</th>\n",
       "      <th>Model</th>\n",
       "      <th>Year</th>\n",
       "      <th>Engine Fuel Type</th>\n",
       "      <th>Engine HP</th>\n",
       "      <th>Engine Cylinders</th>\n",
       "      <th>Transmission Type</th>\n",
       "      <th>Driven_Wheels</th>\n",
       "      <th>Number of Doors</th>\n",
       "      <th>Market Category</th>\n",
       "      <th>Vehicle Size</th>\n",
       "      <th>Vehicle Style</th>\n",
       "      <th>highway MPG</th>\n",
       "      <th>city mpg</th>\n",
       "      <th>Popularity</th>\n",
       "      <th>MSRP</th>\n",
       "    </tr>\n",
       "  </thead>\n",
       "  <tbody>\n",
       "    <tr>\n",
       "      <th>0</th>\n",
       "      <td>BMW</td>\n",
       "      <td>1 Series</td>\n",
       "      <td>2011</td>\n",
       "      <td>premium unleaded (required)</td>\n",
       "      <td>335.0</td>\n",
       "      <td>6.0</td>\n",
       "      <td>MANUAL</td>\n",
       "      <td>rear wheel drive</td>\n",
       "      <td>2.0</td>\n",
       "      <td>Factory Tuner,Luxury,High-Performance</td>\n",
       "      <td>Compact</td>\n",
       "      <td>Coupe</td>\n",
       "      <td>26</td>\n",
       "      <td>19</td>\n",
       "      <td>3916</td>\n",
       "      <td>46135</td>\n",
       "    </tr>\n",
       "    <tr>\n",
       "      <th>1</th>\n",
       "      <td>BMW</td>\n",
       "      <td>1 Series</td>\n",
       "      <td>2011</td>\n",
       "      <td>premium unleaded (required)</td>\n",
       "      <td>300.0</td>\n",
       "      <td>6.0</td>\n",
       "      <td>MANUAL</td>\n",
       "      <td>rear wheel drive</td>\n",
       "      <td>2.0</td>\n",
       "      <td>Luxury,Performance</td>\n",
       "      <td>Compact</td>\n",
       "      <td>Convertible</td>\n",
       "      <td>28</td>\n",
       "      <td>19</td>\n",
       "      <td>3916</td>\n",
       "      <td>40650</td>\n",
       "    </tr>\n",
       "    <tr>\n",
       "      <th>2</th>\n",
       "      <td>BMW</td>\n",
       "      <td>1 Series</td>\n",
       "      <td>2011</td>\n",
       "      <td>premium unleaded (required)</td>\n",
       "      <td>300.0</td>\n",
       "      <td>6.0</td>\n",
       "      <td>MANUAL</td>\n",
       "      <td>rear wheel drive</td>\n",
       "      <td>2.0</td>\n",
       "      <td>Luxury,High-Performance</td>\n",
       "      <td>Compact</td>\n",
       "      <td>Coupe</td>\n",
       "      <td>28</td>\n",
       "      <td>20</td>\n",
       "      <td>3916</td>\n",
       "      <td>36350</td>\n",
       "    </tr>\n",
       "    <tr>\n",
       "      <th>3</th>\n",
       "      <td>BMW</td>\n",
       "      <td>1 Series</td>\n",
       "      <td>2011</td>\n",
       "      <td>premium unleaded (required)</td>\n",
       "      <td>230.0</td>\n",
       "      <td>6.0</td>\n",
       "      <td>MANUAL</td>\n",
       "      <td>rear wheel drive</td>\n",
       "      <td>2.0</td>\n",
       "      <td>Luxury,Performance</td>\n",
       "      <td>Compact</td>\n",
       "      <td>Coupe</td>\n",
       "      <td>28</td>\n",
       "      <td>18</td>\n",
       "      <td>3916</td>\n",
       "      <td>29450</td>\n",
       "    </tr>\n",
       "    <tr>\n",
       "      <th>4</th>\n",
       "      <td>BMW</td>\n",
       "      <td>1 Series</td>\n",
       "      <td>2011</td>\n",
       "      <td>premium unleaded (required)</td>\n",
       "      <td>230.0</td>\n",
       "      <td>6.0</td>\n",
       "      <td>MANUAL</td>\n",
       "      <td>rear wheel drive</td>\n",
       "      <td>2.0</td>\n",
       "      <td>Luxury</td>\n",
       "      <td>Compact</td>\n",
       "      <td>Convertible</td>\n",
       "      <td>28</td>\n",
       "      <td>18</td>\n",
       "      <td>3916</td>\n",
       "      <td>34500</td>\n",
       "    </tr>\n",
       "  </tbody>\n",
       "</table>\n",
       "</div>"
      ],
      "text/plain": [
       "  Make     Model  Year             Engine Fuel Type  Engine HP  \\\n",
       "0  BMW  1 Series  2011  premium unleaded (required)      335.0   \n",
       "1  BMW  1 Series  2011  premium unleaded (required)      300.0   \n",
       "2  BMW  1 Series  2011  premium unleaded (required)      300.0   \n",
       "3  BMW  1 Series  2011  premium unleaded (required)      230.0   \n",
       "4  BMW  1 Series  2011  premium unleaded (required)      230.0   \n",
       "\n",
       "   Engine Cylinders Transmission Type     Driven_Wheels  Number of Doors  \\\n",
       "0               6.0            MANUAL  rear wheel drive              2.0   \n",
       "1               6.0            MANUAL  rear wheel drive              2.0   \n",
       "2               6.0            MANUAL  rear wheel drive              2.0   \n",
       "3               6.0            MANUAL  rear wheel drive              2.0   \n",
       "4               6.0            MANUAL  rear wheel drive              2.0   \n",
       "\n",
       "                         Market Category Vehicle Size Vehicle Style  \\\n",
       "0  Factory Tuner,Luxury,High-Performance      Compact         Coupe   \n",
       "1                     Luxury,Performance      Compact   Convertible   \n",
       "2                Luxury,High-Performance      Compact         Coupe   \n",
       "3                     Luxury,Performance      Compact         Coupe   \n",
       "4                                 Luxury      Compact   Convertible   \n",
       "\n",
       "   highway MPG  city mpg  Popularity   MSRP  \n",
       "0           26        19        3916  46135  \n",
       "1           28        19        3916  40650  \n",
       "2           28        20        3916  36350  \n",
       "3           28        18        3916  29450  \n",
       "4           28        18        3916  34500  "
      ]
     },
     "execution_count": 29,
     "metadata": {},
     "output_type": "execute_result"
    }
   ],
   "source": [
    "df.head(5)"
   ]
  },
  {
   "cell_type": "markdown",
   "id": "2eddf1d3",
   "metadata": {},
   "source": [
    "# Data cleaning"
   ]
  },
  {
   "cell_type": "code",
   "execution_count": 30,
   "id": "2263b902",
   "metadata": {
    "scrolled": true
   },
   "outputs": [
    {
     "data": {
      "text/plain": [
       "4.0    8353\n",
       "2.0    3160\n",
       "3.0     395\n",
       "Name: Number of Doors, dtype: int64"
      ]
     },
     "execution_count": 30,
     "metadata": {},
     "output_type": "execute_result"
    }
   ],
   "source": [
    "df['Number of Doors'].value_counts()"
   ]
  },
  {
   "cell_type": "code",
   "execution_count": 31,
   "id": "da56795d",
   "metadata": {
    "scrolled": true
   },
   "outputs": [
    {
     "data": {
      "text/plain": [
       "4.0     4752\n",
       "6.0     4489\n",
       "8.0     2031\n",
       "12.0     230\n",
       "5.0      225\n",
       "10.0      68\n",
       "0.0       56\n",
       "3.0       30\n",
       "16.0       3\n",
       "Name: Engine Cylinders, dtype: int64"
      ]
     },
     "execution_count": 31,
     "metadata": {},
     "output_type": "execute_result"
    }
   ],
   "source": [
    "df['Engine Cylinders'].value_counts()"
   ]
  },
  {
   "cell_type": "code",
   "execution_count": 32,
   "id": "428e73b0",
   "metadata": {
    "scrolled": true
   },
   "outputs": [
    {
     "name": "stdout",
     "output_type": "stream",
     "text": [
      "<class 'pandas.core.frame.DataFrame'>\n",
      "RangeIndex: 11914 entries, 0 to 11913\n",
      "Data columns (total 16 columns):\n",
      " #   Column             Non-Null Count  Dtype  \n",
      "---  ------             --------------  -----  \n",
      " 0   Make               11914 non-null  object \n",
      " 1   Model              11914 non-null  object \n",
      " 2   Year               11914 non-null  int64  \n",
      " 3   Engine Fuel Type   11911 non-null  object \n",
      " 4   Engine HP          11845 non-null  float64\n",
      " 5   Engine Cylinders   11884 non-null  float64\n",
      " 6   Transmission Type  11914 non-null  object \n",
      " 7   Driven_Wheels      11914 non-null  object \n",
      " 8   Number of Doors    11908 non-null  float64\n",
      " 9   Market Category    8172 non-null   object \n",
      " 10  Vehicle Size       11914 non-null  object \n",
      " 11  Vehicle Style      11914 non-null  object \n",
      " 12  highway MPG        11914 non-null  int64  \n",
      " 13  city mpg           11914 non-null  int64  \n",
      " 14  Popularity         11914 non-null  int64  \n",
      " 15  MSRP               11914 non-null  int64  \n",
      "dtypes: float64(3), int64(5), object(8)\n",
      "memory usage: 1.5+ MB\n"
     ]
    }
   ],
   "source": [
    "df.info()"
   ]
  },
  {
   "cell_type": "code",
   "execution_count": 33,
   "id": "c5715c5c",
   "metadata": {},
   "outputs": [],
   "source": [
    "df['Engine HP'] = df['Engine HP'].fillna(0).astype(int)"
   ]
  },
  {
   "cell_type": "code",
   "execution_count": 34,
   "id": "2f87b333",
   "metadata": {},
   "outputs": [],
   "source": [
    "df['Engine Cylinders'] = df['Engine Cylinders'].fillna(0).astype(int)"
   ]
  },
  {
   "cell_type": "code",
   "execution_count": 35,
   "id": "8ca7aca7",
   "metadata": {},
   "outputs": [],
   "source": [
    "df['Number of Doors'] = df['Number of Doors'].fillna(0).astype(int)"
   ]
  },
  {
   "cell_type": "code",
   "execution_count": 36,
   "id": "87aeac4a",
   "metadata": {
    "scrolled": true
   },
   "outputs": [
    {
     "name": "stdout",
     "output_type": "stream",
     "text": [
      "<class 'pandas.core.frame.DataFrame'>\n",
      "RangeIndex: 11914 entries, 0 to 11913\n",
      "Data columns (total 16 columns):\n",
      " #   Column             Non-Null Count  Dtype \n",
      "---  ------             --------------  ----- \n",
      " 0   Make               11914 non-null  object\n",
      " 1   Model              11914 non-null  object\n",
      " 2   Year               11914 non-null  int64 \n",
      " 3   Engine Fuel Type   11911 non-null  object\n",
      " 4   Engine HP          11914 non-null  int32 \n",
      " 5   Engine Cylinders   11914 non-null  int32 \n",
      " 6   Transmission Type  11914 non-null  object\n",
      " 7   Driven_Wheels      11914 non-null  object\n",
      " 8   Number of Doors    11914 non-null  int32 \n",
      " 9   Market Category    8172 non-null   object\n",
      " 10  Vehicle Size       11914 non-null  object\n",
      " 11  Vehicle Style      11914 non-null  object\n",
      " 12  highway MPG        11914 non-null  int64 \n",
      " 13  city mpg           11914 non-null  int64 \n",
      " 14  Popularity         11914 non-null  int64 \n",
      " 15  MSRP               11914 non-null  int64 \n",
      "dtypes: int32(3), int64(5), object(8)\n",
      "memory usage: 1.3+ MB\n"
     ]
    }
   ],
   "source": [
    "df.info()"
   ]
  },
  {
   "cell_type": "markdown",
   "id": "177f39d1",
   "metadata": {},
   "source": [
    "df['Number of Doors'] = df['Number of Doors'].astype(object)"
   ]
  },
  {
   "cell_type": "code",
   "execution_count": 37,
   "id": "e03e9140",
   "metadata": {},
   "outputs": [
    {
     "data": {
      "text/plain": [
       "(11914, 16)"
      ]
     },
     "execution_count": 37,
     "metadata": {},
     "output_type": "execute_result"
    }
   ],
   "source": [
    "df.shape"
   ]
  },
  {
   "cell_type": "markdown",
   "id": "f4dc83b6",
   "metadata": {},
   "source": [
    "# Checking Duplicates"
   ]
  },
  {
   "cell_type": "code",
   "execution_count": 38,
   "id": "92567173",
   "metadata": {},
   "outputs": [
    {
     "data": {
      "text/plain": [
       "715"
      ]
     },
     "execution_count": 38,
     "metadata": {},
     "output_type": "execute_result"
    }
   ],
   "source": [
    "df.duplicated().sum()"
   ]
  },
  {
   "cell_type": "code",
   "execution_count": 39,
   "id": "c4ad6b51",
   "metadata": {},
   "outputs": [],
   "source": [
    "df.drop_duplicates(inplace=True)"
   ]
  },
  {
   "cell_type": "code",
   "execution_count": 40,
   "id": "6ac4d009",
   "metadata": {},
   "outputs": [
    {
     "data": {
      "text/plain": [
       "0"
      ]
     },
     "execution_count": 40,
     "metadata": {},
     "output_type": "execute_result"
    }
   ],
   "source": [
    "df.duplicated().sum()"
   ]
  },
  {
   "cell_type": "code",
   "execution_count": 41,
   "id": "7b2ddb80",
   "metadata": {},
   "outputs": [
    {
     "data": {
      "text/plain": [
       "(11199, 16)"
      ]
     },
     "execution_count": 41,
     "metadata": {},
     "output_type": "execute_result"
    }
   ],
   "source": [
    "df.shape"
   ]
  },
  {
   "cell_type": "code",
   "execution_count": 42,
   "id": "fd268d62",
   "metadata": {},
   "outputs": [
    {
     "data": {
      "text/html": [
       "<div>\n",
       "<style scoped>\n",
       "    .dataframe tbody tr th:only-of-type {\n",
       "        vertical-align: middle;\n",
       "    }\n",
       "\n",
       "    .dataframe tbody tr th {\n",
       "        vertical-align: top;\n",
       "    }\n",
       "\n",
       "    .dataframe thead th {\n",
       "        text-align: right;\n",
       "    }\n",
       "</style>\n",
       "<table border=\"1\" class=\"dataframe\">\n",
       "  <thead>\n",
       "    <tr style=\"text-align: right;\">\n",
       "      <th></th>\n",
       "      <th>Make</th>\n",
       "      <th>Model</th>\n",
       "      <th>Year</th>\n",
       "      <th>Engine Fuel Type</th>\n",
       "      <th>Engine HP</th>\n",
       "      <th>Engine Cylinders</th>\n",
       "      <th>Transmission Type</th>\n",
       "      <th>Driven_Wheels</th>\n",
       "      <th>Number of Doors</th>\n",
       "      <th>Market Category</th>\n",
       "      <th>Vehicle Size</th>\n",
       "      <th>Vehicle Style</th>\n",
       "      <th>highway MPG</th>\n",
       "      <th>city mpg</th>\n",
       "      <th>Popularity</th>\n",
       "      <th>MSRP</th>\n",
       "    </tr>\n",
       "  </thead>\n",
       "  <tbody>\n",
       "    <tr>\n",
       "      <th>0</th>\n",
       "      <td>BMW</td>\n",
       "      <td>1 Series</td>\n",
       "      <td>2011</td>\n",
       "      <td>premium unleaded (required)</td>\n",
       "      <td>335</td>\n",
       "      <td>6</td>\n",
       "      <td>MANUAL</td>\n",
       "      <td>rear wheel drive</td>\n",
       "      <td>2</td>\n",
       "      <td>Factory Tuner,Luxury,High-Performance</td>\n",
       "      <td>Compact</td>\n",
       "      <td>Coupe</td>\n",
       "      <td>26</td>\n",
       "      <td>19</td>\n",
       "      <td>3916</td>\n",
       "      <td>46135</td>\n",
       "    </tr>\n",
       "    <tr>\n",
       "      <th>1</th>\n",
       "      <td>BMW</td>\n",
       "      <td>1 Series</td>\n",
       "      <td>2011</td>\n",
       "      <td>premium unleaded (required)</td>\n",
       "      <td>300</td>\n",
       "      <td>6</td>\n",
       "      <td>MANUAL</td>\n",
       "      <td>rear wheel drive</td>\n",
       "      <td>2</td>\n",
       "      <td>Luxury,Performance</td>\n",
       "      <td>Compact</td>\n",
       "      <td>Convertible</td>\n",
       "      <td>28</td>\n",
       "      <td>19</td>\n",
       "      <td>3916</td>\n",
       "      <td>40650</td>\n",
       "    </tr>\n",
       "    <tr>\n",
       "      <th>2</th>\n",
       "      <td>BMW</td>\n",
       "      <td>1 Series</td>\n",
       "      <td>2011</td>\n",
       "      <td>premium unleaded (required)</td>\n",
       "      <td>300</td>\n",
       "      <td>6</td>\n",
       "      <td>MANUAL</td>\n",
       "      <td>rear wheel drive</td>\n",
       "      <td>2</td>\n",
       "      <td>Luxury,High-Performance</td>\n",
       "      <td>Compact</td>\n",
       "      <td>Coupe</td>\n",
       "      <td>28</td>\n",
       "      <td>20</td>\n",
       "      <td>3916</td>\n",
       "      <td>36350</td>\n",
       "    </tr>\n",
       "    <tr>\n",
       "      <th>3</th>\n",
       "      <td>BMW</td>\n",
       "      <td>1 Series</td>\n",
       "      <td>2011</td>\n",
       "      <td>premium unleaded (required)</td>\n",
       "      <td>230</td>\n",
       "      <td>6</td>\n",
       "      <td>MANUAL</td>\n",
       "      <td>rear wheel drive</td>\n",
       "      <td>2</td>\n",
       "      <td>Luxury,Performance</td>\n",
       "      <td>Compact</td>\n",
       "      <td>Coupe</td>\n",
       "      <td>28</td>\n",
       "      <td>18</td>\n",
       "      <td>3916</td>\n",
       "      <td>29450</td>\n",
       "    </tr>\n",
       "    <tr>\n",
       "      <th>4</th>\n",
       "      <td>BMW</td>\n",
       "      <td>1 Series</td>\n",
       "      <td>2011</td>\n",
       "      <td>premium unleaded (required)</td>\n",
       "      <td>230</td>\n",
       "      <td>6</td>\n",
       "      <td>MANUAL</td>\n",
       "      <td>rear wheel drive</td>\n",
       "      <td>2</td>\n",
       "      <td>Luxury</td>\n",
       "      <td>Compact</td>\n",
       "      <td>Convertible</td>\n",
       "      <td>28</td>\n",
       "      <td>18</td>\n",
       "      <td>3916</td>\n",
       "      <td>34500</td>\n",
       "    </tr>\n",
       "    <tr>\n",
       "      <th>...</th>\n",
       "      <td>...</td>\n",
       "      <td>...</td>\n",
       "      <td>...</td>\n",
       "      <td>...</td>\n",
       "      <td>...</td>\n",
       "      <td>...</td>\n",
       "      <td>...</td>\n",
       "      <td>...</td>\n",
       "      <td>...</td>\n",
       "      <td>...</td>\n",
       "      <td>...</td>\n",
       "      <td>...</td>\n",
       "      <td>...</td>\n",
       "      <td>...</td>\n",
       "      <td>...</td>\n",
       "      <td>...</td>\n",
       "    </tr>\n",
       "    <tr>\n",
       "      <th>11194</th>\n",
       "      <td>Acura</td>\n",
       "      <td>ZDX</td>\n",
       "      <td>2012</td>\n",
       "      <td>premium unleaded (required)</td>\n",
       "      <td>300</td>\n",
       "      <td>6</td>\n",
       "      <td>AUTOMATIC</td>\n",
       "      <td>all wheel drive</td>\n",
       "      <td>4</td>\n",
       "      <td>Crossover,Hatchback,Luxury</td>\n",
       "      <td>Midsize</td>\n",
       "      <td>4dr Hatchback</td>\n",
       "      <td>23</td>\n",
       "      <td>16</td>\n",
       "      <td>204</td>\n",
       "      <td>46120</td>\n",
       "    </tr>\n",
       "    <tr>\n",
       "      <th>11195</th>\n",
       "      <td>Acura</td>\n",
       "      <td>ZDX</td>\n",
       "      <td>2012</td>\n",
       "      <td>premium unleaded (required)</td>\n",
       "      <td>300</td>\n",
       "      <td>6</td>\n",
       "      <td>AUTOMATIC</td>\n",
       "      <td>all wheel drive</td>\n",
       "      <td>4</td>\n",
       "      <td>Crossover,Hatchback,Luxury</td>\n",
       "      <td>Midsize</td>\n",
       "      <td>4dr Hatchback</td>\n",
       "      <td>23</td>\n",
       "      <td>16</td>\n",
       "      <td>204</td>\n",
       "      <td>56670</td>\n",
       "    </tr>\n",
       "    <tr>\n",
       "      <th>11196</th>\n",
       "      <td>Acura</td>\n",
       "      <td>ZDX</td>\n",
       "      <td>2012</td>\n",
       "      <td>premium unleaded (required)</td>\n",
       "      <td>300</td>\n",
       "      <td>6</td>\n",
       "      <td>AUTOMATIC</td>\n",
       "      <td>all wheel drive</td>\n",
       "      <td>4</td>\n",
       "      <td>Crossover,Hatchback,Luxury</td>\n",
       "      <td>Midsize</td>\n",
       "      <td>4dr Hatchback</td>\n",
       "      <td>23</td>\n",
       "      <td>16</td>\n",
       "      <td>204</td>\n",
       "      <td>50620</td>\n",
       "    </tr>\n",
       "    <tr>\n",
       "      <th>11197</th>\n",
       "      <td>Acura</td>\n",
       "      <td>ZDX</td>\n",
       "      <td>2013</td>\n",
       "      <td>premium unleaded (recommended)</td>\n",
       "      <td>300</td>\n",
       "      <td>6</td>\n",
       "      <td>AUTOMATIC</td>\n",
       "      <td>all wheel drive</td>\n",
       "      <td>4</td>\n",
       "      <td>Crossover,Hatchback,Luxury</td>\n",
       "      <td>Midsize</td>\n",
       "      <td>4dr Hatchback</td>\n",
       "      <td>23</td>\n",
       "      <td>16</td>\n",
       "      <td>204</td>\n",
       "      <td>50920</td>\n",
       "    </tr>\n",
       "    <tr>\n",
       "      <th>11198</th>\n",
       "      <td>Lincoln</td>\n",
       "      <td>Zephyr</td>\n",
       "      <td>2006</td>\n",
       "      <td>regular unleaded</td>\n",
       "      <td>221</td>\n",
       "      <td>6</td>\n",
       "      <td>AUTOMATIC</td>\n",
       "      <td>front wheel drive</td>\n",
       "      <td>4</td>\n",
       "      <td>Luxury</td>\n",
       "      <td>Midsize</td>\n",
       "      <td>Sedan</td>\n",
       "      <td>26</td>\n",
       "      <td>17</td>\n",
       "      <td>61</td>\n",
       "      <td>28995</td>\n",
       "    </tr>\n",
       "  </tbody>\n",
       "</table>\n",
       "<p>11199 rows × 16 columns</p>\n",
       "</div>"
      ],
      "text/plain": [
       "          Make     Model  Year                Engine Fuel Type  Engine HP  \\\n",
       "0          BMW  1 Series  2011     premium unleaded (required)        335   \n",
       "1          BMW  1 Series  2011     premium unleaded (required)        300   \n",
       "2          BMW  1 Series  2011     premium unleaded (required)        300   \n",
       "3          BMW  1 Series  2011     premium unleaded (required)        230   \n",
       "4          BMW  1 Series  2011     premium unleaded (required)        230   \n",
       "...        ...       ...   ...                             ...        ...   \n",
       "11194    Acura       ZDX  2012     premium unleaded (required)        300   \n",
       "11195    Acura       ZDX  2012     premium unleaded (required)        300   \n",
       "11196    Acura       ZDX  2012     premium unleaded (required)        300   \n",
       "11197    Acura       ZDX  2013  premium unleaded (recommended)        300   \n",
       "11198  Lincoln    Zephyr  2006                regular unleaded        221   \n",
       "\n",
       "       Engine Cylinders Transmission Type      Driven_Wheels  Number of Doors  \\\n",
       "0                     6            MANUAL   rear wheel drive                2   \n",
       "1                     6            MANUAL   rear wheel drive                2   \n",
       "2                     6            MANUAL   rear wheel drive                2   \n",
       "3                     6            MANUAL   rear wheel drive                2   \n",
       "4                     6            MANUAL   rear wheel drive                2   \n",
       "...                 ...               ...                ...              ...   \n",
       "11194                 6         AUTOMATIC    all wheel drive                4   \n",
       "11195                 6         AUTOMATIC    all wheel drive                4   \n",
       "11196                 6         AUTOMATIC    all wheel drive                4   \n",
       "11197                 6         AUTOMATIC    all wheel drive                4   \n",
       "11198                 6         AUTOMATIC  front wheel drive                4   \n",
       "\n",
       "                             Market Category Vehicle Size  Vehicle Style  \\\n",
       "0      Factory Tuner,Luxury,High-Performance      Compact          Coupe   \n",
       "1                         Luxury,Performance      Compact    Convertible   \n",
       "2                    Luxury,High-Performance      Compact          Coupe   \n",
       "3                         Luxury,Performance      Compact          Coupe   \n",
       "4                                     Luxury      Compact    Convertible   \n",
       "...                                      ...          ...            ...   \n",
       "11194             Crossover,Hatchback,Luxury      Midsize  4dr Hatchback   \n",
       "11195             Crossover,Hatchback,Luxury      Midsize  4dr Hatchback   \n",
       "11196             Crossover,Hatchback,Luxury      Midsize  4dr Hatchback   \n",
       "11197             Crossover,Hatchback,Luxury      Midsize  4dr Hatchback   \n",
       "11198                                 Luxury      Midsize          Sedan   \n",
       "\n",
       "       highway MPG  city mpg  Popularity   MSRP  \n",
       "0               26        19        3916  46135  \n",
       "1               28        19        3916  40650  \n",
       "2               28        20        3916  36350  \n",
       "3               28        18        3916  29450  \n",
       "4               28        18        3916  34500  \n",
       "...            ...       ...         ...    ...  \n",
       "11194           23        16         204  46120  \n",
       "11195           23        16         204  56670  \n",
       "11196           23        16         204  50620  \n",
       "11197           23        16         204  50920  \n",
       "11198           26        17          61  28995  \n",
       "\n",
       "[11199 rows x 16 columns]"
      ]
     },
     "execution_count": 42,
     "metadata": {},
     "output_type": "execute_result"
    }
   ],
   "source": [
    "df.reset_index(drop=True)"
   ]
  },
  {
   "cell_type": "markdown",
   "id": "99a24d0a",
   "metadata": {},
   "source": [
    "# Missing values"
   ]
  },
  {
   "cell_type": "code",
   "execution_count": 43,
   "id": "2e448236",
   "metadata": {},
   "outputs": [
    {
     "data": {
      "text/plain": [
       "Make                    0\n",
       "Model                   0\n",
       "Year                    0\n",
       "Engine Fuel Type        3\n",
       "Engine HP               0\n",
       "Engine Cylinders        0\n",
       "Transmission Type       0\n",
       "Driven_Wheels           0\n",
       "Number of Doors         0\n",
       "Market Category      3376\n",
       "Vehicle Size            0\n",
       "Vehicle Style           0\n",
       "highway MPG             0\n",
       "city mpg                0\n",
       "Popularity              0\n",
       "MSRP                    0\n",
       "dtype: int64"
      ]
     },
     "execution_count": 43,
     "metadata": {},
     "output_type": "execute_result"
    }
   ],
   "source": [
    "df.isna().sum()"
   ]
  },
  {
   "cell_type": "markdown",
   "id": "f2e0a4d0",
   "metadata": {},
   "source": [
    "Categorical values replaces with mode() i.e[Number of Doors, Market Category,Engine Fuel Type]"
   ]
  },
  {
   "cell_type": "code",
   "execution_count": 44,
   "id": "144d1b9c",
   "metadata": {},
   "outputs": [
    {
     "data": {
      "text/plain": [
       "0    4\n",
       "Name: Number of Doors, dtype: int32"
      ]
     },
     "execution_count": 44,
     "metadata": {},
     "output_type": "execute_result"
    }
   ],
   "source": [
    "df[\"Number of Doors\"].mode()"
   ]
  },
  {
   "cell_type": "code",
   "execution_count": 45,
   "id": "316ef31e",
   "metadata": {},
   "outputs": [
    {
     "data": {
      "text/plain": [
       "0"
      ]
     },
     "execution_count": 45,
     "metadata": {},
     "output_type": "execute_result"
    }
   ],
   "source": [
    "md=df[\"Number of Doors\"].mode()[0]\n",
    "df[\"Number of Doors\"].replace(np.nan,md, inplace=True)\n",
    "df[\"Number of Doors\"].isna().sum()"
   ]
  },
  {
   "cell_type": "code",
   "execution_count": 46,
   "id": "8c9ea676",
   "metadata": {},
   "outputs": [
    {
     "data": {
      "text/plain": [
       "0    Crossover\n",
       "Name: Market Category, dtype: object"
      ]
     },
     "execution_count": 46,
     "metadata": {},
     "output_type": "execute_result"
    }
   ],
   "source": [
    "df[\"Market Category\"].mode()"
   ]
  },
  {
   "cell_type": "code",
   "execution_count": 47,
   "id": "29564615",
   "metadata": {},
   "outputs": [
    {
     "data": {
      "text/plain": [
       "0"
      ]
     },
     "execution_count": 47,
     "metadata": {},
     "output_type": "execute_result"
    }
   ],
   "source": [
    "md=df[\"Market Category\"].mode()[0]\n",
    "df[\"Market Category\"].replace(np.nan,md, inplace=True)\n",
    "df[\"Market Category\"].isna().sum()"
   ]
  },
  {
   "cell_type": "code",
   "execution_count": 48,
   "id": "96ba6cde",
   "metadata": {},
   "outputs": [
    {
     "data": {
      "text/plain": [
       "0    regular unleaded\n",
       "Name: Engine Fuel Type, dtype: object"
      ]
     },
     "execution_count": 48,
     "metadata": {},
     "output_type": "execute_result"
    }
   ],
   "source": [
    "df[\"Engine Fuel Type\"].mode()"
   ]
  },
  {
   "cell_type": "code",
   "execution_count": 49,
   "id": "7489bf41",
   "metadata": {},
   "outputs": [
    {
     "data": {
      "text/plain": [
       "0"
      ]
     },
     "execution_count": 49,
     "metadata": {},
     "output_type": "execute_result"
    }
   ],
   "source": [
    "md=df[\"Engine Fuel Type\"].mode()[0]\n",
    "df[\"Engine Fuel Type\"].replace(np.nan,md, inplace=True)\n",
    "df[\"Engine Fuel Type\"].isna().sum()"
   ]
  },
  {
   "cell_type": "code",
   "execution_count": 50,
   "id": "d2002c84",
   "metadata": {},
   "outputs": [
    {
     "data": {
      "text/plain": [
       "Make                 0\n",
       "Model                0\n",
       "Year                 0\n",
       "Engine Fuel Type     0\n",
       "Engine HP            0\n",
       "Engine Cylinders     0\n",
       "Transmission Type    0\n",
       "Driven_Wheels        0\n",
       "Number of Doors      0\n",
       "Market Category      0\n",
       "Vehicle Size         0\n",
       "Vehicle Style        0\n",
       "highway MPG          0\n",
       "city mpg             0\n",
       "Popularity           0\n",
       "MSRP                 0\n",
       "dtype: int64"
      ]
     },
     "execution_count": 50,
     "metadata": {},
     "output_type": "execute_result"
    }
   ],
   "source": [
    "df.isna().sum()"
   ]
  },
  {
   "cell_type": "code",
   "execution_count": 51,
   "id": "1fb4bfa3",
   "metadata": {},
   "outputs": [
    {
     "data": {
      "text/html": [
       "<div>\n",
       "<style scoped>\n",
       "    .dataframe tbody tr th:only-of-type {\n",
       "        vertical-align: middle;\n",
       "    }\n",
       "\n",
       "    .dataframe tbody tr th {\n",
       "        vertical-align: top;\n",
       "    }\n",
       "\n",
       "    .dataframe thead th {\n",
       "        text-align: right;\n",
       "    }\n",
       "</style>\n",
       "<table border=\"1\" class=\"dataframe\">\n",
       "  <thead>\n",
       "    <tr style=\"text-align: right;\">\n",
       "      <th></th>\n",
       "      <th>Make</th>\n",
       "      <th>Model</th>\n",
       "      <th>Year</th>\n",
       "      <th>Engine Fuel Type</th>\n",
       "      <th>Engine HP</th>\n",
       "      <th>Engine Cylinders</th>\n",
       "      <th>Transmission Type</th>\n",
       "      <th>Driven_Wheels</th>\n",
       "      <th>Number of Doors</th>\n",
       "      <th>Market Category</th>\n",
       "      <th>Vehicle Size</th>\n",
       "      <th>Vehicle Style</th>\n",
       "      <th>highway MPG</th>\n",
       "      <th>city mpg</th>\n",
       "      <th>Popularity</th>\n",
       "      <th>MSRP</th>\n",
       "    </tr>\n",
       "  </thead>\n",
       "  <tbody>\n",
       "    <tr>\n",
       "      <th>0</th>\n",
       "      <td>BMW</td>\n",
       "      <td>1 Series</td>\n",
       "      <td>2011</td>\n",
       "      <td>premium unleaded (required)</td>\n",
       "      <td>335</td>\n",
       "      <td>6</td>\n",
       "      <td>MANUAL</td>\n",
       "      <td>rear wheel drive</td>\n",
       "      <td>2</td>\n",
       "      <td>Factory Tuner,Luxury,High-Performance</td>\n",
       "      <td>Compact</td>\n",
       "      <td>Coupe</td>\n",
       "      <td>26</td>\n",
       "      <td>19</td>\n",
       "      <td>3916</td>\n",
       "      <td>46135</td>\n",
       "    </tr>\n",
       "    <tr>\n",
       "      <th>1</th>\n",
       "      <td>BMW</td>\n",
       "      <td>1 Series</td>\n",
       "      <td>2011</td>\n",
       "      <td>premium unleaded (required)</td>\n",
       "      <td>300</td>\n",
       "      <td>6</td>\n",
       "      <td>MANUAL</td>\n",
       "      <td>rear wheel drive</td>\n",
       "      <td>2</td>\n",
       "      <td>Luxury,Performance</td>\n",
       "      <td>Compact</td>\n",
       "      <td>Convertible</td>\n",
       "      <td>28</td>\n",
       "      <td>19</td>\n",
       "      <td>3916</td>\n",
       "      <td>40650</td>\n",
       "    </tr>\n",
       "    <tr>\n",
       "      <th>2</th>\n",
       "      <td>BMW</td>\n",
       "      <td>1 Series</td>\n",
       "      <td>2011</td>\n",
       "      <td>premium unleaded (required)</td>\n",
       "      <td>300</td>\n",
       "      <td>6</td>\n",
       "      <td>MANUAL</td>\n",
       "      <td>rear wheel drive</td>\n",
       "      <td>2</td>\n",
       "      <td>Luxury,High-Performance</td>\n",
       "      <td>Compact</td>\n",
       "      <td>Coupe</td>\n",
       "      <td>28</td>\n",
       "      <td>20</td>\n",
       "      <td>3916</td>\n",
       "      <td>36350</td>\n",
       "    </tr>\n",
       "    <tr>\n",
       "      <th>3</th>\n",
       "      <td>BMW</td>\n",
       "      <td>1 Series</td>\n",
       "      <td>2011</td>\n",
       "      <td>premium unleaded (required)</td>\n",
       "      <td>230</td>\n",
       "      <td>6</td>\n",
       "      <td>MANUAL</td>\n",
       "      <td>rear wheel drive</td>\n",
       "      <td>2</td>\n",
       "      <td>Luxury,Performance</td>\n",
       "      <td>Compact</td>\n",
       "      <td>Coupe</td>\n",
       "      <td>28</td>\n",
       "      <td>18</td>\n",
       "      <td>3916</td>\n",
       "      <td>29450</td>\n",
       "    </tr>\n",
       "    <tr>\n",
       "      <th>4</th>\n",
       "      <td>BMW</td>\n",
       "      <td>1 Series</td>\n",
       "      <td>2011</td>\n",
       "      <td>premium unleaded (required)</td>\n",
       "      <td>230</td>\n",
       "      <td>6</td>\n",
       "      <td>MANUAL</td>\n",
       "      <td>rear wheel drive</td>\n",
       "      <td>2</td>\n",
       "      <td>Luxury</td>\n",
       "      <td>Compact</td>\n",
       "      <td>Convertible</td>\n",
       "      <td>28</td>\n",
       "      <td>18</td>\n",
       "      <td>3916</td>\n",
       "      <td>34500</td>\n",
       "    </tr>\n",
       "  </tbody>\n",
       "</table>\n",
       "</div>"
      ],
      "text/plain": [
       "  Make     Model  Year             Engine Fuel Type  Engine HP  \\\n",
       "0  BMW  1 Series  2011  premium unleaded (required)        335   \n",
       "1  BMW  1 Series  2011  premium unleaded (required)        300   \n",
       "2  BMW  1 Series  2011  premium unleaded (required)        300   \n",
       "3  BMW  1 Series  2011  premium unleaded (required)        230   \n",
       "4  BMW  1 Series  2011  premium unleaded (required)        230   \n",
       "\n",
       "   Engine Cylinders Transmission Type     Driven_Wheels  Number of Doors  \\\n",
       "0                 6            MANUAL  rear wheel drive                2   \n",
       "1                 6            MANUAL  rear wheel drive                2   \n",
       "2                 6            MANUAL  rear wheel drive                2   \n",
       "3                 6            MANUAL  rear wheel drive                2   \n",
       "4                 6            MANUAL  rear wheel drive                2   \n",
       "\n",
       "                         Market Category Vehicle Size Vehicle Style  \\\n",
       "0  Factory Tuner,Luxury,High-Performance      Compact         Coupe   \n",
       "1                     Luxury,Performance      Compact   Convertible   \n",
       "2                Luxury,High-Performance      Compact         Coupe   \n",
       "3                     Luxury,Performance      Compact         Coupe   \n",
       "4                                 Luxury      Compact   Convertible   \n",
       "\n",
       "   highway MPG  city mpg  Popularity   MSRP  \n",
       "0           26        19        3916  46135  \n",
       "1           28        19        3916  40650  \n",
       "2           28        20        3916  36350  \n",
       "3           28        18        3916  29450  \n",
       "4           28        18        3916  34500  "
      ]
     },
     "execution_count": 51,
     "metadata": {},
     "output_type": "execute_result"
    }
   ],
   "source": [
    "df.head(5)"
   ]
  },
  {
   "cell_type": "code",
   "execution_count": 52,
   "id": "37b68ad9",
   "metadata": {},
   "outputs": [
    {
     "data": {
      "text/plain": [
       "<seaborn.axisgrid.FacetGrid at 0x206a38c4040>"
      ]
     },
     "execution_count": 52,
     "metadata": {},
     "output_type": "execute_result"
    },
    {
     "data": {
      "image/png": "[encoded data removed]",
      "text/plain": [
       "<Figure size 360x360 with 1 Axes>"
      ]
     },
     "metadata": {
      "needs_background": "light"
     },
     "output_type": "display_data"
    }
   ],
   "source": [
    "import seaborn as sns\n",
    "sns.displot(df[\"Engine HP\"])"
   ]
  },
  {
   "cell_type": "code",
   "execution_count": 53,
   "id": "71a9c6bd",
   "metadata": {},
   "outputs": [
    {
     "name": "stdout",
     "output_type": "stream",
     "text": [
      "not normal distribution\n"
     ]
    },
    {
     "name": "stderr",
     "output_type": "stream",
     "text": [
      "C:\\Users\\Bharath Atla\\anaconda3\\lib\\site-packages\\scipy\\stats\\morestats.py:1760: UserWarning: p-value may not be accurate for N > 5000.\n",
      "  warnings.warn(\"p-value may not be accurate for N > 5000.\")\n"
     ]
    }
   ],
   "source": [
    "from scipy.stats import shapiro\n",
    "[0.1,0.05,0.01]\n",
    "stat,p=shapiro(df[\"Engine HP\"])\n",
    "if p>0.1:\n",
    "    print(\"it follows normal distribution\")\n",
    "else:\n",
    "    print(\"not normal distribution\")"
   ]
  },
  {
   "cell_type": "markdown",
   "id": "50d86fd6",
   "metadata": {},
   "source": [
    "Graph follows normal distribution. so replace with mean"
   ]
  },
  {
   "cell_type": "code",
   "execution_count": 54,
   "id": "4fdba1bb",
   "metadata": {},
   "outputs": [
    {
     "data": {
      "text/plain": [
       "200    378\n",
       "170    261\n",
       "240    251\n",
       "285    246\n",
       "210    243\n",
       "      ... \n",
       "372      1\n",
       "154      1\n",
       "361      1\n",
       "451      1\n",
       "151      1\n",
       "Name: Engine HP, Length: 357, dtype: int64"
      ]
     },
     "execution_count": 54,
     "metadata": {},
     "output_type": "execute_result"
    }
   ],
   "source": [
    "df['Engine HP'].value_counts()"
   ]
  },
  {
   "cell_type": "code",
   "execution_count": 55,
   "id": "270b3950",
   "metadata": {},
   "outputs": [
    {
     "data": {
      "text/plain": [
       "251.82766318421287"
      ]
     },
     "execution_count": 55,
     "metadata": {},
     "output_type": "execute_result"
    }
   ],
   "source": [
    "df[\"Engine HP\"].mean()"
   ]
  },
  {
   "cell_type": "code",
   "execution_count": 56,
   "id": "13b3b4a6",
   "metadata": {},
   "outputs": [],
   "source": [
    "df['Engine HP'].fillna(df['Engine HP'].mean(), inplace = True)"
   ]
  },
  {
   "cell_type": "code",
   "execution_count": 57,
   "id": "f67cfd28",
   "metadata": {
    "scrolled": true
   },
   "outputs": [
    {
     "data": {
      "text/plain": [
       "<seaborn.axisgrid.FacetGrid at 0x206a2890df0>"
      ]
     },
     "execution_count": 57,
     "metadata": {},
     "output_type": "execute_result"
    },
    {
     "data": {
      "image/png": "[encoded data removed]",
      "text/plain": [
       "<Figure size 360x360 with 1 Axes>"
      ]
     },
     "metadata": {
      "needs_background": "light"
     },
     "output_type": "display_data"
    }
   ],
   "source": [
    "sns.displot(df[\"Engine Cylinders\"])"
   ]
  },
  {
   "cell_type": "code",
   "execution_count": 58,
   "id": "7e855c7a",
   "metadata": {},
   "outputs": [
    {
     "name": "stdout",
     "output_type": "stream",
     "text": [
      "not normal distribution\n"
     ]
    },
    {
     "name": "stderr",
     "output_type": "stream",
     "text": [
      "C:\\Users\\Bharath Atla\\anaconda3\\lib\\site-packages\\scipy\\stats\\morestats.py:1760: UserWarning: p-value may not be accurate for N > 5000.\n",
      "  warnings.warn(\"p-value may not be accurate for N > 5000.\")\n"
     ]
    }
   ],
   "source": [
    "from scipy.stats import shapiro\n",
    "[0.1,0.05,0.01]\n",
    "stat,p=shapiro(df[\"Engine Cylinders\"])\n",
    "if p>0.1:\n",
    "    print(\"it follows normal distribution\")\n",
    "else:\n",
    "    print(\"not normal distribution\")"
   ]
  },
  {
   "cell_type": "markdown",
   "id": "a01435b7",
   "metadata": {},
   "source": [
    "Graph follows normal distribution. so replace with mean()"
   ]
  },
  {
   "cell_type": "code",
   "execution_count": 59,
   "id": "bb441bb8",
   "metadata": {},
   "outputs": [
    {
     "data": {
      "text/plain": [
       "6.0"
      ]
     },
     "execution_count": 59,
     "metadata": {},
     "output_type": "execute_result"
    }
   ],
   "source": [
    "df['Engine Cylinders'].median()"
   ]
  },
  {
   "cell_type": "code",
   "execution_count": 60,
   "id": "e9a279c2",
   "metadata": {},
   "outputs": [],
   "source": [
    "df['Engine Cylinders'].fillna(df['Engine Cylinders'].median(), inplace = True)"
   ]
  },
  {
   "cell_type": "code",
   "execution_count": 61,
   "id": "4892d2af",
   "metadata": {},
   "outputs": [
    {
     "data": {
      "text/plain": [
       "Make                 0\n",
       "Model                0\n",
       "Year                 0\n",
       "Engine Fuel Type     0\n",
       "Engine HP            0\n",
       "Engine Cylinders     0\n",
       "Transmission Type    0\n",
       "Driven_Wheels        0\n",
       "Number of Doors      0\n",
       "Market Category      0\n",
       "Vehicle Size         0\n",
       "Vehicle Style        0\n",
       "highway MPG          0\n",
       "city mpg             0\n",
       "Popularity           0\n",
       "MSRP                 0\n",
       "dtype: int64"
      ]
     },
     "execution_count": 61,
     "metadata": {},
     "output_type": "execute_result"
    }
   ],
   "source": [
    "df.isna().sum()"
   ]
  },
  {
   "cell_type": "markdown",
   "id": "308dbd1e",
   "metadata": {},
   "source": [
    "Finally No Missing values "
   ]
  },
  {
   "cell_type": "markdown",
   "id": "0fde01f7",
   "metadata": {},
   "source": [
    "# Outliers"
   ]
  },
  {
   "cell_type": "code",
   "execution_count": 62,
   "id": "d77fd5c7",
   "metadata": {},
   "outputs": [
    {
     "data": {
      "text/plain": [
       "Make                 object\n",
       "Model                object\n",
       "Year                  int64\n",
       "Engine Fuel Type     object\n",
       "Engine HP             int32\n",
       "Engine Cylinders      int32\n",
       "Transmission Type    object\n",
       "Driven_Wheels        object\n",
       "Number of Doors       int32\n",
       "Market Category      object\n",
       "Vehicle Size         object\n",
       "Vehicle Style        object\n",
       "highway MPG           int64\n",
       "city mpg              int64\n",
       "Popularity            int64\n",
       "MSRP                  int64\n",
       "dtype: object"
      ]
     },
     "execution_count": 62,
     "metadata": {},
     "output_type": "execute_result"
    }
   ],
   "source": [
    "df.dtypes"
   ]
  },
  {
   "cell_type": "markdown",
   "id": "e0f1564f",
   "metadata": {},
   "source": [
    "df['Number of Doors'] = df['Number of Doors'].astype(object)"
   ]
  },
  {
   "cell_type": "markdown",
   "id": "d243a83b",
   "metadata": {},
   "source": [
    "df['Engine Cylinders'] = df['Engine Cylinders'].astype(object)"
   ]
  },
  {
   "cell_type": "code",
   "execution_count": 63,
   "id": "f4ce1286",
   "metadata": {},
   "outputs": [
    {
     "data": {
      "text/plain": [
       "Make                 object\n",
       "Model                object\n",
       "Year                  int64\n",
       "Engine Fuel Type     object\n",
       "Engine HP             int32\n",
       "Engine Cylinders      int32\n",
       "Transmission Type    object\n",
       "Driven_Wheels        object\n",
       "Number of Doors       int32\n",
       "Market Category      object\n",
       "Vehicle Size         object\n",
       "Vehicle Style        object\n",
       "highway MPG           int64\n",
       "city mpg              int64\n",
       "Popularity            int64\n",
       "MSRP                  int64\n",
       "dtype: object"
      ]
     },
     "execution_count": 63,
     "metadata": {},
     "output_type": "execute_result"
    }
   ],
   "source": [
    "df.dtypes"
   ]
  },
  {
   "cell_type": "code",
   "execution_count": 64,
   "id": "ca463c5e",
   "metadata": {},
   "outputs": [
    {
     "data": {
      "text/html": [
       "<div>\n",
       "<style scoped>\n",
       "    .dataframe tbody tr th:only-of-type {\n",
       "        vertical-align: middle;\n",
       "    }\n",
       "\n",
       "    .dataframe tbody tr th {\n",
       "        vertical-align: top;\n",
       "    }\n",
       "\n",
       "    .dataframe thead th {\n",
       "        text-align: right;\n",
       "    }\n",
       "</style>\n",
       "<table border=\"1\" class=\"dataframe\">\n",
       "  <thead>\n",
       "    <tr style=\"text-align: right;\">\n",
       "      <th></th>\n",
       "      <th>Make</th>\n",
       "      <th>Model</th>\n",
       "      <th>Year</th>\n",
       "      <th>Engine Fuel Type</th>\n",
       "      <th>Engine HP</th>\n",
       "      <th>Engine Cylinders</th>\n",
       "      <th>Transmission Type</th>\n",
       "      <th>Driven_Wheels</th>\n",
       "      <th>Number of Doors</th>\n",
       "      <th>Market Category</th>\n",
       "      <th>Vehicle Size</th>\n",
       "      <th>Vehicle Style</th>\n",
       "      <th>highway MPG</th>\n",
       "      <th>city mpg</th>\n",
       "      <th>Popularity</th>\n",
       "      <th>MSRP</th>\n",
       "    </tr>\n",
       "  </thead>\n",
       "  <tbody>\n",
       "    <tr>\n",
       "      <th>0</th>\n",
       "      <td>BMW</td>\n",
       "      <td>1 Series</td>\n",
       "      <td>2011</td>\n",
       "      <td>premium unleaded (required)</td>\n",
       "      <td>335</td>\n",
       "      <td>6</td>\n",
       "      <td>MANUAL</td>\n",
       "      <td>rear wheel drive</td>\n",
       "      <td>2</td>\n",
       "      <td>Factory Tuner,Luxury,High-Performance</td>\n",
       "      <td>Compact</td>\n",
       "      <td>Coupe</td>\n",
       "      <td>26</td>\n",
       "      <td>19</td>\n",
       "      <td>3916</td>\n",
       "      <td>46135</td>\n",
       "    </tr>\n",
       "    <tr>\n",
       "      <th>1</th>\n",
       "      <td>BMW</td>\n",
       "      <td>1 Series</td>\n",
       "      <td>2011</td>\n",
       "      <td>premium unleaded (required)</td>\n",
       "      <td>300</td>\n",
       "      <td>6</td>\n",
       "      <td>MANUAL</td>\n",
       "      <td>rear wheel drive</td>\n",
       "      <td>2</td>\n",
       "      <td>Luxury,Performance</td>\n",
       "      <td>Compact</td>\n",
       "      <td>Convertible</td>\n",
       "      <td>28</td>\n",
       "      <td>19</td>\n",
       "      <td>3916</td>\n",
       "      <td>40650</td>\n",
       "    </tr>\n",
       "    <tr>\n",
       "      <th>2</th>\n",
       "      <td>BMW</td>\n",
       "      <td>1 Series</td>\n",
       "      <td>2011</td>\n",
       "      <td>premium unleaded (required)</td>\n",
       "      <td>300</td>\n",
       "      <td>6</td>\n",
       "      <td>MANUAL</td>\n",
       "      <td>rear wheel drive</td>\n",
       "      <td>2</td>\n",
       "      <td>Luxury,High-Performance</td>\n",
       "      <td>Compact</td>\n",
       "      <td>Coupe</td>\n",
       "      <td>28</td>\n",
       "      <td>20</td>\n",
       "      <td>3916</td>\n",
       "      <td>36350</td>\n",
       "    </tr>\n",
       "    <tr>\n",
       "      <th>3</th>\n",
       "      <td>BMW</td>\n",
       "      <td>1 Series</td>\n",
       "      <td>2011</td>\n",
       "      <td>premium unleaded (required)</td>\n",
       "      <td>230</td>\n",
       "      <td>6</td>\n",
       "      <td>MANUAL</td>\n",
       "      <td>rear wheel drive</td>\n",
       "      <td>2</td>\n",
       "      <td>Luxury,Performance</td>\n",
       "      <td>Compact</td>\n",
       "      <td>Coupe</td>\n",
       "      <td>28</td>\n",
       "      <td>18</td>\n",
       "      <td>3916</td>\n",
       "      <td>29450</td>\n",
       "    </tr>\n",
       "    <tr>\n",
       "      <th>4</th>\n",
       "      <td>BMW</td>\n",
       "      <td>1 Series</td>\n",
       "      <td>2011</td>\n",
       "      <td>premium unleaded (required)</td>\n",
       "      <td>230</td>\n",
       "      <td>6</td>\n",
       "      <td>MANUAL</td>\n",
       "      <td>rear wheel drive</td>\n",
       "      <td>2</td>\n",
       "      <td>Luxury</td>\n",
       "      <td>Compact</td>\n",
       "      <td>Convertible</td>\n",
       "      <td>28</td>\n",
       "      <td>18</td>\n",
       "      <td>3916</td>\n",
       "      <td>34500</td>\n",
       "    </tr>\n",
       "  </tbody>\n",
       "</table>\n",
       "</div>"
      ],
      "text/plain": [
       "  Make     Model  Year             Engine Fuel Type  Engine HP  \\\n",
       "0  BMW  1 Series  2011  premium unleaded (required)        335   \n",
       "1  BMW  1 Series  2011  premium unleaded (required)        300   \n",
       "2  BMW  1 Series  2011  premium unleaded (required)        300   \n",
       "3  BMW  1 Series  2011  premium unleaded (required)        230   \n",
       "4  BMW  1 Series  2011  premium unleaded (required)        230   \n",
       "\n",
       "   Engine Cylinders Transmission Type     Driven_Wheels  Number of Doors  \\\n",
       "0                 6            MANUAL  rear wheel drive                2   \n",
       "1                 6            MANUAL  rear wheel drive                2   \n",
       "2                 6            MANUAL  rear wheel drive                2   \n",
       "3                 6            MANUAL  rear wheel drive                2   \n",
       "4                 6            MANUAL  rear wheel drive                2   \n",
       "\n",
       "                         Market Category Vehicle Size Vehicle Style  \\\n",
       "0  Factory Tuner,Luxury,High-Performance      Compact         Coupe   \n",
       "1                     Luxury,Performance      Compact   Convertible   \n",
       "2                Luxury,High-Performance      Compact         Coupe   \n",
       "3                     Luxury,Performance      Compact         Coupe   \n",
       "4                                 Luxury      Compact   Convertible   \n",
       "\n",
       "   highway MPG  city mpg  Popularity   MSRP  \n",
       "0           26        19        3916  46135  \n",
       "1           28        19        3916  40650  \n",
       "2           28        20        3916  36350  \n",
       "3           28        18        3916  29450  \n",
       "4           28        18        3916  34500  "
      ]
     },
     "execution_count": 64,
     "metadata": {},
     "output_type": "execute_result"
    }
   ],
   "source": [
    "df.head(5)"
   ]
  },
  {
   "cell_type": "code",
   "execution_count": 65,
   "id": "8d01ce52",
   "metadata": {},
   "outputs": [
    {
     "name": "stderr",
     "output_type": "stream",
     "text": [
      "C:\\Users\\Bharath Atla\\anaconda3\\lib\\site-packages\\seaborn\\_decorators.py:36: FutureWarning: Pass the following variable as a keyword arg: x. From version 0.12, the only valid positional argument will be `data`, and passing other arguments without an explicit keyword will result in an error or misinterpretation.\n",
      "  warnings.warn(\n"
     ]
    },
    {
     "data": {
      "text/plain": [
       "<AxesSubplot:xlabel='Year'>"
      ]
     },
     "execution_count": 65,
     "metadata": {},
     "output_type": "execute_result"
    },
    {
     "data": {
      "image/png": "[encoded data removed]",
      "text/plain": [
       "<Figure size 432x288 with 1 Axes>"
      ]
     },
     "metadata": {
      "needs_background": "light"
     },
     "output_type": "display_data"
    }
   ],
   "source": [
    "import seaborn\n",
    "sns.boxplot(df[\"Year\"])"
   ]
  },
  {
   "cell_type": "code",
   "execution_count": 66,
   "id": "83ab163d",
   "metadata": {},
   "outputs": [
    {
     "name": "stdout",
     "output_type": "stream",
     "text": [
      "1992 1993.5 2029.5\n",
      "1993 1993.5 2029.5\n",
      "1991 1993.5 2029.5\n",
      "1990 1993.5 2029.5\n"
     ]
    }
   ],
   "source": [
    "import numpy as np\n",
    "col=df[\"Year\"]\n",
    "q1=np.quantile(col, 0.25)\n",
    "q3=np.quantile(col, 0.75)\n",
    "iqr=q3-q1\n",
    "med=col.median()\n",
    "for i in col:\n",
    "    if i<q1-1.5*iqr or i>q3+1.5*iqr:\n",
    "        print(i,q1-1.5*iqr,q3+1.5*iqr)\n",
    "        col.replace(i,med,inplace=True)"
   ]
  },
  {
   "cell_type": "code",
   "execution_count": 67,
   "id": "fb61d172",
   "metadata": {},
   "outputs": [
    {
     "name": "stderr",
     "output_type": "stream",
     "text": [
      "C:\\Users\\Bharath Atla\\anaconda3\\lib\\site-packages\\seaborn\\_decorators.py:36: FutureWarning: Pass the following variable as a keyword arg: x. From version 0.12, the only valid positional argument will be `data`, and passing other arguments without an explicit keyword will result in an error or misinterpretation.\n",
      "  warnings.warn(\n"
     ]
    },
    {
     "data": {
      "text/plain": [
       "<AxesSubplot:xlabel='Engine HP'>"
      ]
     },
     "execution_count": 67,
     "metadata": {},
     "output_type": "execute_result"
    },
    {
     "data": {
      "image/png": "[encoded data removed]",
      "text/plain": [
       "<Figure size 432x288 with 1 Axes>"
      ]
     },
     "metadata": {
      "needs_background": "light"
     },
     "output_type": "display_data"
    }
   ],
   "source": [
    "sns.boxplot(df[\"Engine HP\"])"
   ]
  },
  {
   "cell_type": "code",
   "execution_count": 68,
   "id": "96e25241",
   "metadata": {},
   "outputs": [
    {
     "name": "stdout",
     "output_type": "stream",
     "text": [
      "562 -29.5 502.5\n",
      "597 -29.5 502.5\n",
      "515 -29.5 502.5\n",
      "543 -29.5 502.5\n",
      "631 -29.5 502.5\n",
      "604 -29.5 502.5\n",
      "620 -29.5 502.5\n",
      "611 -29.5 502.5\n",
      "661 -29.5 502.5\n",
      "532 -29.5 502.5\n",
      "641 -29.5 502.5\n",
      "535 -29.5 502.5\n",
      "520 -29.5 502.5\n",
      "560 -29.5 502.5\n",
      "540 -29.5 502.5\n",
      "580 -29.5 502.5\n",
      "600 -29.5 502.5\n",
      "503 -29.5 502.5\n",
      "700 -29.5 502.5\n",
      "720 -29.5 502.5\n",
      "750 -29.5 502.5\n",
      "530 -29.5 502.5\n",
      "553 -29.5 502.5\n",
      "505 -29.5 502.5\n",
      "650 -29.5 502.5\n",
      "605 -29.5 502.5\n",
      "570 -29.5 502.5\n",
      "707 -29.5 502.5\n",
      "621 -29.5 502.5\n",
      "510 -29.5 502.5\n",
      "536 -29.5 502.5\n",
      "577 -29.5 502.5\n",
      "552 -29.5 502.5\n",
      "626 -29.5 502.5\n",
      "616 -29.5 502.5\n",
      "572 -29.5 502.5\n",
      "521 -29.5 502.5\n",
      "567 -29.5 502.5\n",
      "582 -29.5 502.5\n",
      "556 -29.5 502.5\n",
      "640 -29.5 502.5\n",
      "563 -29.5 502.5\n",
      "550 -29.5 502.5\n",
      "660 -29.5 502.5\n",
      "731 -29.5 502.5\n",
      "651 -29.5 502.5\n",
      "545 -29.5 502.5\n",
      "565 -29.5 502.5\n",
      "610 -29.5 502.5\n",
      "518 -29.5 502.5\n",
      "523 -29.5 502.5\n",
      "592 -29.5 502.5\n",
      "632 -29.5 502.5\n",
      "670 -29.5 502.5\n",
      "573 -29.5 502.5\n",
      "525 -29.5 502.5\n",
      "526 -29.5 502.5\n",
      "662 -29.5 502.5\n",
      "557 -29.5 502.5\n",
      "617 -29.5 502.5\n",
      "583 -29.5 502.5\n",
      "622 -29.5 502.5\n",
      "568 -29.5 502.5\n",
      "1001 -29.5 502.5\n",
      "645 -29.5 502.5\n",
      "624 -29.5 502.5\n"
     ]
    }
   ],
   "source": [
    "import numpy as np\n",
    "col=df[\"Engine HP\"]\n",
    "q1=np.quantile(col, 0.25)\n",
    "q3=np.quantile(col, 0.75)\n",
    "iqr=q3-q1\n",
    "med=col.median()\n",
    "for i in col:\n",
    "    if i<q1-1.5*iqr or i>q3+1.5*iqr:\n",
    "        print(i,q1-1.5*iqr,q3+1.5*iqr)\n",
    "        col.replace(i,med,inplace=True)"
   ]
  },
  {
   "cell_type": "code",
   "execution_count": 69,
   "id": "bbff14f2",
   "metadata": {},
   "outputs": [
    {
     "name": "stderr",
     "output_type": "stream",
     "text": [
      "C:\\Users\\Bharath Atla\\anaconda3\\lib\\site-packages\\seaborn\\_decorators.py:36: FutureWarning: Pass the following variable as a keyword arg: x. From version 0.12, the only valid positional argument will be `data`, and passing other arguments without an explicit keyword will result in an error or misinterpretation.\n",
      "  warnings.warn(\n"
     ]
    },
    {
     "data": {
      "text/plain": [
       "<AxesSubplot:xlabel='Engine Cylinders'>"
      ]
     },
     "execution_count": 69,
     "metadata": {},
     "output_type": "execute_result"
    },
    {
     "data": {
      "image/png": "[encoded data removed]",
      "text/plain": [
       "<Figure size 432x288 with 1 Axes>"
      ]
     },
     "metadata": {
      "needs_background": "light"
     },
     "output_type": "display_data"
    }
   ],
   "source": [
    "sns.boxplot(df['Engine Cylinders'])"
   ]
  },
  {
   "cell_type": "code",
   "execution_count": 70,
   "id": "7d6dc774",
   "metadata": {},
   "outputs": [
    {
     "name": "stdout",
     "output_type": "stream",
     "text": [
      "12 1.0 9.0\n",
      "0 1.0 9.0\n",
      "10 1.0 9.0\n",
      "16 1.0 9.0\n"
     ]
    }
   ],
   "source": [
    "import numpy as np\n",
    "col=df[\"Engine Cylinders\"]\n",
    "q1=np.quantile(col, 0.25)\n",
    "q3=np.quantile(col, 0.75)\n",
    "iqr=q3-q1\n",
    "med=col.median()\n",
    "for i in col:\n",
    "    if i<q1-1.5*iqr or i>q3+1.5*iqr:\n",
    "        print(i,q1-1.5*iqr,q3+1.5*iqr)\n",
    "        col.replace(i,med,inplace=True)"
   ]
  },
  {
   "cell_type": "code",
   "execution_count": 71,
   "id": "f7fc79d0",
   "metadata": {},
   "outputs": [
    {
     "name": "stderr",
     "output_type": "stream",
     "text": [
      "C:\\Users\\Bharath Atla\\anaconda3\\lib\\site-packages\\seaborn\\_decorators.py:36: FutureWarning: Pass the following variable as a keyword arg: x. From version 0.12, the only valid positional argument will be `data`, and passing other arguments without an explicit keyword will result in an error or misinterpretation.\n",
      "  warnings.warn(\n"
     ]
    },
    {
     "data": {
      "text/plain": [
       "<AxesSubplot:xlabel='highway MPG'>"
      ]
     },
     "execution_count": 71,
     "metadata": {},
     "output_type": "execute_result"
    },
    {
     "data": {
      "image/png": "[encoded data removed]",
      "text/plain": [
       "<Figure size 432x288 with 1 Axes>"
      ]
     },
     "metadata": {
      "needs_background": "light"
     },
     "output_type": "display_data"
    }
   ],
   "source": [
    "sns.boxplot(df['highway MPG'])"
   ]
  },
  {
   "cell_type": "code",
   "execution_count": 72,
   "id": "17755101",
   "metadata": {},
   "outputs": [
    {
     "name": "stdout",
     "output_type": "stream",
     "text": [
      "45 10.0 42.0\n",
      "43 10.0 42.0\n",
      "108 10.0 42.0\n",
      "103 10.0 42.0\n",
      "354 10.0 42.0\n",
      "47 10.0 42.0\n",
      "46 10.0 42.0\n",
      "82 10.0 42.0\n",
      "110 10.0 42.0\n",
      "44 10.0 42.0\n",
      "105 10.0 42.0\n",
      "99 10.0 42.0\n",
      "102 10.0 42.0\n",
      "111 10.0 42.0\n",
      "106 10.0 42.0\n",
      "48 10.0 42.0\n",
      "101 10.0 42.0\n",
      "90 10.0 42.0\n",
      "97 10.0 42.0\n",
      "94 10.0 42.0\n",
      "98 10.0 42.0\n",
      "100 10.0 42.0\n",
      "107 10.0 42.0\n",
      "53 10.0 42.0\n",
      "50 10.0 42.0\n",
      "74 10.0 42.0\n",
      "92 10.0 42.0\n",
      "109 10.0 42.0\n"
     ]
    }
   ],
   "source": [
    "import numpy as np\n",
    "col=df[\"highway MPG\"]\n",
    "q1=np.quantile(col, 0.25)\n",
    "q3=np.quantile(col, 0.75)\n",
    "iqr=q3-q1\n",
    "med=col.median()\n",
    "for i in col:\n",
    "    if i<q1-1.5*iqr or i>q3+1.5*iqr:\n",
    "        print(i,q1-1.5*iqr,q3+1.5*iqr)\n",
    "        col.replace(i,med,inplace=True)"
   ]
  },
  {
   "cell_type": "code",
   "execution_count": 73,
   "id": "27e488bc",
   "metadata": {},
   "outputs": [
    {
     "name": "stderr",
     "output_type": "stream",
     "text": [
      "C:\\Users\\Bharath Atla\\anaconda3\\lib\\site-packages\\seaborn\\_decorators.py:36: FutureWarning: Pass the following variable as a keyword arg: x. From version 0.12, the only valid positional argument will be `data`, and passing other arguments without an explicit keyword will result in an error or misinterpretation.\n",
      "  warnings.warn(\n"
     ]
    },
    {
     "data": {
      "text/plain": [
       "<AxesSubplot:xlabel='city mpg'>"
      ]
     },
     "execution_count": 73,
     "metadata": {},
     "output_type": "execute_result"
    },
    {
     "data": {
      "image/png": "[encoded data removed]",
      "text/plain": [
       "<Figure size 432x288 with 1 Axes>"
      ]
     },
     "metadata": {
      "needs_background": "light"
     },
     "output_type": "display_data"
    }
   ],
   "source": [
    "sns.boxplot(df['city mpg'])"
   ]
  },
  {
   "cell_type": "code",
   "execution_count": 74,
   "id": "79cbf895",
   "metadata": {},
   "outputs": [
    {
     "name": "stdout",
     "output_type": "stream",
     "text": [
      "32 7.0 31.0\n",
      "122 7.0 31.0\n",
      "121 7.0 31.0\n",
      "50 7.0 31.0\n",
      "49 7.0 31.0\n",
      "47 7.0 31.0\n",
      "35 7.0 31.0\n",
      "33 7.0 31.0\n",
      "40 7.0 31.0\n",
      "85 7.0 31.0\n",
      "128 7.0 31.0\n",
      "42 7.0 31.0\n",
      "43 7.0 31.0\n",
      "36 7.0 31.0\n",
      "44 7.0 31.0\n",
      "126 7.0 31.0\n",
      "34 7.0 31.0\n",
      "132 7.0 31.0\n",
      "110 7.0 31.0\n",
      "137 7.0 31.0\n",
      "129 7.0 31.0\n",
      "39 7.0 31.0\n",
      "41 7.0 31.0\n",
      "124 7.0 31.0\n",
      "37 7.0 31.0\n",
      "88 7.0 31.0\n",
      "94 7.0 31.0\n",
      "86 7.0 31.0\n",
      "101 7.0 31.0\n",
      "95 7.0 31.0\n",
      "89 7.0 31.0\n",
      "102 7.0 31.0\n",
      "98 7.0 31.0\n",
      "92 7.0 31.0\n",
      "97 7.0 31.0\n",
      "91 7.0 31.0\n",
      "53 7.0 31.0\n",
      "55 7.0 31.0\n",
      "51 7.0 31.0\n",
      "54 7.0 31.0\n",
      "58 7.0 31.0\n",
      "78 7.0 31.0\n",
      "38 7.0 31.0\n",
      "120 7.0 31.0\n"
     ]
    }
   ],
   "source": [
    "import numpy as np\n",
    "col=df[\"city mpg\"]\n",
    "q1=np.quantile(col, 0.25)\n",
    "q3=np.quantile(col, 0.75)\n",
    "iqr=q3-q1\n",
    "med=col.median()\n",
    "for i in col:\n",
    "    if i<q1-1.5*iqr or i>q3+1.5*iqr:\n",
    "        print(i,q1-1.5*iqr,q3+1.5*iqr)\n",
    "        col.replace(i,med,inplace=True)"
   ]
  },
  {
   "cell_type": "code",
   "execution_count": 75,
   "id": "ad1575ed",
   "metadata": {},
   "outputs": [
    {
     "name": "stderr",
     "output_type": "stream",
     "text": [
      "C:\\Users\\Bharath Atla\\anaconda3\\lib\\site-packages\\seaborn\\_decorators.py:36: FutureWarning: Pass the following variable as a keyword arg: x. From version 0.12, the only valid positional argument will be `data`, and passing other arguments without an explicit keyword will result in an error or misinterpretation.\n",
      "  warnings.warn(\n"
     ]
    },
    {
     "data": {
      "text/plain": [
       "<AxesSubplot:xlabel='Popularity'>"
      ]
     },
     "execution_count": 75,
     "metadata": {},
     "output_type": "execute_result"
    },
    {
     "data": {
      "image/png": "[encoded data removed]",
      "text/plain": [
       "<Figure size 432x288 with 1 Axes>"
      ]
     },
     "metadata": {
      "needs_background": "light"
     },
     "output_type": "display_data"
    }
   ],
   "source": [
    "sns.boxplot(df['Popularity'])"
   ]
  },
  {
   "cell_type": "code",
   "execution_count": 76,
   "id": "2ef85eb4",
   "metadata": {
    "scrolled": true
   },
   "outputs": [
    {
     "name": "stdout",
     "output_type": "stream",
     "text": [
      "5657 -1641.0 4199.0\n"
     ]
    }
   ],
   "source": [
    "import numpy as np\n",
    "col=df[\"Popularity\"]\n",
    "q1=np.quantile(col, 0.25)\n",
    "q3=np.quantile(col, 0.75)\n",
    "iqr=q3-q1\n",
    "med=col.median()\n",
    "for i in col:\n",
    "    if i<q1-1.5*iqr or i>q3+1.5*iqr:\n",
    "        print(i,q1-1.5*iqr,q3+1.5*iqr)\n",
    "        col.replace(i,med,inplace=True)"
   ]
  },
  {
   "cell_type": "code",
   "execution_count": 77,
   "id": "3b7f4a75",
   "metadata": {},
   "outputs": [
    {
     "data": {
      "text/html": [
       "<div>\n",
       "<style scoped>\n",
       "    .dataframe tbody tr th:only-of-type {\n",
       "        vertical-align: middle;\n",
       "    }\n",
       "\n",
       "    .dataframe tbody tr th {\n",
       "        vertical-align: top;\n",
       "    }\n",
       "\n",
       "    .dataframe thead th {\n",
       "        text-align: right;\n",
       "    }\n",
       "</style>\n",
       "<table border=\"1\" class=\"dataframe\">\n",
       "  <thead>\n",
       "    <tr style=\"text-align: right;\">\n",
       "      <th></th>\n",
       "      <th>Make</th>\n",
       "      <th>Model</th>\n",
       "      <th>Year</th>\n",
       "      <th>Engine Fuel Type</th>\n",
       "      <th>Engine HP</th>\n",
       "      <th>Engine Cylinders</th>\n",
       "      <th>Transmission Type</th>\n",
       "      <th>Driven_Wheels</th>\n",
       "      <th>Number of Doors</th>\n",
       "      <th>Market Category</th>\n",
       "      <th>Vehicle Size</th>\n",
       "      <th>Vehicle Style</th>\n",
       "      <th>highway MPG</th>\n",
       "      <th>city mpg</th>\n",
       "      <th>Popularity</th>\n",
       "      <th>MSRP</th>\n",
       "    </tr>\n",
       "  </thead>\n",
       "  <tbody>\n",
       "    <tr>\n",
       "      <th>0</th>\n",
       "      <td>BMW</td>\n",
       "      <td>1 Series</td>\n",
       "      <td>2011</td>\n",
       "      <td>premium unleaded (required)</td>\n",
       "      <td>335</td>\n",
       "      <td>6</td>\n",
       "      <td>MANUAL</td>\n",
       "      <td>rear wheel drive</td>\n",
       "      <td>2</td>\n",
       "      <td>Factory Tuner,Luxury,High-Performance</td>\n",
       "      <td>Compact</td>\n",
       "      <td>Coupe</td>\n",
       "      <td>26</td>\n",
       "      <td>19</td>\n",
       "      <td>3916</td>\n",
       "      <td>46135</td>\n",
       "    </tr>\n",
       "    <tr>\n",
       "      <th>1</th>\n",
       "      <td>BMW</td>\n",
       "      <td>1 Series</td>\n",
       "      <td>2011</td>\n",
       "      <td>premium unleaded (required)</td>\n",
       "      <td>300</td>\n",
       "      <td>6</td>\n",
       "      <td>MANUAL</td>\n",
       "      <td>rear wheel drive</td>\n",
       "      <td>2</td>\n",
       "      <td>Luxury,Performance</td>\n",
       "      <td>Compact</td>\n",
       "      <td>Convertible</td>\n",
       "      <td>28</td>\n",
       "      <td>19</td>\n",
       "      <td>3916</td>\n",
       "      <td>40650</td>\n",
       "    </tr>\n",
       "    <tr>\n",
       "      <th>2</th>\n",
       "      <td>BMW</td>\n",
       "      <td>1 Series</td>\n",
       "      <td>2011</td>\n",
       "      <td>premium unleaded (required)</td>\n",
       "      <td>300</td>\n",
       "      <td>6</td>\n",
       "      <td>MANUAL</td>\n",
       "      <td>rear wheel drive</td>\n",
       "      <td>2</td>\n",
       "      <td>Luxury,High-Performance</td>\n",
       "      <td>Compact</td>\n",
       "      <td>Coupe</td>\n",
       "      <td>28</td>\n",
       "      <td>20</td>\n",
       "      <td>3916</td>\n",
       "      <td>36350</td>\n",
       "    </tr>\n",
       "    <tr>\n",
       "      <th>3</th>\n",
       "      <td>BMW</td>\n",
       "      <td>1 Series</td>\n",
       "      <td>2011</td>\n",
       "      <td>premium unleaded (required)</td>\n",
       "      <td>230</td>\n",
       "      <td>6</td>\n",
       "      <td>MANUAL</td>\n",
       "      <td>rear wheel drive</td>\n",
       "      <td>2</td>\n",
       "      <td>Luxury,Performance</td>\n",
       "      <td>Compact</td>\n",
       "      <td>Coupe</td>\n",
       "      <td>28</td>\n",
       "      <td>18</td>\n",
       "      <td>3916</td>\n",
       "      <td>29450</td>\n",
       "    </tr>\n",
       "    <tr>\n",
       "      <th>4</th>\n",
       "      <td>BMW</td>\n",
       "      <td>1 Series</td>\n",
       "      <td>2011</td>\n",
       "      <td>premium unleaded (required)</td>\n",
       "      <td>230</td>\n",
       "      <td>6</td>\n",
       "      <td>MANUAL</td>\n",
       "      <td>rear wheel drive</td>\n",
       "      <td>2</td>\n",
       "      <td>Luxury</td>\n",
       "      <td>Compact</td>\n",
       "      <td>Convertible</td>\n",
       "      <td>28</td>\n",
       "      <td>18</td>\n",
       "      <td>3916</td>\n",
       "      <td>34500</td>\n",
       "    </tr>\n",
       "  </tbody>\n",
       "</table>\n",
       "</div>"
      ],
      "text/plain": [
       "  Make     Model  Year             Engine Fuel Type  Engine HP  \\\n",
       "0  BMW  1 Series  2011  premium unleaded (required)        335   \n",
       "1  BMW  1 Series  2011  premium unleaded (required)        300   \n",
       "2  BMW  1 Series  2011  premium unleaded (required)        300   \n",
       "3  BMW  1 Series  2011  premium unleaded (required)        230   \n",
       "4  BMW  1 Series  2011  premium unleaded (required)        230   \n",
       "\n",
       "   Engine Cylinders Transmission Type     Driven_Wheels  Number of Doors  \\\n",
       "0                 6            MANUAL  rear wheel drive                2   \n",
       "1                 6            MANUAL  rear wheel drive                2   \n",
       "2                 6            MANUAL  rear wheel drive                2   \n",
       "3                 6            MANUAL  rear wheel drive                2   \n",
       "4                 6            MANUAL  rear wheel drive                2   \n",
       "\n",
       "                         Market Category Vehicle Size Vehicle Style  \\\n",
       "0  Factory Tuner,Luxury,High-Performance      Compact         Coupe   \n",
       "1                     Luxury,Performance      Compact   Convertible   \n",
       "2                Luxury,High-Performance      Compact         Coupe   \n",
       "3                     Luxury,Performance      Compact         Coupe   \n",
       "4                                 Luxury      Compact   Convertible   \n",
       "\n",
       "   highway MPG  city mpg  Popularity   MSRP  \n",
       "0           26        19        3916  46135  \n",
       "1           28        19        3916  40650  \n",
       "2           28        20        3916  36350  \n",
       "3           28        18        3916  29450  \n",
       "4           28        18        3916  34500  "
      ]
     },
     "execution_count": 77,
     "metadata": {},
     "output_type": "execute_result"
    }
   ],
   "source": [
    "df.head(5)"
   ]
  },
  {
   "cell_type": "code",
   "execution_count": 78,
   "id": "181386a6",
   "metadata": {},
   "outputs": [
    {
     "data": {
      "text/html": [
       "<div>\n",
       "<style scoped>\n",
       "    .dataframe tbody tr th:only-of-type {\n",
       "        vertical-align: middle;\n",
       "    }\n",
       "\n",
       "    .dataframe tbody tr th {\n",
       "        vertical-align: top;\n",
       "    }\n",
       "\n",
       "    .dataframe thead th {\n",
       "        text-align: right;\n",
       "    }\n",
       "</style>\n",
       "<table border=\"1\" class=\"dataframe\">\n",
       "  <thead>\n",
       "    <tr style=\"text-align: right;\">\n",
       "      <th></th>\n",
       "      <th>Make</th>\n",
       "      <th>Model</th>\n",
       "      <th>Engine Fuel Type</th>\n",
       "      <th>Transmission Type</th>\n",
       "      <th>Driven_Wheels</th>\n",
       "      <th>Market Category</th>\n",
       "      <th>Vehicle Size</th>\n",
       "      <th>Vehicle Style</th>\n",
       "    </tr>\n",
       "  </thead>\n",
       "  <tbody>\n",
       "    <tr>\n",
       "      <th>count</th>\n",
       "      <td>11199</td>\n",
       "      <td>11199</td>\n",
       "      <td>11199</td>\n",
       "      <td>11199</td>\n",
       "      <td>11199</td>\n",
       "      <td>11199</td>\n",
       "      <td>11199</td>\n",
       "      <td>11199</td>\n",
       "    </tr>\n",
       "    <tr>\n",
       "      <th>unique</th>\n",
       "      <td>48</td>\n",
       "      <td>914</td>\n",
       "      <td>10</td>\n",
       "      <td>5</td>\n",
       "      <td>4</td>\n",
       "      <td>71</td>\n",
       "      <td>3</td>\n",
       "      <td>16</td>\n",
       "    </tr>\n",
       "    <tr>\n",
       "      <th>top</th>\n",
       "      <td>Chevrolet</td>\n",
       "      <td>Silverado 1500</td>\n",
       "      <td>regular unleaded</td>\n",
       "      <td>AUTOMATIC</td>\n",
       "      <td>front wheel drive</td>\n",
       "      <td>Crossover</td>\n",
       "      <td>Compact</td>\n",
       "      <td>Sedan</td>\n",
       "    </tr>\n",
       "    <tr>\n",
       "      <th>freq</th>\n",
       "      <td>1083</td>\n",
       "      <td>156</td>\n",
       "      <td>6661</td>\n",
       "      <td>7932</td>\n",
       "      <td>4354</td>\n",
       "      <td>4451</td>\n",
       "      <td>4395</td>\n",
       "      <td>2843</td>\n",
       "    </tr>\n",
       "  </tbody>\n",
       "</table>\n",
       "</div>"
      ],
      "text/plain": [
       "             Make           Model  Engine Fuel Type Transmission Type  \\\n",
       "count       11199           11199             11199             11199   \n",
       "unique         48             914                10                 5   \n",
       "top     Chevrolet  Silverado 1500  regular unleaded         AUTOMATIC   \n",
       "freq         1083             156              6661              7932   \n",
       "\n",
       "            Driven_Wheels Market Category Vehicle Size Vehicle Style  \n",
       "count               11199           11199        11199         11199  \n",
       "unique                  4              71            3            16  \n",
       "top     front wheel drive       Crossover      Compact         Sedan  \n",
       "freq                 4354            4451         4395          2843  "
      ]
     },
     "execution_count": 78,
     "metadata": {},
     "output_type": "execute_result"
    }
   ],
   "source": [
    "df.describe(include=\"object\")"
   ]
  },
  {
   "cell_type": "code",
   "execution_count": 79,
   "id": "c2eca71c",
   "metadata": {},
   "outputs": [],
   "source": [
    "df.columns = df.columns.str.lower().str.replace(\" \", \"_\")"
   ]
  },
  {
   "cell_type": "code",
   "execution_count": 80,
   "id": "0f72904d",
   "metadata": {},
   "outputs": [
    {
     "data": {
      "text/plain": [
       "AUTOMATIC           7932\n",
       "MANUAL              2634\n",
       "AUTOMATED_MANUAL     553\n",
       "DIRECT_DRIVE          68\n",
       "UNKNOWN               12\n",
       "Name: transmission_type, dtype: int64"
      ]
     },
     "execution_count": 80,
     "metadata": {},
     "output_type": "execute_result"
    }
   ],
   "source": [
    "df['transmission_type'].value_counts()"
   ]
  },
  {
   "cell_type": "markdown",
   "id": "371b73eb",
   "metadata": {},
   "source": [
    "Try and remove that Unknown"
   ]
  },
  {
   "cell_type": "code",
   "execution_count": 81,
   "id": "e3c917d7",
   "metadata": {},
   "outputs": [],
   "source": [
    "df.drop(df.loc[df['transmission_type']=='unknown'].index, inplace=True)"
   ]
  },
  {
   "cell_type": "code",
   "execution_count": 82,
   "id": "d3dbdd0a",
   "metadata": {},
   "outputs": [
    {
     "data": {
      "text/plain": [
       "(11199, 16)"
      ]
     },
     "execution_count": 82,
     "metadata": {},
     "output_type": "execute_result"
    }
   ],
   "source": [
    "df.shape"
   ]
  },
  {
   "cell_type": "code",
   "execution_count": 83,
   "id": "734793c3",
   "metadata": {},
   "outputs": [
    {
     "data": {
      "text/html": [
       "<div>\n",
       "<style scoped>\n",
       "    .dataframe tbody tr th:only-of-type {\n",
       "        vertical-align: middle;\n",
       "    }\n",
       "\n",
       "    .dataframe tbody tr th {\n",
       "        vertical-align: top;\n",
       "    }\n",
       "\n",
       "    .dataframe thead th {\n",
       "        text-align: right;\n",
       "    }\n",
       "</style>\n",
       "<table border=\"1\" class=\"dataframe\">\n",
       "  <thead>\n",
       "    <tr style=\"text-align: right;\">\n",
       "      <th></th>\n",
       "      <th>make</th>\n",
       "      <th>model</th>\n",
       "      <th>year</th>\n",
       "      <th>engine_fuel_type</th>\n",
       "      <th>engine_hp</th>\n",
       "      <th>engine_cylinders</th>\n",
       "      <th>transmission_type</th>\n",
       "      <th>driven_wheels</th>\n",
       "      <th>number_of_doors</th>\n",
       "      <th>market_category</th>\n",
       "      <th>vehicle_size</th>\n",
       "      <th>vehicle_style</th>\n",
       "      <th>highway_mpg</th>\n",
       "      <th>city_mpg</th>\n",
       "      <th>popularity</th>\n",
       "      <th>msrp</th>\n",
       "    </tr>\n",
       "  </thead>\n",
       "  <tbody>\n",
       "    <tr>\n",
       "      <th>0</th>\n",
       "      <td>BMW</td>\n",
       "      <td>1 Series</td>\n",
       "      <td>2011</td>\n",
       "      <td>premium unleaded (required)</td>\n",
       "      <td>335</td>\n",
       "      <td>6</td>\n",
       "      <td>MANUAL</td>\n",
       "      <td>rear wheel drive</td>\n",
       "      <td>2</td>\n",
       "      <td>Factory Tuner,Luxury,High-Performance</td>\n",
       "      <td>Compact</td>\n",
       "      <td>Coupe</td>\n",
       "      <td>26</td>\n",
       "      <td>19</td>\n",
       "      <td>3916</td>\n",
       "      <td>46135</td>\n",
       "    </tr>\n",
       "    <tr>\n",
       "      <th>1</th>\n",
       "      <td>BMW</td>\n",
       "      <td>1 Series</td>\n",
       "      <td>2011</td>\n",
       "      <td>premium unleaded (required)</td>\n",
       "      <td>300</td>\n",
       "      <td>6</td>\n",
       "      <td>MANUAL</td>\n",
       "      <td>rear wheel drive</td>\n",
       "      <td>2</td>\n",
       "      <td>Luxury,Performance</td>\n",
       "      <td>Compact</td>\n",
       "      <td>Convertible</td>\n",
       "      <td>28</td>\n",
       "      <td>19</td>\n",
       "      <td>3916</td>\n",
       "      <td>40650</td>\n",
       "    </tr>\n",
       "    <tr>\n",
       "      <th>2</th>\n",
       "      <td>BMW</td>\n",
       "      <td>1 Series</td>\n",
       "      <td>2011</td>\n",
       "      <td>premium unleaded (required)</td>\n",
       "      <td>300</td>\n",
       "      <td>6</td>\n",
       "      <td>MANUAL</td>\n",
       "      <td>rear wheel drive</td>\n",
       "      <td>2</td>\n",
       "      <td>Luxury,High-Performance</td>\n",
       "      <td>Compact</td>\n",
       "      <td>Coupe</td>\n",
       "      <td>28</td>\n",
       "      <td>20</td>\n",
       "      <td>3916</td>\n",
       "      <td>36350</td>\n",
       "    </tr>\n",
       "    <tr>\n",
       "      <th>3</th>\n",
       "      <td>BMW</td>\n",
       "      <td>1 Series</td>\n",
       "      <td>2011</td>\n",
       "      <td>premium unleaded (required)</td>\n",
       "      <td>230</td>\n",
       "      <td>6</td>\n",
       "      <td>MANUAL</td>\n",
       "      <td>rear wheel drive</td>\n",
       "      <td>2</td>\n",
       "      <td>Luxury,Performance</td>\n",
       "      <td>Compact</td>\n",
       "      <td>Coupe</td>\n",
       "      <td>28</td>\n",
       "      <td>18</td>\n",
       "      <td>3916</td>\n",
       "      <td>29450</td>\n",
       "    </tr>\n",
       "    <tr>\n",
       "      <th>4</th>\n",
       "      <td>BMW</td>\n",
       "      <td>1 Series</td>\n",
       "      <td>2011</td>\n",
       "      <td>premium unleaded (required)</td>\n",
       "      <td>230</td>\n",
       "      <td>6</td>\n",
       "      <td>MANUAL</td>\n",
       "      <td>rear wheel drive</td>\n",
       "      <td>2</td>\n",
       "      <td>Luxury</td>\n",
       "      <td>Compact</td>\n",
       "      <td>Convertible</td>\n",
       "      <td>28</td>\n",
       "      <td>18</td>\n",
       "      <td>3916</td>\n",
       "      <td>34500</td>\n",
       "    </tr>\n",
       "    <tr>\n",
       "      <th>...</th>\n",
       "      <td>...</td>\n",
       "      <td>...</td>\n",
       "      <td>...</td>\n",
       "      <td>...</td>\n",
       "      <td>...</td>\n",
       "      <td>...</td>\n",
       "      <td>...</td>\n",
       "      <td>...</td>\n",
       "      <td>...</td>\n",
       "      <td>...</td>\n",
       "      <td>...</td>\n",
       "      <td>...</td>\n",
       "      <td>...</td>\n",
       "      <td>...</td>\n",
       "      <td>...</td>\n",
       "      <td>...</td>\n",
       "    </tr>\n",
       "    <tr>\n",
       "      <th>11194</th>\n",
       "      <td>Acura</td>\n",
       "      <td>ZDX</td>\n",
       "      <td>2012</td>\n",
       "      <td>premium unleaded (required)</td>\n",
       "      <td>300</td>\n",
       "      <td>6</td>\n",
       "      <td>AUTOMATIC</td>\n",
       "      <td>all wheel drive</td>\n",
       "      <td>4</td>\n",
       "      <td>Crossover,Hatchback,Luxury</td>\n",
       "      <td>Midsize</td>\n",
       "      <td>4dr Hatchback</td>\n",
       "      <td>23</td>\n",
       "      <td>16</td>\n",
       "      <td>204</td>\n",
       "      <td>46120</td>\n",
       "    </tr>\n",
       "    <tr>\n",
       "      <th>11195</th>\n",
       "      <td>Acura</td>\n",
       "      <td>ZDX</td>\n",
       "      <td>2012</td>\n",
       "      <td>premium unleaded (required)</td>\n",
       "      <td>300</td>\n",
       "      <td>6</td>\n",
       "      <td>AUTOMATIC</td>\n",
       "      <td>all wheel drive</td>\n",
       "      <td>4</td>\n",
       "      <td>Crossover,Hatchback,Luxury</td>\n",
       "      <td>Midsize</td>\n",
       "      <td>4dr Hatchback</td>\n",
       "      <td>23</td>\n",
       "      <td>16</td>\n",
       "      <td>204</td>\n",
       "      <td>56670</td>\n",
       "    </tr>\n",
       "    <tr>\n",
       "      <th>11196</th>\n",
       "      <td>Acura</td>\n",
       "      <td>ZDX</td>\n",
       "      <td>2012</td>\n",
       "      <td>premium unleaded (required)</td>\n",
       "      <td>300</td>\n",
       "      <td>6</td>\n",
       "      <td>AUTOMATIC</td>\n",
       "      <td>all wheel drive</td>\n",
       "      <td>4</td>\n",
       "      <td>Crossover,Hatchback,Luxury</td>\n",
       "      <td>Midsize</td>\n",
       "      <td>4dr Hatchback</td>\n",
       "      <td>23</td>\n",
       "      <td>16</td>\n",
       "      <td>204</td>\n",
       "      <td>50620</td>\n",
       "    </tr>\n",
       "    <tr>\n",
       "      <th>11197</th>\n",
       "      <td>Acura</td>\n",
       "      <td>ZDX</td>\n",
       "      <td>2013</td>\n",
       "      <td>premium unleaded (recommended)</td>\n",
       "      <td>300</td>\n",
       "      <td>6</td>\n",
       "      <td>AUTOMATIC</td>\n",
       "      <td>all wheel drive</td>\n",
       "      <td>4</td>\n",
       "      <td>Crossover,Hatchback,Luxury</td>\n",
       "      <td>Midsize</td>\n",
       "      <td>4dr Hatchback</td>\n",
       "      <td>23</td>\n",
       "      <td>16</td>\n",
       "      <td>204</td>\n",
       "      <td>50920</td>\n",
       "    </tr>\n",
       "    <tr>\n",
       "      <th>11198</th>\n",
       "      <td>Lincoln</td>\n",
       "      <td>Zephyr</td>\n",
       "      <td>2006</td>\n",
       "      <td>regular unleaded</td>\n",
       "      <td>221</td>\n",
       "      <td>6</td>\n",
       "      <td>AUTOMATIC</td>\n",
       "      <td>front wheel drive</td>\n",
       "      <td>4</td>\n",
       "      <td>Luxury</td>\n",
       "      <td>Midsize</td>\n",
       "      <td>Sedan</td>\n",
       "      <td>26</td>\n",
       "      <td>17</td>\n",
       "      <td>61</td>\n",
       "      <td>28995</td>\n",
       "    </tr>\n",
       "  </tbody>\n",
       "</table>\n",
       "<p>11199 rows × 16 columns</p>\n",
       "</div>"
      ],
      "text/plain": [
       "          make     model  year                engine_fuel_type  engine_hp  \\\n",
       "0          BMW  1 Series  2011     premium unleaded (required)        335   \n",
       "1          BMW  1 Series  2011     premium unleaded (required)        300   \n",
       "2          BMW  1 Series  2011     premium unleaded (required)        300   \n",
       "3          BMW  1 Series  2011     premium unleaded (required)        230   \n",
       "4          BMW  1 Series  2011     premium unleaded (required)        230   \n",
       "...        ...       ...   ...                             ...        ...   \n",
       "11194    Acura       ZDX  2012     premium unleaded (required)        300   \n",
       "11195    Acura       ZDX  2012     premium unleaded (required)        300   \n",
       "11196    Acura       ZDX  2012     premium unleaded (required)        300   \n",
       "11197    Acura       ZDX  2013  premium unleaded (recommended)        300   \n",
       "11198  Lincoln    Zephyr  2006                regular unleaded        221   \n",
       "\n",
       "       engine_cylinders transmission_type      driven_wheels  number_of_doors  \\\n",
       "0                     6            MANUAL   rear wheel drive                2   \n",
       "1                     6            MANUAL   rear wheel drive                2   \n",
       "2                     6            MANUAL   rear wheel drive                2   \n",
       "3                     6            MANUAL   rear wheel drive                2   \n",
       "4                     6            MANUAL   rear wheel drive                2   \n",
       "...                 ...               ...                ...              ...   \n",
       "11194                 6         AUTOMATIC    all wheel drive                4   \n",
       "11195                 6         AUTOMATIC    all wheel drive                4   \n",
       "11196                 6         AUTOMATIC    all wheel drive                4   \n",
       "11197                 6         AUTOMATIC    all wheel drive                4   \n",
       "11198                 6         AUTOMATIC  front wheel drive                4   \n",
       "\n",
       "                             market_category vehicle_size  vehicle_style  \\\n",
       "0      Factory Tuner,Luxury,High-Performance      Compact          Coupe   \n",
       "1                         Luxury,Performance      Compact    Convertible   \n",
       "2                    Luxury,High-Performance      Compact          Coupe   \n",
       "3                         Luxury,Performance      Compact          Coupe   \n",
       "4                                     Luxury      Compact    Convertible   \n",
       "...                                      ...          ...            ...   \n",
       "11194             Crossover,Hatchback,Luxury      Midsize  4dr Hatchback   \n",
       "11195             Crossover,Hatchback,Luxury      Midsize  4dr Hatchback   \n",
       "11196             Crossover,Hatchback,Luxury      Midsize  4dr Hatchback   \n",
       "11197             Crossover,Hatchback,Luxury      Midsize  4dr Hatchback   \n",
       "11198                                 Luxury      Midsize          Sedan   \n",
       "\n",
       "       highway_mpg  city_mpg  popularity   msrp  \n",
       "0               26        19        3916  46135  \n",
       "1               28        19        3916  40650  \n",
       "2               28        20        3916  36350  \n",
       "3               28        18        3916  29450  \n",
       "4               28        18        3916  34500  \n",
       "...            ...       ...         ...    ...  \n",
       "11194           23        16         204  46120  \n",
       "11195           23        16         204  56670  \n",
       "11196           23        16         204  50620  \n",
       "11197           23        16         204  50920  \n",
       "11198           26        17          61  28995  \n",
       "\n",
       "[11199 rows x 16 columns]"
      ]
     },
     "execution_count": 83,
     "metadata": {},
     "output_type": "execute_result"
    }
   ],
   "source": [
    "df.reset_index(drop=True)"
   ]
  },
  {
   "cell_type": "markdown",
   "id": "83ce41b6",
   "metadata": {},
   "source": [
    "# Feature selection"
   ]
  },
  {
   "cell_type": "markdown",
   "id": "ac311366",
   "metadata": {},
   "source": [
    "Continuos = Regplot or correlation\n",
    "Categorical = boxplot/barlot or Anova test"
   ]
  },
  {
   "cell_type": "code",
   "execution_count": 84,
   "id": "00ae55cc",
   "metadata": {},
   "outputs": [
    {
     "data": {
      "text/plain": [
       "['make',\n",
       " 'model',\n",
       " 'engine_fuel_type',\n",
       " 'transmission_type',\n",
       " 'driven_wheels',\n",
       " 'market_category',\n",
       " 'vehicle_size',\n",
       " 'vehicle_style']"
      ]
     },
     "execution_count": 84,
     "metadata": {},
     "output_type": "execute_result"
    }
   ],
   "source": [
    "categorical = list(df.dtypes[df.dtypes == 'object'].index)\n",
    "categorical"
   ]
  },
  {
   "cell_type": "code",
   "execution_count": 85,
   "id": "b0965262",
   "metadata": {},
   "outputs": [],
   "source": [
    "for col in categorical:\n",
    "    df[col] = df[col].astype(str).str.lower().str.replace(\" \", \"_\")\n"
   ]
  },
  {
   "cell_type": "code",
   "execution_count": 86,
   "id": "16264356",
   "metadata": {},
   "outputs": [
    {
     "data": {
      "text/html": [
       "<div>\n",
       "<style scoped>\n",
       "    .dataframe tbody tr th:only-of-type {\n",
       "        vertical-align: middle;\n",
       "    }\n",
       "\n",
       "    .dataframe tbody tr th {\n",
       "        vertical-align: top;\n",
       "    }\n",
       "\n",
       "    .dataframe thead th {\n",
       "        text-align: right;\n",
       "    }\n",
       "</style>\n",
       "<table border=\"1\" class=\"dataframe\">\n",
       "  <thead>\n",
       "    <tr style=\"text-align: right;\">\n",
       "      <th></th>\n",
       "      <th>make</th>\n",
       "      <th>model</th>\n",
       "      <th>year</th>\n",
       "      <th>engine_fuel_type</th>\n",
       "      <th>engine_hp</th>\n",
       "      <th>engine_cylinders</th>\n",
       "      <th>transmission_type</th>\n",
       "      <th>driven_wheels</th>\n",
       "      <th>number_of_doors</th>\n",
       "      <th>market_category</th>\n",
       "      <th>vehicle_size</th>\n",
       "      <th>vehicle_style</th>\n",
       "      <th>highway_mpg</th>\n",
       "      <th>city_mpg</th>\n",
       "      <th>popularity</th>\n",
       "      <th>msrp</th>\n",
       "    </tr>\n",
       "  </thead>\n",
       "  <tbody>\n",
       "    <tr>\n",
       "      <th>0</th>\n",
       "      <td>bmw</td>\n",
       "      <td>1_series</td>\n",
       "      <td>2011</td>\n",
       "      <td>premium_unleaded_(required)</td>\n",
       "      <td>335</td>\n",
       "      <td>6</td>\n",
       "      <td>manual</td>\n",
       "      <td>rear_wheel_drive</td>\n",
       "      <td>2</td>\n",
       "      <td>factory_tuner,luxury,high-performance</td>\n",
       "      <td>compact</td>\n",
       "      <td>coupe</td>\n",
       "      <td>26</td>\n",
       "      <td>19</td>\n",
       "      <td>3916</td>\n",
       "      <td>46135</td>\n",
       "    </tr>\n",
       "    <tr>\n",
       "      <th>1</th>\n",
       "      <td>bmw</td>\n",
       "      <td>1_series</td>\n",
       "      <td>2011</td>\n",
       "      <td>premium_unleaded_(required)</td>\n",
       "      <td>300</td>\n",
       "      <td>6</td>\n",
       "      <td>manual</td>\n",
       "      <td>rear_wheel_drive</td>\n",
       "      <td>2</td>\n",
       "      <td>luxury,performance</td>\n",
       "      <td>compact</td>\n",
       "      <td>convertible</td>\n",
       "      <td>28</td>\n",
       "      <td>19</td>\n",
       "      <td>3916</td>\n",
       "      <td>40650</td>\n",
       "    </tr>\n",
       "    <tr>\n",
       "      <th>2</th>\n",
       "      <td>bmw</td>\n",
       "      <td>1_series</td>\n",
       "      <td>2011</td>\n",
       "      <td>premium_unleaded_(required)</td>\n",
       "      <td>300</td>\n",
       "      <td>6</td>\n",
       "      <td>manual</td>\n",
       "      <td>rear_wheel_drive</td>\n",
       "      <td>2</td>\n",
       "      <td>luxury,high-performance</td>\n",
       "      <td>compact</td>\n",
       "      <td>coupe</td>\n",
       "      <td>28</td>\n",
       "      <td>20</td>\n",
       "      <td>3916</td>\n",
       "      <td>36350</td>\n",
       "    </tr>\n",
       "    <tr>\n",
       "      <th>3</th>\n",
       "      <td>bmw</td>\n",
       "      <td>1_series</td>\n",
       "      <td>2011</td>\n",
       "      <td>premium_unleaded_(required)</td>\n",
       "      <td>230</td>\n",
       "      <td>6</td>\n",
       "      <td>manual</td>\n",
       "      <td>rear_wheel_drive</td>\n",
       "      <td>2</td>\n",
       "      <td>luxury,performance</td>\n",
       "      <td>compact</td>\n",
       "      <td>coupe</td>\n",
       "      <td>28</td>\n",
       "      <td>18</td>\n",
       "      <td>3916</td>\n",
       "      <td>29450</td>\n",
       "    </tr>\n",
       "    <tr>\n",
       "      <th>4</th>\n",
       "      <td>bmw</td>\n",
       "      <td>1_series</td>\n",
       "      <td>2011</td>\n",
       "      <td>premium_unleaded_(required)</td>\n",
       "      <td>230</td>\n",
       "      <td>6</td>\n",
       "      <td>manual</td>\n",
       "      <td>rear_wheel_drive</td>\n",
       "      <td>2</td>\n",
       "      <td>luxury</td>\n",
       "      <td>compact</td>\n",
       "      <td>convertible</td>\n",
       "      <td>28</td>\n",
       "      <td>18</td>\n",
       "      <td>3916</td>\n",
       "      <td>34500</td>\n",
       "    </tr>\n",
       "  </tbody>\n",
       "</table>\n",
       "</div>"
      ],
      "text/plain": [
       "  make     model  year             engine_fuel_type  engine_hp  \\\n",
       "0  bmw  1_series  2011  premium_unleaded_(required)        335   \n",
       "1  bmw  1_series  2011  premium_unleaded_(required)        300   \n",
       "2  bmw  1_series  2011  premium_unleaded_(required)        300   \n",
       "3  bmw  1_series  2011  premium_unleaded_(required)        230   \n",
       "4  bmw  1_series  2011  premium_unleaded_(required)        230   \n",
       "\n",
       "   engine_cylinders transmission_type     driven_wheels  number_of_doors  \\\n",
       "0                 6            manual  rear_wheel_drive                2   \n",
       "1                 6            manual  rear_wheel_drive                2   \n",
       "2                 6            manual  rear_wheel_drive                2   \n",
       "3                 6            manual  rear_wheel_drive                2   \n",
       "4                 6            manual  rear_wheel_drive                2   \n",
       "\n",
       "                         market_category vehicle_size vehicle_style  \\\n",
       "0  factory_tuner,luxury,high-performance      compact         coupe   \n",
       "1                     luxury,performance      compact   convertible   \n",
       "2                luxury,high-performance      compact         coupe   \n",
       "3                     luxury,performance      compact         coupe   \n",
       "4                                 luxury      compact   convertible   \n",
       "\n",
       "   highway_mpg  city_mpg  popularity   msrp  \n",
       "0           26        19        3916  46135  \n",
       "1           28        19        3916  40650  \n",
       "2           28        20        3916  36350  \n",
       "3           28        18        3916  29450  \n",
       "4           28        18        3916  34500  "
      ]
     },
     "execution_count": 86,
     "metadata": {},
     "output_type": "execute_result"
    }
   ],
   "source": [
    "df.head()"
   ]
  },
  {
   "cell_type": "code",
   "execution_count": 87,
   "id": "8dd442f5",
   "metadata": {
    "scrolled": true
   },
   "outputs": [
    {
     "name": "stdout",
     "output_type": "stream",
     "text": [
      "continous attributes\n",
      "   year  engine_hp  engine_cylinders  number_of_doors  highway_mpg  city_mpg  \\\n",
      "0  2011        335                 6                2           26        19   \n",
      "1  2011        300                 6                2           28        19   \n",
      "2  2011        300                 6                2           28        20   \n",
      "3  2011        230                 6                2           28        18   \n",
      "4  2011        230                 6                2           28        18   \n",
      "\n",
      "   popularity   msrp  \n",
      "0        3916  46135  \n",
      "1        3916  40650  \n",
      "2        3916  36350  \n",
      "3        3916  29450  \n",
      "4        3916  34500  \n",
      "categorical attributes\n",
      "  make     model             engine_fuel_type transmission_type  \\\n",
      "0  bmw  1_series  premium_unleaded_(required)            manual   \n",
      "1  bmw  1_series  premium_unleaded_(required)            manual   \n",
      "2  bmw  1_series  premium_unleaded_(required)            manual   \n",
      "3  bmw  1_series  premium_unleaded_(required)            manual   \n",
      "4  bmw  1_series  premium_unleaded_(required)            manual   \n",
      "\n",
      "      driven_wheels                        market_category vehicle_size  \\\n",
      "0  rear_wheel_drive  factory_tuner,luxury,high-performance      compact   \n",
      "1  rear_wheel_drive                     luxury,performance      compact   \n",
      "2  rear_wheel_drive                luxury,high-performance      compact   \n",
      "3  rear_wheel_drive                     luxury,performance      compact   \n",
      "4  rear_wheel_drive                                 luxury      compact   \n",
      "\n",
      "  vehicle_style  \n",
      "0         coupe  \n",
      "1   convertible  \n",
      "2         coupe  \n",
      "3         coupe  \n",
      "4   convertible  \n"
     ]
    }
   ],
   "source": [
    "#split attributes into categorical and continous\n",
    "numerics = ['int16', 'int32', 'int64', 'float16', 'float32', 'float64']\n",
    "contdf = df.select_dtypes(include=numerics)\n",
    "catdf=df.drop(contdf.columns,axis=1)\n",
    "print(\"continous attributes\")\n",
    "print(contdf.head(5))\n",
    "print(\"categorical attributes\")\n",
    "print(catdf.head(5))"
   ]
  },
  {
   "cell_type": "code",
   "execution_count": 88,
   "id": "7b5b082c",
   "metadata": {},
   "outputs": [],
   "source": [
    "catdf = pd.concat([catdf,contdf['engine_cylinders']],axis=1)\n",
    "contdf.drop(['engine_cylinders'],axis=1,inplace=True)"
   ]
  },
  {
   "cell_type": "code",
   "execution_count": 89,
   "id": "78a7363e",
   "metadata": {},
   "outputs": [],
   "source": [
    "catdf = pd.concat([catdf,contdf['number_of_doors']],axis=1)\n",
    "contdf.drop(['number_of_doors'],axis=1,inplace=True)"
   ]
  },
  {
   "cell_type": "code",
   "execution_count": 90,
   "id": "3462faa8",
   "metadata": {},
   "outputs": [
    {
     "data": {
      "text/html": [
       "<div>\n",
       "<style scoped>\n",
       "    .dataframe tbody tr th:only-of-type {\n",
       "        vertical-align: middle;\n",
       "    }\n",
       "\n",
       "    .dataframe tbody tr th {\n",
       "        vertical-align: top;\n",
       "    }\n",
       "\n",
       "    .dataframe thead th {\n",
       "        text-align: right;\n",
       "    }\n",
       "</style>\n",
       "<table border=\"1\" class=\"dataframe\">\n",
       "  <thead>\n",
       "    <tr style=\"text-align: right;\">\n",
       "      <th></th>\n",
       "      <th>year</th>\n",
       "      <th>engine_hp</th>\n",
       "      <th>highway_mpg</th>\n",
       "      <th>city_mpg</th>\n",
       "      <th>popularity</th>\n",
       "      <th>msrp</th>\n",
       "    </tr>\n",
       "  </thead>\n",
       "  <tbody>\n",
       "    <tr>\n",
       "      <th>0</th>\n",
       "      <td>2011</td>\n",
       "      <td>335</td>\n",
       "      <td>26</td>\n",
       "      <td>19</td>\n",
       "      <td>3916</td>\n",
       "      <td>46135</td>\n",
       "    </tr>\n",
       "    <tr>\n",
       "      <th>1</th>\n",
       "      <td>2011</td>\n",
       "      <td>300</td>\n",
       "      <td>28</td>\n",
       "      <td>19</td>\n",
       "      <td>3916</td>\n",
       "      <td>40650</td>\n",
       "    </tr>\n",
       "    <tr>\n",
       "      <th>2</th>\n",
       "      <td>2011</td>\n",
       "      <td>300</td>\n",
       "      <td>28</td>\n",
       "      <td>20</td>\n",
       "      <td>3916</td>\n",
       "      <td>36350</td>\n",
       "    </tr>\n",
       "    <tr>\n",
       "      <th>3</th>\n",
       "      <td>2011</td>\n",
       "      <td>230</td>\n",
       "      <td>28</td>\n",
       "      <td>18</td>\n",
       "      <td>3916</td>\n",
       "      <td>29450</td>\n",
       "    </tr>\n",
       "    <tr>\n",
       "      <th>4</th>\n",
       "      <td>2011</td>\n",
       "      <td>230</td>\n",
       "      <td>28</td>\n",
       "      <td>18</td>\n",
       "      <td>3916</td>\n",
       "      <td>34500</td>\n",
       "    </tr>\n",
       "  </tbody>\n",
       "</table>\n",
       "</div>"
      ],
      "text/plain": [
       "   year  engine_hp  highway_mpg  city_mpg  popularity   msrp\n",
       "0  2011        335           26        19        3916  46135\n",
       "1  2011        300           28        19        3916  40650\n",
       "2  2011        300           28        20        3916  36350\n",
       "3  2011        230           28        18        3916  29450\n",
       "4  2011        230           28        18        3916  34500"
      ]
     },
     "execution_count": 90,
     "metadata": {},
     "output_type": "execute_result"
    }
   ],
   "source": [
    "contdf.head(5)"
   ]
  },
  {
   "cell_type": "code",
   "execution_count": 91,
   "id": "40062327",
   "metadata": {},
   "outputs": [
    {
     "data": {
      "text/html": [
       "<div>\n",
       "<style scoped>\n",
       "    .dataframe tbody tr th:only-of-type {\n",
       "        vertical-align: middle;\n",
       "    }\n",
       "\n",
       "    .dataframe tbody tr th {\n",
       "        vertical-align: top;\n",
       "    }\n",
       "\n",
       "    .dataframe thead th {\n",
       "        text-align: right;\n",
       "    }\n",
       "</style>\n",
       "<table border=\"1\" class=\"dataframe\">\n",
       "  <thead>\n",
       "    <tr style=\"text-align: right;\">\n",
       "      <th></th>\n",
       "      <th>make</th>\n",
       "      <th>model</th>\n",
       "      <th>engine_fuel_type</th>\n",
       "      <th>transmission_type</th>\n",
       "      <th>driven_wheels</th>\n",
       "      <th>market_category</th>\n",
       "      <th>vehicle_size</th>\n",
       "      <th>vehicle_style</th>\n",
       "      <th>engine_cylinders</th>\n",
       "      <th>number_of_doors</th>\n",
       "    </tr>\n",
       "  </thead>\n",
       "  <tbody>\n",
       "    <tr>\n",
       "      <th>0</th>\n",
       "      <td>bmw</td>\n",
       "      <td>1_series</td>\n",
       "      <td>premium_unleaded_(required)</td>\n",
       "      <td>manual</td>\n",
       "      <td>rear_wheel_drive</td>\n",
       "      <td>factory_tuner,luxury,high-performance</td>\n",
       "      <td>compact</td>\n",
       "      <td>coupe</td>\n",
       "      <td>6</td>\n",
       "      <td>2</td>\n",
       "    </tr>\n",
       "    <tr>\n",
       "      <th>1</th>\n",
       "      <td>bmw</td>\n",
       "      <td>1_series</td>\n",
       "      <td>premium_unleaded_(required)</td>\n",
       "      <td>manual</td>\n",
       "      <td>rear_wheel_drive</td>\n",
       "      <td>luxury,performance</td>\n",
       "      <td>compact</td>\n",
       "      <td>convertible</td>\n",
       "      <td>6</td>\n",
       "      <td>2</td>\n",
       "    </tr>\n",
       "    <tr>\n",
       "      <th>2</th>\n",
       "      <td>bmw</td>\n",
       "      <td>1_series</td>\n",
       "      <td>premium_unleaded_(required)</td>\n",
       "      <td>manual</td>\n",
       "      <td>rear_wheel_drive</td>\n",
       "      <td>luxury,high-performance</td>\n",
       "      <td>compact</td>\n",
       "      <td>coupe</td>\n",
       "      <td>6</td>\n",
       "      <td>2</td>\n",
       "    </tr>\n",
       "    <tr>\n",
       "      <th>3</th>\n",
       "      <td>bmw</td>\n",
       "      <td>1_series</td>\n",
       "      <td>premium_unleaded_(required)</td>\n",
       "      <td>manual</td>\n",
       "      <td>rear_wheel_drive</td>\n",
       "      <td>luxury,performance</td>\n",
       "      <td>compact</td>\n",
       "      <td>coupe</td>\n",
       "      <td>6</td>\n",
       "      <td>2</td>\n",
       "    </tr>\n",
       "    <tr>\n",
       "      <th>4</th>\n",
       "      <td>bmw</td>\n",
       "      <td>1_series</td>\n",
       "      <td>premium_unleaded_(required)</td>\n",
       "      <td>manual</td>\n",
       "      <td>rear_wheel_drive</td>\n",
       "      <td>luxury</td>\n",
       "      <td>compact</td>\n",
       "      <td>convertible</td>\n",
       "      <td>6</td>\n",
       "      <td>2</td>\n",
       "    </tr>\n",
       "  </tbody>\n",
       "</table>\n",
       "</div>"
      ],
      "text/plain": [
       "  make     model             engine_fuel_type transmission_type  \\\n",
       "0  bmw  1_series  premium_unleaded_(required)            manual   \n",
       "1  bmw  1_series  premium_unleaded_(required)            manual   \n",
       "2  bmw  1_series  premium_unleaded_(required)            manual   \n",
       "3  bmw  1_series  premium_unleaded_(required)            manual   \n",
       "4  bmw  1_series  premium_unleaded_(required)            manual   \n",
       "\n",
       "      driven_wheels                        market_category vehicle_size  \\\n",
       "0  rear_wheel_drive  factory_tuner,luxury,high-performance      compact   \n",
       "1  rear_wheel_drive                     luxury,performance      compact   \n",
       "2  rear_wheel_drive                luxury,high-performance      compact   \n",
       "3  rear_wheel_drive                     luxury,performance      compact   \n",
       "4  rear_wheel_drive                                 luxury      compact   \n",
       "\n",
       "  vehicle_style  engine_cylinders  number_of_doors  \n",
       "0         coupe                 6                2  \n",
       "1   convertible                 6                2  \n",
       "2         coupe                 6                2  \n",
       "3         coupe                 6                2  \n",
       "4   convertible                 6                2  "
      ]
     },
     "execution_count": 91,
     "metadata": {},
     "output_type": "execute_result"
    }
   ],
   "source": [
    "catdf.head(5)"
   ]
  },
  {
   "cell_type": "code",
   "execution_count": null,
   "id": "8611a6d5",
   "metadata": {},
   "outputs": [],
   "source": []
  },
  {
   "cell_type": "markdown",
   "id": "91162999",
   "metadata": {},
   "source": [
    "# Continuous"
   ]
  },
  {
   "cell_type": "code",
   "execution_count": 92,
   "id": "95c57ca3",
   "metadata": {},
   "outputs": [
    {
     "data": {
      "text/plain": [
       "Index(['year', 'engine_hp', 'highway_mpg', 'city_mpg', 'popularity', 'msrp'], dtype='object')"
      ]
     },
     "execution_count": 92,
     "metadata": {},
     "output_type": "execute_result"
    }
   ],
   "source": [
    "contdf.columns"
   ]
  },
  {
   "cell_type": "markdown",
   "id": "1b484c07",
   "metadata": {},
   "source": [
    "Using regplot for continuos attributes"
   ]
  },
  {
   "cell_type": "code",
   "execution_count": 93,
   "id": "b20a74ec",
   "metadata": {
    "scrolled": false
   },
   "outputs": [
    {
     "name": "stderr",
     "output_type": "stream",
     "text": [
      "C:\\Users\\Bharath Atla\\anaconda3\\lib\\site-packages\\seaborn\\_decorators.py:36: FutureWarning: Pass the following variables as keyword args: x, y. From version 0.12, the only valid positional argument will be `data`, and passing other arguments without an explicit keyword will result in an error or misinterpretation.\n",
      "  warnings.warn(\n",
      "C:\\Users\\Bharath Atla\\anaconda3\\lib\\site-packages\\seaborn\\_decorators.py:36: FutureWarning: Pass the following variables as keyword args: x, y. From version 0.12, the only valid positional argument will be `data`, and passing other arguments without an explicit keyword will result in an error or misinterpretation.\n",
      "  warnings.warn(\n",
      "C:\\Users\\Bharath Atla\\anaconda3\\lib\\site-packages\\seaborn\\_decorators.py:36: FutureWarning: Pass the following variables as keyword args: x, y. From version 0.12, the only valid positional argument will be `data`, and passing other arguments without an explicit keyword will result in an error or misinterpretation.\n",
      "  warnings.warn(\n",
      "C:\\Users\\Bharath Atla\\anaconda3\\lib\\site-packages\\seaborn\\_decorators.py:36: FutureWarning: Pass the following variables as keyword args: x, y. From version 0.12, the only valid positional argument will be `data`, and passing other arguments without an explicit keyword will result in an error or misinterpretation.\n",
      "  warnings.warn(\n",
      "C:\\Users\\Bharath Atla\\anaconda3\\lib\\site-packages\\seaborn\\_decorators.py:36: FutureWarning: Pass the following variables as keyword args: x, y. From version 0.12, the only valid positional argument will be `data`, and passing other arguments without an explicit keyword will result in an error or misinterpretation.\n",
      "  warnings.warn(\n",
      "C:\\Users\\Bharath Atla\\anaconda3\\lib\\site-packages\\seaborn\\_decorators.py:36: FutureWarning: Pass the following variables as keyword args: x, y. From version 0.12, the only valid positional argument will be `data`, and passing other arguments without an explicit keyword will result in an error or misinterpretation.\n",
      "  warnings.warn(\n"
     ]
    },
    {
     "data": {
      "image/png": "[encoded data removed]",
      "text/plain": [
       "<Figure size 432x288 with 1 Axes>"
      ]
     },
     "metadata": {
      "needs_background": "light"
     },
     "output_type": "display_data"
    },
    {
     "data": {
      "image/png": "[encoded data removed]",
      "text/plain": [
       "<Figure size 432x288 with 1 Axes>"
      ]
     },
     "metadata": {
      "needs_background": "light"
     },
     "output_type": "display_data"
    },
    {
     "data": {
      "image/png": "[encoded data removed]",
      "text/plain": [
       "<Figure size 432x288 with 1 Axes>"
      ]
     },
     "metadata": {
      "needs_background": "light"
     },
     "output_type": "display_data"
    },
    {
     "data": {
      "image/png": "[encoded data removed]",
      "text/plain": [
       "<Figure size 432x288 with 1 Axes>"
      ]
     },
     "metadata": {
      "needs_background": "light"
     },
     "output_type": "display_data"
    },
    {
     "data": {
      "image/png": "[encoded data removed]",
      "text/plain": [
       "<Figure size 432x288 with 1 Axes>"
      ]
     },
     "metadata": {
      "needs_background": "light"
     },
     "output_type": "display_data"
    },
    {
     "data": {
      "image/png": "[encoded data removed]",
      "text/plain": [
       "<Figure size 432x288 with 1 Axes>"
      ]
     },
     "metadata": {
      "needs_background": "light"
     },
     "output_type": "display_data"
    }
   ],
   "source": [
    "import matplotlib.pyplot as plt\n",
    "import seaborn as sns\n",
    "for i, col in enumerate(contdf.columns):\n",
    "    plt.figure(i)\n",
    "    sns.regplot(df[col], df[\"msrp\"])"
   ]
  },
  {
   "cell_type": "markdown",
   "id": "48ee0676",
   "metadata": {},
   "source": [
    "Using correlation for continuos attributes"
   ]
  },
  {
   "cell_type": "code",
   "execution_count": 94,
   "id": "7d69d61e",
   "metadata": {},
   "outputs": [
    {
     "data": {
      "text/html": [
       "<style type=\"text/css\">\n",
       "#T_47076_row0_col0, #T_47076_row1_col1, #T_47076_row2_col2, #T_47076_row3_col3, #T_47076_row4_col4, #T_47076_row5_col5 {\n",
       "  background-color: #000000;\n",
       "  color: #f1f1f1;\n",
       "}\n",
       "#T_47076_row0_col1 {\n",
       "  background-color: #9f6540;\n",
       "  color: #f1f1f1;\n",
       "}\n",
       "#T_47076_row0_col2 {\n",
       "  background-color: #99613e;\n",
       "  color: #f1f1f1;\n",
       "}\n",
       "#T_47076_row0_col3 {\n",
       "  background-color: #9a623e;\n",
       "  color: #f1f1f1;\n",
       "}\n",
       "#T_47076_row0_col4 {\n",
       "  background-color: #ffa569;\n",
       "  color: #000000;\n",
       "}\n",
       "#T_47076_row0_col5 {\n",
       "  background-color: #cd8253;\n",
       "  color: #f1f1f1;\n",
       "}\n",
       "#T_47076_row1_col0 {\n",
       "  background-color: #ffb170;\n",
       "  color: #000000;\n",
       "}\n",
       "#T_47076_row1_col2, #T_47076_row1_col3, #T_47076_row3_col1, #T_47076_row3_col5, #T_47076_row5_col0, #T_47076_row5_col4 {\n",
       "  background-color: #ffc77f;\n",
       "  color: #000000;\n",
       "}\n",
       "#T_47076_row1_col4 {\n",
       "  background-color: #ffb472;\n",
       "  color: #000000;\n",
       "}\n",
       "#T_47076_row1_col5 {\n",
       "  background-color: #a76943;\n",
       "  color: #f1f1f1;\n",
       "}\n",
       "#T_47076_row2_col0 {\n",
       "  background-color: #ffa267;\n",
       "  color: #000000;\n",
       "}\n",
       "#T_47076_row2_col1, #T_47076_row3_col4 {\n",
       "  background-color: #ffbe79;\n",
       "  color: #000000;\n",
       "}\n",
       "#T_47076_row2_col3 {\n",
       "  background-color: #140c08;\n",
       "  color: #f1f1f1;\n",
       "}\n",
       "#T_47076_row2_col4 {\n",
       "  background-color: #ffbb77;\n",
       "  color: #000000;\n",
       "}\n",
       "#T_47076_row2_col5 {\n",
       "  background-color: #ffbf79;\n",
       "  color: #000000;\n",
       "}\n",
       "#T_47076_row3_col0 {\n",
       "  background-color: #ffad6e;\n",
       "  color: #000000;\n",
       "}\n",
       "#T_47076_row3_col2 {\n",
       "  background-color: #150d08;\n",
       "  color: #f1f1f1;\n",
       "}\n",
       "#T_47076_row4_col0 {\n",
       "  background-color: #ffc27b;\n",
       "  color: #000000;\n",
       "}\n",
       "#T_47076_row4_col1 {\n",
       "  background-color: #be784d;\n",
       "  color: #f1f1f1;\n",
       "}\n",
       "#T_47076_row4_col2 {\n",
       "  background-color: #d08354;\n",
       "  color: #f1f1f1;\n",
       "}\n",
       "#T_47076_row4_col3 {\n",
       "  background-color: #c87f51;\n",
       "  color: #f1f1f1;\n",
       "}\n",
       "#T_47076_row4_col5 {\n",
       "  background-color: #f19861;\n",
       "  color: #000000;\n",
       "}\n",
       "#T_47076_row5_col1 {\n",
       "  background-color: #925c3b;\n",
       "  color: #f1f1f1;\n",
       "}\n",
       "#T_47076_row5_col2 {\n",
       "  background-color: #ffaf6f;\n",
       "  color: #000000;\n",
       "}\n",
       "#T_47076_row5_col3 {\n",
       "  background-color: #ffae6f;\n",
       "  color: #000000;\n",
       "}\n",
       "</style>\n",
       "<table id=\"T_47076\">\n",
       "  <thead>\n",
       "    <tr>\n",
       "      <th class=\"blank level0\" >&nbsp;</th>\n",
       "      <th id=\"T_47076_level0_col0\" class=\"col_heading level0 col0\" >year</th>\n",
       "      <th id=\"T_47076_level0_col1\" class=\"col_heading level0 col1\" >engine_hp</th>\n",
       "      <th id=\"T_47076_level0_col2\" class=\"col_heading level0 col2\" >highway_mpg</th>\n",
       "      <th id=\"T_47076_level0_col3\" class=\"col_heading level0 col3\" >city_mpg</th>\n",
       "      <th id=\"T_47076_level0_col4\" class=\"col_heading level0 col4\" >popularity</th>\n",
       "      <th id=\"T_47076_level0_col5\" class=\"col_heading level0 col5\" >msrp</th>\n",
       "    </tr>\n",
       "  </thead>\n",
       "  <tbody>\n",
       "    <tr>\n",
       "      <th id=\"T_47076_level0_row0\" class=\"row_heading level0 row0\" >year</th>\n",
       "      <td id=\"T_47076_row0_col0\" class=\"data row0 col0\" >1.000000</td>\n",
       "      <td id=\"T_47076_row0_col1\" class=\"data row0 col1\" >0.244021</td>\n",
       "      <td id=\"T_47076_row0_col2\" class=\"data row0 col2\" >0.308247</td>\n",
       "      <td id=\"T_47076_row0_col3\" class=\"data row0 col3\" >0.262255</td>\n",
       "      <td id=\"T_47076_row0_col4\" class=\"data row0 col4\" >0.171467</td>\n",
       "      <td id=\"T_47076_row0_col5\" class=\"data row0 col5\" >0.146052</td>\n",
       "    </tr>\n",
       "    <tr>\n",
       "      <th id=\"T_47076_level0_row1\" class=\"row_heading level0 row1\" >engine_hp</th>\n",
       "      <td id=\"T_47076_row1_col0\" class=\"data row1 col0\" >0.244021</td>\n",
       "      <td id=\"T_47076_row1_col1\" class=\"data row1 col1\" >1.000000</td>\n",
       "      <td id=\"T_47076_row1_col2\" class=\"data row1 col2\" >-0.427729</td>\n",
       "      <td id=\"T_47076_row1_col3\" class=\"data row1 col3\" >-0.500179</td>\n",
       "      <td id=\"T_47076_row1_col4\" class=\"data row1 col4\" >0.096734</td>\n",
       "      <td id=\"T_47076_row1_col5\" class=\"data row1 col5\" >0.303479</td>\n",
       "    </tr>\n",
       "    <tr>\n",
       "      <th id=\"T_47076_level0_row2\" class=\"row_heading level0 row2\" >highway_mpg</th>\n",
       "      <td id=\"T_47076_row2_col0\" class=\"data row2 col0\" >0.308247</td>\n",
       "      <td id=\"T_47076_row2_col1\" class=\"data row2 col1\" >-0.427729</td>\n",
       "      <td id=\"T_47076_row2_col2\" class=\"data row2 col2\" >1.000000</td>\n",
       "      <td id=\"T_47076_row2_col3\" class=\"data row2 col3\" >0.900965</td>\n",
       "      <td id=\"T_47076_row2_col4\" class=\"data row2 col4\" >0.060792</td>\n",
       "      <td id=\"T_47076_row2_col5\" class=\"data row2 col5\" >-0.251733</td>\n",
       "    </tr>\n",
       "    <tr>\n",
       "      <th id=\"T_47076_level0_row3\" class=\"row_heading level0 row3\" >city_mpg</th>\n",
       "      <td id=\"T_47076_row3_col0\" class=\"data row3 col0\" >0.262255</td>\n",
       "      <td id=\"T_47076_row3_col1\" class=\"data row3 col1\" >-0.500179</td>\n",
       "      <td id=\"T_47076_row3_col2\" class=\"data row3 col2\" >0.900965</td>\n",
       "      <td id=\"T_47076_row3_col3\" class=\"data row3 col3\" >1.000000</td>\n",
       "      <td id=\"T_47076_row3_col4\" class=\"data row3 col4\" >0.046239</td>\n",
       "      <td id=\"T_47076_row3_col5\" class=\"data row3 col5\" >-0.311849</td>\n",
       "    </tr>\n",
       "    <tr>\n",
       "      <th id=\"T_47076_level0_row4\" class=\"row_heading level0 row4\" >popularity</th>\n",
       "      <td id=\"T_47076_row4_col0\" class=\"data row4 col0\" >0.171467</td>\n",
       "      <td id=\"T_47076_row4_col1\" class=\"data row4 col1\" >0.096734</td>\n",
       "      <td id=\"T_47076_row4_col2\" class=\"data row4 col2\" >0.060792</td>\n",
       "      <td id=\"T_47076_row4_col3\" class=\"data row4 col3\" >0.046239</td>\n",
       "      <td id=\"T_47076_row4_col4\" class=\"data row4 col4\" >1.000000</td>\n",
       "      <td id=\"T_47076_row4_col5\" class=\"data row4 col5\" >-0.001514</td>\n",
       "    </tr>\n",
       "    <tr>\n",
       "      <th id=\"T_47076_level0_row5\" class=\"row_heading level0 row5\" >msrp</th>\n",
       "      <td id=\"T_47076_row5_col0\" class=\"data row5 col0\" >0.146052</td>\n",
       "      <td id=\"T_47076_row5_col1\" class=\"data row5 col1\" >0.303479</td>\n",
       "      <td id=\"T_47076_row5_col2\" class=\"data row5 col2\" >-0.251733</td>\n",
       "      <td id=\"T_47076_row5_col3\" class=\"data row5 col3\" >-0.311849</td>\n",
       "      <td id=\"T_47076_row5_col4\" class=\"data row5 col4\" >-0.001514</td>\n",
       "      <td id=\"T_47076_row5_col5\" class=\"data row5 col5\" >1.000000</td>\n",
       "    </tr>\n",
       "  </tbody>\n",
       "</table>\n"
      ],
      "text/plain": [
       "<pandas.io.formats.style.Styler at 0x206a55bd310>"
      ]
     },
     "execution_count": 94,
     "metadata": {},
     "output_type": "execute_result"
    }
   ],
   "source": [
    "contdf.corr().style.background_gradient(\"copper_r\")"
   ]
  },
  {
   "cell_type": "code",
   "execution_count": 95,
   "id": "8befdae1",
   "metadata": {},
   "outputs": [
    {
     "data": {
      "text/plain": [
       "year           0.146052\n",
       "engine_hp      0.303479\n",
       "highway_mpg   -0.251733\n",
       "city_mpg      -0.311849\n",
       "popularity    -0.001514\n",
       "msrp           1.000000\n",
       "Name: msrp, dtype: float64"
      ]
     },
     "execution_count": 95,
     "metadata": {},
     "output_type": "execute_result"
    }
   ],
   "source": [
    "contdf.corr()[\"msrp\"]"
   ]
  },
  {
   "cell_type": "markdown",
   "id": "1a221cf8",
   "metadata": {},
   "source": [
    "# Categorical"
   ]
  },
  {
   "cell_type": "code",
   "execution_count": 96,
   "id": "9b55e928",
   "metadata": {},
   "outputs": [
    {
     "data": {
      "text/plain": [
       "Index(['make', 'model', 'engine_fuel_type', 'transmission_type',\n",
       "       'driven_wheels', 'market_category', 'vehicle_size', 'vehicle_style',\n",
       "       'engine_cylinders', 'number_of_doors'],\n",
       "      dtype='object')"
      ]
     },
     "execution_count": 96,
     "metadata": {},
     "output_type": "execute_result"
    }
   ],
   "source": [
    "catdf.columns"
   ]
  },
  {
   "cell_type": "code",
   "execution_count": 97,
   "id": "ac7fe0ea",
   "metadata": {},
   "outputs": [
    {
     "data": {
      "text/html": [
       "<div>\n",
       "<style scoped>\n",
       "    .dataframe tbody tr th:only-of-type {\n",
       "        vertical-align: middle;\n",
       "    }\n",
       "\n",
       "    .dataframe tbody tr th {\n",
       "        vertical-align: top;\n",
       "    }\n",
       "\n",
       "    .dataframe thead th {\n",
       "        text-align: right;\n",
       "    }\n",
       "</style>\n",
       "<table border=\"1\" class=\"dataframe\">\n",
       "  <thead>\n",
       "    <tr style=\"text-align: right;\">\n",
       "      <th></th>\n",
       "      <th>make</th>\n",
       "      <th>model</th>\n",
       "      <th>engine_fuel_type</th>\n",
       "      <th>transmission_type</th>\n",
       "      <th>driven_wheels</th>\n",
       "      <th>market_category</th>\n",
       "      <th>vehicle_size</th>\n",
       "      <th>vehicle_style</th>\n",
       "      <th>engine_cylinders</th>\n",
       "      <th>number_of_doors</th>\n",
       "    </tr>\n",
       "  </thead>\n",
       "  <tbody>\n",
       "    <tr>\n",
       "      <th>0</th>\n",
       "      <td>bmw</td>\n",
       "      <td>1_series</td>\n",
       "      <td>premium_unleaded_(required)</td>\n",
       "      <td>manual</td>\n",
       "      <td>rear_wheel_drive</td>\n",
       "      <td>factory_tuner,luxury,high-performance</td>\n",
       "      <td>compact</td>\n",
       "      <td>coupe</td>\n",
       "      <td>6</td>\n",
       "      <td>2</td>\n",
       "    </tr>\n",
       "    <tr>\n",
       "      <th>1</th>\n",
       "      <td>bmw</td>\n",
       "      <td>1_series</td>\n",
       "      <td>premium_unleaded_(required)</td>\n",
       "      <td>manual</td>\n",
       "      <td>rear_wheel_drive</td>\n",
       "      <td>luxury,performance</td>\n",
       "      <td>compact</td>\n",
       "      <td>convertible</td>\n",
       "      <td>6</td>\n",
       "      <td>2</td>\n",
       "    </tr>\n",
       "    <tr>\n",
       "      <th>2</th>\n",
       "      <td>bmw</td>\n",
       "      <td>1_series</td>\n",
       "      <td>premium_unleaded_(required)</td>\n",
       "      <td>manual</td>\n",
       "      <td>rear_wheel_drive</td>\n",
       "      <td>luxury,high-performance</td>\n",
       "      <td>compact</td>\n",
       "      <td>coupe</td>\n",
       "      <td>6</td>\n",
       "      <td>2</td>\n",
       "    </tr>\n",
       "    <tr>\n",
       "      <th>3</th>\n",
       "      <td>bmw</td>\n",
       "      <td>1_series</td>\n",
       "      <td>premium_unleaded_(required)</td>\n",
       "      <td>manual</td>\n",
       "      <td>rear_wheel_drive</td>\n",
       "      <td>luxury,performance</td>\n",
       "      <td>compact</td>\n",
       "      <td>coupe</td>\n",
       "      <td>6</td>\n",
       "      <td>2</td>\n",
       "    </tr>\n",
       "    <tr>\n",
       "      <th>4</th>\n",
       "      <td>bmw</td>\n",
       "      <td>1_series</td>\n",
       "      <td>premium_unleaded_(required)</td>\n",
       "      <td>manual</td>\n",
       "      <td>rear_wheel_drive</td>\n",
       "      <td>luxury</td>\n",
       "      <td>compact</td>\n",
       "      <td>convertible</td>\n",
       "      <td>6</td>\n",
       "      <td>2</td>\n",
       "    </tr>\n",
       "  </tbody>\n",
       "</table>\n",
       "</div>"
      ],
      "text/plain": [
       "  make     model             engine_fuel_type transmission_type  \\\n",
       "0  bmw  1_series  premium_unleaded_(required)            manual   \n",
       "1  bmw  1_series  premium_unleaded_(required)            manual   \n",
       "2  bmw  1_series  premium_unleaded_(required)            manual   \n",
       "3  bmw  1_series  premium_unleaded_(required)            manual   \n",
       "4  bmw  1_series  premium_unleaded_(required)            manual   \n",
       "\n",
       "      driven_wheels                        market_category vehicle_size  \\\n",
       "0  rear_wheel_drive  factory_tuner,luxury,high-performance      compact   \n",
       "1  rear_wheel_drive                     luxury,performance      compact   \n",
       "2  rear_wheel_drive                luxury,high-performance      compact   \n",
       "3  rear_wheel_drive                     luxury,performance      compact   \n",
       "4  rear_wheel_drive                                 luxury      compact   \n",
       "\n",
       "  vehicle_style  engine_cylinders  number_of_doors  \n",
       "0         coupe                 6                2  \n",
       "1   convertible                 6                2  \n",
       "2         coupe                 6                2  \n",
       "3         coupe                 6                2  \n",
       "4   convertible                 6                2  "
      ]
     },
     "execution_count": 97,
     "metadata": {},
     "output_type": "execute_result"
    }
   ],
   "source": [
    "catdf.head(5)"
   ]
  },
  {
   "cell_type": "markdown",
   "id": "6d585197",
   "metadata": {},
   "source": [
    "Using bar plot for categorical attributes"
   ]
  },
  {
   "cell_type": "code",
   "execution_count": 98,
   "id": "7db4d8ee",
   "metadata": {},
   "outputs": [],
   "source": [
    "def sort_order(column):\n",
    "    orders = (df.groupby([column]).mean().sort_values(by ='msrp', ascending = False)).index\n",
    "    return orders"
   ]
  },
  {
   "cell_type": "code",
   "execution_count": 99,
   "id": "16e70a2f",
   "metadata": {},
   "outputs": [
    {
     "name": "stderr",
     "output_type": "stream",
     "text": [
      "C:\\Users\\Bharath Atla\\anaconda3\\lib\\site-packages\\seaborn\\_decorators.py:36: FutureWarning: Pass the following variables as keyword args: x, y. From version 0.12, the only valid positional argument will be `data`, and passing other arguments without an explicit keyword will result in an error or misinterpretation.\n",
      "  warnings.warn(\n"
     ]
    },
    {
     "data": {
      "image/png": "[encoded data removed]",
      "text/plain": [
       "<Figure size 1440x720 with 1 Axes>"
      ]
     },
     "metadata": {
      "needs_background": "light"
     },
     "output_type": "display_data"
    },
    {
     "name": "stdout",
     "output_type": "stream",
     "text": [
      "\n",
      "\n"
     ]
    },
    {
     "name": "stderr",
     "output_type": "stream",
     "text": [
      "C:\\Users\\Bharath Atla\\anaconda3\\lib\\site-packages\\seaborn\\_decorators.py:36: FutureWarning: Pass the following variables as keyword args: x, y. From version 0.12, the only valid positional argument will be `data`, and passing other arguments without an explicit keyword will result in an error or misinterpretation.\n",
      "  warnings.warn(\n"
     ]
    },
    {
     "data": {
      "image/png": "[encoded data removed]",
      "text/plain": [
       "<Figure size 1440x720 with 1 Axes>"
      ]
     },
     "metadata": {
      "needs_background": "light"
     },
     "output_type": "display_data"
    },
    {
     "name": "stdout",
     "output_type": "stream",
     "text": [
      "\n",
      "\n"
     ]
    },
    {
     "name": "stderr",
     "output_type": "stream",
     "text": [
      "C:\\Users\\Bharath Atla\\anaconda3\\lib\\site-packages\\seaborn\\_decorators.py:36: FutureWarning: Pass the following variables as keyword args: x, y. From version 0.12, the only valid positional argument will be `data`, and passing other arguments without an explicit keyword will result in an error or misinterpretation.\n",
      "  warnings.warn(\n"
     ]
    },
    {
     "data": {
      "image/png": "[encoded data removed]",
      "text/plain": [
       "<Figure size 1440x720 with 1 Axes>"
      ]
     },
     "metadata": {
      "needs_background": "light"
     },
     "output_type": "display_data"
    },
    {
     "name": "stdout",
     "output_type": "stream",
     "text": [
      "\n",
      "\n"
     ]
    },
    {
     "name": "stderr",
     "output_type": "stream",
     "text": [
      "C:\\Users\\Bharath Atla\\anaconda3\\lib\\site-packages\\seaborn\\_decorators.py:36: FutureWarning: Pass the following variables as keyword args: x, y. From version 0.12, the only valid positional argument will be `data`, and passing other arguments without an explicit keyword will result in an error or misinterpretation.\n",
      "  warnings.warn(\n"
     ]
    },
    {
     "data": {
      "image/png": "[encoded data removed]",
      "text/plain": [
       "<Figure size 1440x720 with 1 Axes>"
      ]
     },
     "metadata": {
      "needs_background": "light"
     },
     "output_type": "display_data"
    },
    {
     "name": "stdout",
     "output_type": "stream",
     "text": [
      "\n",
      "\n"
     ]
    },
    {
     "name": "stderr",
     "output_type": "stream",
     "text": [
      "C:\\Users\\Bharath Atla\\anaconda3\\lib\\site-packages\\seaborn\\_decorators.py:36: FutureWarning: Pass the following variables as keyword args: x, y. From version 0.12, the only valid positional argument will be `data`, and passing other arguments without an explicit keyword will result in an error or misinterpretation.\n",
      "  warnings.warn(\n"
     ]
    },
    {
     "data": {
      "image/png": "[encoded data removed]",
      "text/plain": [
       "<Figure size 1440x720 with 1 Axes>"
      ]
     },
     "metadata": {
      "needs_background": "light"
     },
     "output_type": "display_data"
    },
    {
     "name": "stdout",
     "output_type": "stream",
     "text": [
      "\n",
      "\n"
     ]
    },
    {
     "name": "stderr",
     "output_type": "stream",
     "text": [
      "C:\\Users\\Bharath Atla\\anaconda3\\lib\\site-packages\\seaborn\\_decorators.py:36: FutureWarning: Pass the following variables as keyword args: x, y. From version 0.12, the only valid positional argument will be `data`, and passing other arguments without an explicit keyword will result in an error or misinterpretation.\n",
      "  warnings.warn(\n"
     ]
    },
    {
     "data": {
      "image/png": "[encoded data removed]",
      "text/plain": [
       "<Figure size 1440x720 with 1 Axes>"
      ]
     },
     "metadata": {
      "needs_background": "light"
     },
     "output_type": "display_data"
    },
    {
     "name": "stdout",
     "output_type": "stream",
     "text": [
      "\n",
      "\n"
     ]
    },
    {
     "name": "stderr",
     "output_type": "stream",
     "text": [
      "C:\\Users\\Bharath Atla\\anaconda3\\lib\\site-packages\\seaborn\\_decorators.py:36: FutureWarning: Pass the following variables as keyword args: x, y. From version 0.12, the only valid positional argument will be `data`, and passing other arguments without an explicit keyword will result in an error or misinterpretation.\n",
      "  warnings.warn(\n"
     ]
    },
    {
     "data": {
      "image/png": "[encoded data removed]",
      "text/plain": [
       "<Figure size 1440x720 with 1 Axes>"
      ]
     },
     "metadata": {
      "needs_background": "light"
     },
     "output_type": "display_data"
    },
    {
     "name": "stdout",
     "output_type": "stream",
     "text": [
      "\n",
      "\n"
     ]
    },
    {
     "name": "stderr",
     "output_type": "stream",
     "text": [
      "C:\\Users\\Bharath Atla\\anaconda3\\lib\\site-packages\\seaborn\\_decorators.py:36: FutureWarning: Pass the following variables as keyword args: x, y. From version 0.12, the only valid positional argument will be `data`, and passing other arguments without an explicit keyword will result in an error or misinterpretation.\n",
      "  warnings.warn(\n"
     ]
    },
    {
     "data": {
      "image/png": "[encoded data removed]",
      "text/plain": [
       "<Figure size 1440x720 with 1 Axes>"
      ]
     },
     "metadata": {
      "needs_background": "light"
     },
     "output_type": "display_data"
    },
    {
     "name": "stdout",
     "output_type": "stream",
     "text": [
      "\n",
      "\n"
     ]
    },
    {
     "name": "stderr",
     "output_type": "stream",
     "text": [
      "C:\\Users\\Bharath Atla\\anaconda3\\lib\\site-packages\\seaborn\\_decorators.py:36: FutureWarning: Pass the following variables as keyword args: x, y. From version 0.12, the only valid positional argument will be `data`, and passing other arguments without an explicit keyword will result in an error or misinterpretation.\n",
      "  warnings.warn(\n"
     ]
    },
    {
     "data": {
      "image/png": "[encoded data removed]",
      "text/plain": [
       "<Figure size 1440x720 with 1 Axes>"
      ]
     },
     "metadata": {
      "needs_background": "light"
     },
     "output_type": "display_data"
    },
    {
     "name": "stdout",
     "output_type": "stream",
     "text": [
      "\n",
      "\n"
     ]
    }
   ],
   "source": [
    "for i in catdf:\n",
    "    if df[i].nunique() < 72:\n",
    "        f,ax=plt.subplots(figsize=(20,10))\n",
    "        sns.barplot(df[i],df['msrp'], order = sort_order(i), palette='coolwarm')\n",
    "        plt.title(\"Bar Plot of %s\" %i, fontsize = 20)\n",
    "        plt.xticks(fontsize = 12)\n",
    "        plt.xlabel(\"%s\"%i)\n",
    "        plt.ylabel(\"Car Price\")\n",
    "        plt.xticks(fontsize = 15, rotation = 90)\n",
    "        plt.show();\n",
    "        print('\\n')"
   ]
  },
  {
   "cell_type": "markdown",
   "id": "c742c485",
   "metadata": {},
   "source": [
    "These bar graphs represents individual categorical variable relation with dependent variable MSRP\n",
    "\n",
    "Many groups in every variable have leads to high price in car.\n",
    "Some of them are:\n",
    "\n",
    "convertible and coupe in vehicle_style\n",
    "large in vehicle_size\n",
    "exotic, luxury, performance in market_category\n",
    "all wheel drive and rear wheel drive in driven_wheels\n",
    "automated-manual in transmission type\n",
    "bugatti, maybach in vehicle_size"
   ]
  },
  {
   "cell_type": "markdown",
   "id": "34c4ec4a",
   "metadata": {},
   "source": [
    "Using Anova test for categorical attributes"
   ]
  },
  {
   "cell_type": "code",
   "execution_count": 100,
   "id": "072dd7f9",
   "metadata": {},
   "outputs": [],
   "source": [
    "from scipy import stats\n",
    "import scipy.stats"
   ]
  },
  {
   "cell_type": "code",
   "execution_count": 101,
   "id": "3b16a9dc",
   "metadata": {},
   "outputs": [],
   "source": [
    "def select_cat(cat):\n",
    "    grouped_test2=df[[cat, 'msrp']].groupby([cat])\n",
    "    f_val, p_val = stats.f_oneway(*(grouped_test2.get_group(i)['msrp'] for i in df[cat].unique())) \n",
    "    print(\"f_statistics:\",f_val,p_val)\n",
    "    dfn1=len(df[cat].unique())-1\n",
    "    dfd1=len(df[cat].index)-len(df[cat].unique())\n",
    "    print(\"degree of freedom:\",dfn1,dfd1)\n",
    "    f_crit=scipy.stats.f.ppf(q=1-.05, dfn=dfn1, dfd=dfd1)\n",
    "    print(\"f_critical:\",f_crit)\n",
    "    if f_val>f_crit and p_val<0.05:\n",
    "        print(cat,\"attribute accepted\")\n",
    "        print(\"_______________________________\")\n",
    "        return False\n",
    "    else:\n",
    "        print(cat,\"attribute rejected\")\n",
    "        print(\"_______________________________\")\n",
    "        return True"
   ]
  },
  {
   "cell_type": "code",
   "execution_count": 102,
   "id": "eb58b390",
   "metadata": {
    "scrolled": true
   },
   "outputs": [
    {
     "name": "stdout",
     "output_type": "stream",
     "text": [
      "f_statistics: 739.6748296624527 0.0\n",
      "degree of freedom: 47 11151\n",
      "f_critical: 1.3628855372022792\n",
      "make attribute accepted\n",
      "_______________________________\n",
      "f_statistics: 402.1212544807958 0.0\n",
      "degree of freedom: 912 10286\n",
      "f_critical: 1.082028012133468\n",
      "model attribute accepted\n",
      "_______________________________\n",
      "f_statistics: 394.4457893621207 0.0\n",
      "degree of freedom: 9 11189\n",
      "f_critical: 1.880719787651389\n",
      "engine_fuel_type attribute accepted\n",
      "_______________________________\n",
      "f_statistics: 211.4031092782728 3.785774486954832e-175\n",
      "degree of freedom: 4 11194\n",
      "f_critical: 2.3727257063284273\n",
      "transmission_type attribute accepted\n",
      "_______________________________\n",
      "f_statistics: 278.7764631214758 1.6030562014288193e-174\n",
      "degree of freedom: 3 11195\n",
      "f_critical: 2.6057022904392833\n",
      "driven_wheels attribute accepted\n",
      "_______________________________\n",
      "f_statistics: 194.30636654025176 0.0\n",
      "degree of freedom: 70 11128\n",
      "f_critical: 1.294611522718753\n",
      "market_category attribute accepted\n",
      "_______________________________\n",
      "f_statistics: 91.17951321980172 5.2513477029521406e-40\n",
      "degree of freedom: 2 11196\n",
      "f_critical: 2.9965339896060583\n",
      "vehicle_size attribute accepted\n",
      "_______________________________\n",
      "f_statistics: 87.68787720674636 5.075187817705458e-256\n",
      "degree of freedom: 15 11183\n",
      "f_critical: 1.6672798482721753\n",
      "vehicle_style attribute accepted\n",
      "_______________________________\n",
      "f_statistics: 192.9994023204325 2.8151587896576835e-160\n",
      "degree of freedom: 4 11194\n",
      "f_critical: 2.3727257063284273\n",
      "engine_cylinders attribute accepted\n",
      "_______________________________\n",
      "f_statistics: 107.7637310816225 8.803969170158443e-69\n",
      "degree of freedom: 3 11195\n",
      "f_critical: 2.6057022904392833\n",
      "number_of_doors attribute accepted\n",
      "_______________________________\n"
     ]
    }
   ],
   "source": [
    "for i in catdf:\n",
    "    select_cat(i)"
   ]
  },
  {
   "cell_type": "markdown",
   "id": "cf5d4a80",
   "metadata": {},
   "source": [
    "# Spliting Dataset into Train and test"
   ]
  },
  {
   "cell_type": "code",
   "execution_count": 103,
   "id": "42a57b9c",
   "metadata": {
    "scrolled": false
   },
   "outputs": [
    {
     "data": {
      "text/html": [
       "<div>\n",
       "<style scoped>\n",
       "    .dataframe tbody tr th:only-of-type {\n",
       "        vertical-align: middle;\n",
       "    }\n",
       "\n",
       "    .dataframe tbody tr th {\n",
       "        vertical-align: top;\n",
       "    }\n",
       "\n",
       "    .dataframe thead th {\n",
       "        text-align: right;\n",
       "    }\n",
       "</style>\n",
       "<table border=\"1\" class=\"dataframe\">\n",
       "  <thead>\n",
       "    <tr style=\"text-align: right;\">\n",
       "      <th></th>\n",
       "      <th>year</th>\n",
       "      <th>engine_hp</th>\n",
       "      <th>highway_mpg</th>\n",
       "      <th>city_mpg</th>\n",
       "      <th>popularity</th>\n",
       "      <th>msrp</th>\n",
       "    </tr>\n",
       "  </thead>\n",
       "  <tbody>\n",
       "    <tr>\n",
       "      <th>0</th>\n",
       "      <td>2011</td>\n",
       "      <td>335</td>\n",
       "      <td>26</td>\n",
       "      <td>19</td>\n",
       "      <td>3916</td>\n",
       "      <td>46135</td>\n",
       "    </tr>\n",
       "    <tr>\n",
       "      <th>1</th>\n",
       "      <td>2011</td>\n",
       "      <td>300</td>\n",
       "      <td>28</td>\n",
       "      <td>19</td>\n",
       "      <td>3916</td>\n",
       "      <td>40650</td>\n",
       "    </tr>\n",
       "    <tr>\n",
       "      <th>2</th>\n",
       "      <td>2011</td>\n",
       "      <td>300</td>\n",
       "      <td>28</td>\n",
       "      <td>20</td>\n",
       "      <td>3916</td>\n",
       "      <td>36350</td>\n",
       "    </tr>\n",
       "    <tr>\n",
       "      <th>3</th>\n",
       "      <td>2011</td>\n",
       "      <td>230</td>\n",
       "      <td>28</td>\n",
       "      <td>18</td>\n",
       "      <td>3916</td>\n",
       "      <td>29450</td>\n",
       "    </tr>\n",
       "    <tr>\n",
       "      <th>4</th>\n",
       "      <td>2011</td>\n",
       "      <td>230</td>\n",
       "      <td>28</td>\n",
       "      <td>18</td>\n",
       "      <td>3916</td>\n",
       "      <td>34500</td>\n",
       "    </tr>\n",
       "  </tbody>\n",
       "</table>\n",
       "</div>"
      ],
      "text/plain": [
       "   year  engine_hp  highway_mpg  city_mpg  popularity   msrp\n",
       "0  2011        335           26        19        3916  46135\n",
       "1  2011        300           28        19        3916  40650\n",
       "2  2011        300           28        20        3916  36350\n",
       "3  2011        230           28        18        3916  29450\n",
       "4  2011        230           28        18        3916  34500"
      ]
     },
     "execution_count": 103,
     "metadata": {},
     "output_type": "execute_result"
    }
   ],
   "source": [
    "contdf.head(5)"
   ]
  },
  {
   "cell_type": "code",
   "execution_count": 104,
   "id": "c4adbd42",
   "metadata": {
    "scrolled": false
   },
   "outputs": [
    {
     "data": {
      "text/plain": [
       "Index(['make', 'model', 'engine_fuel_type', 'transmission_type',\n",
       "       'driven_wheels', 'market_category', 'vehicle_size', 'vehicle_style',\n",
       "       'engine_cylinders', 'number_of_doors'],\n",
       "      dtype='object')"
      ]
     },
     "execution_count": 104,
     "metadata": {},
     "output_type": "execute_result"
    }
   ],
   "source": [
    "catdf.columns"
   ]
  },
  {
   "cell_type": "code",
   "execution_count": 105,
   "id": "77a6cf59",
   "metadata": {},
   "outputs": [],
   "source": [
    "lst_imp = ['make', 'model', 'year', 'engine_fuel_type', 'engine_hp', 'engine_cylinders', 'transmission_type', 'driven_wheels', 'number_of_doors', 'market_category', 'vehicle_size', 'vehicle_style', 'highway_mpg', 'city_mpg', 'popularity']"
   ]
  },
  {
   "cell_type": "code",
   "execution_count": 106,
   "id": "21d62e25",
   "metadata": {},
   "outputs": [
    {
     "data": {
      "text/plain": [
       "['make',\n",
       " 'model',\n",
       " 'year',\n",
       " 'engine_fuel_type',\n",
       " 'engine_hp',\n",
       " 'engine_cylinders',\n",
       " 'transmission_type',\n",
       " 'driven_wheels',\n",
       " 'number_of_doors',\n",
       " 'market_category',\n",
       " 'vehicle_size',\n",
       " 'vehicle_style',\n",
       " 'highway_mpg',\n",
       " 'city_mpg',\n",
       " 'popularity']"
      ]
     },
     "execution_count": 106,
     "metadata": {},
     "output_type": "execute_result"
    }
   ],
   "source": [
    "lst_imp"
   ]
  },
  {
   "cell_type": "markdown",
   "id": "2c05e4e3",
   "metadata": {},
   "source": [
    "Do label Encoding for categorical and Data scaling for numerical after splitting"
   ]
  },
  {
   "cell_type": "code",
   "execution_count": 107,
   "id": "eec0d79f",
   "metadata": {},
   "outputs": [],
   "source": [
    "x_data=df[lst_imp]\n",
    "y_data=df[\"msrp\"]"
   ]
  },
  {
   "cell_type": "code",
   "execution_count": 108,
   "id": "2724f5c0",
   "metadata": {},
   "outputs": [
    {
     "data": {
      "text/html": [
       "<div>\n",
       "<style scoped>\n",
       "    .dataframe tbody tr th:only-of-type {\n",
       "        vertical-align: middle;\n",
       "    }\n",
       "\n",
       "    .dataframe tbody tr th {\n",
       "        vertical-align: top;\n",
       "    }\n",
       "\n",
       "    .dataframe thead th {\n",
       "        text-align: right;\n",
       "    }\n",
       "</style>\n",
       "<table border=\"1\" class=\"dataframe\">\n",
       "  <thead>\n",
       "    <tr style=\"text-align: right;\">\n",
       "      <th></th>\n",
       "      <th>make</th>\n",
       "      <th>model</th>\n",
       "      <th>year</th>\n",
       "      <th>engine_fuel_type</th>\n",
       "      <th>engine_hp</th>\n",
       "      <th>engine_cylinders</th>\n",
       "      <th>transmission_type</th>\n",
       "      <th>driven_wheels</th>\n",
       "      <th>number_of_doors</th>\n",
       "      <th>market_category</th>\n",
       "      <th>vehicle_size</th>\n",
       "      <th>vehicle_style</th>\n",
       "      <th>highway_mpg</th>\n",
       "      <th>city_mpg</th>\n",
       "      <th>popularity</th>\n",
       "    </tr>\n",
       "  </thead>\n",
       "  <tbody>\n",
       "    <tr>\n",
       "      <th>0</th>\n",
       "      <td>bmw</td>\n",
       "      <td>1_series</td>\n",
       "      <td>2011</td>\n",
       "      <td>premium_unleaded_(required)</td>\n",
       "      <td>335</td>\n",
       "      <td>6</td>\n",
       "      <td>manual</td>\n",
       "      <td>rear_wheel_drive</td>\n",
       "      <td>2</td>\n",
       "      <td>factory_tuner,luxury,high-performance</td>\n",
       "      <td>compact</td>\n",
       "      <td>coupe</td>\n",
       "      <td>26</td>\n",
       "      <td>19</td>\n",
       "      <td>3916</td>\n",
       "    </tr>\n",
       "    <tr>\n",
       "      <th>1</th>\n",
       "      <td>bmw</td>\n",
       "      <td>1_series</td>\n",
       "      <td>2011</td>\n",
       "      <td>premium_unleaded_(required)</td>\n",
       "      <td>300</td>\n",
       "      <td>6</td>\n",
       "      <td>manual</td>\n",
       "      <td>rear_wheel_drive</td>\n",
       "      <td>2</td>\n",
       "      <td>luxury,performance</td>\n",
       "      <td>compact</td>\n",
       "      <td>convertible</td>\n",
       "      <td>28</td>\n",
       "      <td>19</td>\n",
       "      <td>3916</td>\n",
       "    </tr>\n",
       "    <tr>\n",
       "      <th>2</th>\n",
       "      <td>bmw</td>\n",
       "      <td>1_series</td>\n",
       "      <td>2011</td>\n",
       "      <td>premium_unleaded_(required)</td>\n",
       "      <td>300</td>\n",
       "      <td>6</td>\n",
       "      <td>manual</td>\n",
       "      <td>rear_wheel_drive</td>\n",
       "      <td>2</td>\n",
       "      <td>luxury,high-performance</td>\n",
       "      <td>compact</td>\n",
       "      <td>coupe</td>\n",
       "      <td>28</td>\n",
       "      <td>20</td>\n",
       "      <td>3916</td>\n",
       "    </tr>\n",
       "    <tr>\n",
       "      <th>3</th>\n",
       "      <td>bmw</td>\n",
       "      <td>1_series</td>\n",
       "      <td>2011</td>\n",
       "      <td>premium_unleaded_(required)</td>\n",
       "      <td>230</td>\n",
       "      <td>6</td>\n",
       "      <td>manual</td>\n",
       "      <td>rear_wheel_drive</td>\n",
       "      <td>2</td>\n",
       "      <td>luxury,performance</td>\n",
       "      <td>compact</td>\n",
       "      <td>coupe</td>\n",
       "      <td>28</td>\n",
       "      <td>18</td>\n",
       "      <td>3916</td>\n",
       "    </tr>\n",
       "    <tr>\n",
       "      <th>4</th>\n",
       "      <td>bmw</td>\n",
       "      <td>1_series</td>\n",
       "      <td>2011</td>\n",
       "      <td>premium_unleaded_(required)</td>\n",
       "      <td>230</td>\n",
       "      <td>6</td>\n",
       "      <td>manual</td>\n",
       "      <td>rear_wheel_drive</td>\n",
       "      <td>2</td>\n",
       "      <td>luxury</td>\n",
       "      <td>compact</td>\n",
       "      <td>convertible</td>\n",
       "      <td>28</td>\n",
       "      <td>18</td>\n",
       "      <td>3916</td>\n",
       "    </tr>\n",
       "  </tbody>\n",
       "</table>\n",
       "</div>"
      ],
      "text/plain": [
       "  make     model  year             engine_fuel_type  engine_hp  \\\n",
       "0  bmw  1_series  2011  premium_unleaded_(required)        335   \n",
       "1  bmw  1_series  2011  premium_unleaded_(required)        300   \n",
       "2  bmw  1_series  2011  premium_unleaded_(required)        300   \n",
       "3  bmw  1_series  2011  premium_unleaded_(required)        230   \n",
       "4  bmw  1_series  2011  premium_unleaded_(required)        230   \n",
       "\n",
       "   engine_cylinders transmission_type     driven_wheels  number_of_doors  \\\n",
       "0                 6            manual  rear_wheel_drive                2   \n",
       "1                 6            manual  rear_wheel_drive                2   \n",
       "2                 6            manual  rear_wheel_drive                2   \n",
       "3                 6            manual  rear_wheel_drive                2   \n",
       "4                 6            manual  rear_wheel_drive                2   \n",
       "\n",
       "                         market_category vehicle_size vehicle_style  \\\n",
       "0  factory_tuner,luxury,high-performance      compact         coupe   \n",
       "1                     luxury,performance      compact   convertible   \n",
       "2                luxury,high-performance      compact         coupe   \n",
       "3                     luxury,performance      compact         coupe   \n",
       "4                                 luxury      compact   convertible   \n",
       "\n",
       "   highway_mpg  city_mpg  popularity  \n",
       "0           26        19        3916  \n",
       "1           28        19        3916  \n",
       "2           28        20        3916  \n",
       "3           28        18        3916  \n",
       "4           28        18        3916  "
      ]
     },
     "execution_count": 108,
     "metadata": {},
     "output_type": "execute_result"
    }
   ],
   "source": [
    "x_data.head()"
   ]
  },
  {
   "cell_type": "code",
   "execution_count": 109,
   "id": "625fa344",
   "metadata": {
    "scrolled": true
   },
   "outputs": [
    {
     "data": {
      "text/plain": [
       "0    46135\n",
       "1    40650\n",
       "2    36350\n",
       "3    29450\n",
       "4    34500\n",
       "Name: msrp, dtype: int64"
      ]
     },
     "execution_count": 109,
     "metadata": {},
     "output_type": "execute_result"
    }
   ],
   "source": [
    "y_data.head()"
   ]
  },
  {
   "cell_type": "code",
   "execution_count": 110,
   "id": "c100311f",
   "metadata": {
    "scrolled": false
   },
   "outputs": [
    {
     "data": {
      "text/plain": [
       "make                 object\n",
       "model                object\n",
       "year                  int64\n",
       "engine_fuel_type     object\n",
       "engine_hp             int32\n",
       "engine_cylinders      int32\n",
       "transmission_type    object\n",
       "driven_wheels        object\n",
       "number_of_doors       int32\n",
       "market_category      object\n",
       "vehicle_size         object\n",
       "vehicle_style        object\n",
       "highway_mpg           int64\n",
       "city_mpg              int64\n",
       "popularity            int64\n",
       "dtype: object"
      ]
     },
     "execution_count": 110,
     "metadata": {},
     "output_type": "execute_result"
    }
   ],
   "source": [
    "x_data.dtypes"
   ]
  },
  {
   "cell_type": "code",
   "execution_count": 111,
   "id": "a573167c",
   "metadata": {},
   "outputs": [],
   "source": [
    "cat_cols = ['make', 'model', 'engine_fuel_type', 'engine_cylinders', 'transmission_type', 'driven_wheels', 'market_category', 'vehicle_size', 'vehicle_style']"
   ]
  },
  {
   "cell_type": "code",
   "execution_count": 112,
   "id": "e8a71d6b",
   "metadata": {},
   "outputs": [
    {
     "name": "stderr",
     "output_type": "stream",
     "text": [
      "C:\\Users\\Bharath Atla\\AppData\\Local\\Temp\\ipykernel_1876\\4115964303.py:3: SettingWithCopyWarning: \n",
      "A value is trying to be set on a copy of a slice from a DataFrame.\n",
      "Try using .loc[row_indexer,col_indexer] = value instead\n",
      "\n",
      "See the caveats in the documentation: https://pandas.pydata.org/pandas-docs/stable/user_guide/indexing.html#returning-a-view-versus-a-copy\n",
      "  x_data[col] = x_data[col].astype(object)\n",
      "C:\\Users\\Bharath Atla\\AppData\\Local\\Temp\\ipykernel_1876\\4115964303.py:6: SettingWithCopyWarning: \n",
      "A value is trying to be set on a copy of a slice from a DataFrame.\n",
      "Try using .loc[row_indexer,col_indexer] = value instead\n",
      "\n",
      "See the caveats in the documentation: https://pandas.pydata.org/pandas-docs/stable/user_guide/indexing.html#returning-a-view-versus-a-copy\n",
      "  x_data[col] = le.transform(x_data[col])\n",
      "C:\\Users\\Bharath Atla\\AppData\\Local\\Temp\\ipykernel_1876\\4115964303.py:3: SettingWithCopyWarning: \n",
      "A value is trying to be set on a copy of a slice from a DataFrame.\n",
      "Try using .loc[row_indexer,col_indexer] = value instead\n",
      "\n",
      "See the caveats in the documentation: https://pandas.pydata.org/pandas-docs/stable/user_guide/indexing.html#returning-a-view-versus-a-copy\n",
      "  x_data[col] = x_data[col].astype(object)\n",
      "C:\\Users\\Bharath Atla\\AppData\\Local\\Temp\\ipykernel_1876\\4115964303.py:6: SettingWithCopyWarning: \n",
      "A value is trying to be set on a copy of a slice from a DataFrame.\n",
      "Try using .loc[row_indexer,col_indexer] = value instead\n",
      "\n",
      "See the caveats in the documentation: https://pandas.pydata.org/pandas-docs/stable/user_guide/indexing.html#returning-a-view-versus-a-copy\n",
      "  x_data[col] = le.transform(x_data[col])\n",
      "C:\\Users\\Bharath Atla\\AppData\\Local\\Temp\\ipykernel_1876\\4115964303.py:3: SettingWithCopyWarning: \n",
      "A value is trying to be set on a copy of a slice from a DataFrame.\n",
      "Try using .loc[row_indexer,col_indexer] = value instead\n",
      "\n",
      "See the caveats in the documentation: https://pandas.pydata.org/pandas-docs/stable/user_guide/indexing.html#returning-a-view-versus-a-copy\n",
      "  x_data[col] = x_data[col].astype(object)\n",
      "C:\\Users\\Bharath Atla\\AppData\\Local\\Temp\\ipykernel_1876\\4115964303.py:6: SettingWithCopyWarning: \n",
      "A value is trying to be set on a copy of a slice from a DataFrame.\n",
      "Try using .loc[row_indexer,col_indexer] = value instead\n",
      "\n",
      "See the caveats in the documentation: https://pandas.pydata.org/pandas-docs/stable/user_guide/indexing.html#returning-a-view-versus-a-copy\n",
      "  x_data[col] = le.transform(x_data[col])\n",
      "C:\\Users\\Bharath Atla\\AppData\\Local\\Temp\\ipykernel_1876\\4115964303.py:3: SettingWithCopyWarning: \n",
      "A value is trying to be set on a copy of a slice from a DataFrame.\n",
      "Try using .loc[row_indexer,col_indexer] = value instead\n",
      "\n",
      "See the caveats in the documentation: https://pandas.pydata.org/pandas-docs/stable/user_guide/indexing.html#returning-a-view-versus-a-copy\n",
      "  x_data[col] = x_data[col].astype(object)\n",
      "C:\\Users\\Bharath Atla\\AppData\\Local\\Temp\\ipykernel_1876\\4115964303.py:6: SettingWithCopyWarning: \n",
      "A value is trying to be set on a copy of a slice from a DataFrame.\n",
      "Try using .loc[row_indexer,col_indexer] = value instead\n",
      "\n",
      "See the caveats in the documentation: https://pandas.pydata.org/pandas-docs/stable/user_guide/indexing.html#returning-a-view-versus-a-copy\n",
      "  x_data[col] = le.transform(x_data[col])\n",
      "C:\\Users\\Bharath Atla\\AppData\\Local\\Temp\\ipykernel_1876\\4115964303.py:3: SettingWithCopyWarning: \n",
      "A value is trying to be set on a copy of a slice from a DataFrame.\n",
      "Try using .loc[row_indexer,col_indexer] = value instead\n",
      "\n",
      "See the caveats in the documentation: https://pandas.pydata.org/pandas-docs/stable/user_guide/indexing.html#returning-a-view-versus-a-copy\n",
      "  x_data[col] = x_data[col].astype(object)\n",
      "C:\\Users\\Bharath Atla\\AppData\\Local\\Temp\\ipykernel_1876\\4115964303.py:6: SettingWithCopyWarning: \n",
      "A value is trying to be set on a copy of a slice from a DataFrame.\n",
      "Try using .loc[row_indexer,col_indexer] = value instead\n",
      "\n",
      "See the caveats in the documentation: https://pandas.pydata.org/pandas-docs/stable/user_guide/indexing.html#returning-a-view-versus-a-copy\n",
      "  x_data[col] = le.transform(x_data[col])\n",
      "C:\\Users\\Bharath Atla\\AppData\\Local\\Temp\\ipykernel_1876\\4115964303.py:3: SettingWithCopyWarning: \n",
      "A value is trying to be set on a copy of a slice from a DataFrame.\n",
      "Try using .loc[row_indexer,col_indexer] = value instead\n",
      "\n",
      "See the caveats in the documentation: https://pandas.pydata.org/pandas-docs/stable/user_guide/indexing.html#returning-a-view-versus-a-copy\n",
      "  x_data[col] = x_data[col].astype(object)\n",
      "C:\\Users\\Bharath Atla\\AppData\\Local\\Temp\\ipykernel_1876\\4115964303.py:6: SettingWithCopyWarning: \n",
      "A value is trying to be set on a copy of a slice from a DataFrame.\n",
      "Try using .loc[row_indexer,col_indexer] = value instead\n",
      "\n",
      "See the caveats in the documentation: https://pandas.pydata.org/pandas-docs/stable/user_guide/indexing.html#returning-a-view-versus-a-copy\n",
      "  x_data[col] = le.transform(x_data[col])\n",
      "C:\\Users\\Bharath Atla\\AppData\\Local\\Temp\\ipykernel_1876\\4115964303.py:3: SettingWithCopyWarning: \n",
      "A value is trying to be set on a copy of a slice from a DataFrame.\n",
      "Try using .loc[row_indexer,col_indexer] = value instead\n",
      "\n",
      "See the caveats in the documentation: https://pandas.pydata.org/pandas-docs/stable/user_guide/indexing.html#returning-a-view-versus-a-copy\n",
      "  x_data[col] = x_data[col].astype(object)\n",
      "C:\\Users\\Bharath Atla\\AppData\\Local\\Temp\\ipykernel_1876\\4115964303.py:6: SettingWithCopyWarning: \n",
      "A value is trying to be set on a copy of a slice from a DataFrame.\n",
      "Try using .loc[row_indexer,col_indexer] = value instead\n",
      "\n",
      "See the caveats in the documentation: https://pandas.pydata.org/pandas-docs/stable/user_guide/indexing.html#returning-a-view-versus-a-copy\n",
      "  x_data[col] = le.transform(x_data[col])\n",
      "C:\\Users\\Bharath Atla\\AppData\\Local\\Temp\\ipykernel_1876\\4115964303.py:3: SettingWithCopyWarning: \n",
      "A value is trying to be set on a copy of a slice from a DataFrame.\n",
      "Try using .loc[row_indexer,col_indexer] = value instead\n",
      "\n",
      "See the caveats in the documentation: https://pandas.pydata.org/pandas-docs/stable/user_guide/indexing.html#returning-a-view-versus-a-copy\n",
      "  x_data[col] = x_data[col].astype(object)\n",
      "C:\\Users\\Bharath Atla\\AppData\\Local\\Temp\\ipykernel_1876\\4115964303.py:6: SettingWithCopyWarning: \n",
      "A value is trying to be set on a copy of a slice from a DataFrame.\n",
      "Try using .loc[row_indexer,col_indexer] = value instead\n",
      "\n",
      "See the caveats in the documentation: https://pandas.pydata.org/pandas-docs/stable/user_guide/indexing.html#returning-a-view-versus-a-copy\n",
      "  x_data[col] = le.transform(x_data[col])\n",
      "C:\\Users\\Bharath Atla\\AppData\\Local\\Temp\\ipykernel_1876\\4115964303.py:3: SettingWithCopyWarning: \n",
      "A value is trying to be set on a copy of a slice from a DataFrame.\n",
      "Try using .loc[row_indexer,col_indexer] = value instead\n",
      "\n",
      "See the caveats in the documentation: https://pandas.pydata.org/pandas-docs/stable/user_guide/indexing.html#returning-a-view-versus-a-copy\n",
      "  x_data[col] = x_data[col].astype(object)\n",
      "C:\\Users\\Bharath Atla\\AppData\\Local\\Temp\\ipykernel_1876\\4115964303.py:6: SettingWithCopyWarning: \n",
      "A value is trying to be set on a copy of a slice from a DataFrame.\n",
      "Try using .loc[row_indexer,col_indexer] = value instead\n",
      "\n",
      "See the caveats in the documentation: https://pandas.pydata.org/pandas-docs/stable/user_guide/indexing.html#returning-a-view-versus-a-copy\n",
      "  x_data[col] = le.transform(x_data[col])\n"
     ]
    }
   ],
   "source": [
    "from sklearn.preprocessing import LabelEncoder\n",
    "for col in cat_cols:\n",
    "    x_data[col] = x_data[col].astype(object)\n",
    "    le = LabelEncoder()\n",
    "    le.fit(x_data[col])\n",
    "    x_data[col] = le.transform(x_data[col])"
   ]
  },
  {
   "cell_type": "code",
   "execution_count": 113,
   "id": "fe975110",
   "metadata": {
    "scrolled": false
   },
   "outputs": [
    {
     "data": {
      "text/html": [
       "<div>\n",
       "<style scoped>\n",
       "    .dataframe tbody tr th:only-of-type {\n",
       "        vertical-align: middle;\n",
       "    }\n",
       "\n",
       "    .dataframe tbody tr th {\n",
       "        vertical-align: top;\n",
       "    }\n",
       "\n",
       "    .dataframe thead th {\n",
       "        text-align: right;\n",
       "    }\n",
       "</style>\n",
       "<table border=\"1\" class=\"dataframe\">\n",
       "  <thead>\n",
       "    <tr style=\"text-align: right;\">\n",
       "      <th></th>\n",
       "      <th>make</th>\n",
       "      <th>model</th>\n",
       "      <th>year</th>\n",
       "      <th>engine_fuel_type</th>\n",
       "      <th>engine_hp</th>\n",
       "      <th>engine_cylinders</th>\n",
       "      <th>transmission_type</th>\n",
       "      <th>driven_wheels</th>\n",
       "      <th>number_of_doors</th>\n",
       "      <th>market_category</th>\n",
       "      <th>vehicle_size</th>\n",
       "      <th>vehicle_style</th>\n",
       "      <th>highway_mpg</th>\n",
       "      <th>city_mpg</th>\n",
       "      <th>popularity</th>\n",
       "    </tr>\n",
       "  </thead>\n",
       "  <tbody>\n",
       "    <tr>\n",
       "      <th>0</th>\n",
       "      <td>5</td>\n",
       "      <td>3</td>\n",
       "      <td>2011</td>\n",
       "      <td>8</td>\n",
       "      <td>335</td>\n",
       "      <td>3</td>\n",
       "      <td>3</td>\n",
       "      <td>3</td>\n",
       "      <td>2</td>\n",
       "      <td>38</td>\n",
       "      <td>0</td>\n",
       "      <td>8</td>\n",
       "      <td>26</td>\n",
       "      <td>19</td>\n",
       "      <td>3916</td>\n",
       "    </tr>\n",
       "    <tr>\n",
       "      <th>1</th>\n",
       "      <td>5</td>\n",
       "      <td>3</td>\n",
       "      <td>2011</td>\n",
       "      <td>8</td>\n",
       "      <td>300</td>\n",
       "      <td>3</td>\n",
       "      <td>3</td>\n",
       "      <td>3</td>\n",
       "      <td>2</td>\n",
       "      <td>67</td>\n",
       "      <td>0</td>\n",
       "      <td>6</td>\n",
       "      <td>28</td>\n",
       "      <td>19</td>\n",
       "      <td>3916</td>\n",
       "    </tr>\n",
       "    <tr>\n",
       "      <th>2</th>\n",
       "      <td>5</td>\n",
       "      <td>3</td>\n",
       "      <td>2011</td>\n",
       "      <td>8</td>\n",
       "      <td>300</td>\n",
       "      <td>3</td>\n",
       "      <td>3</td>\n",
       "      <td>3</td>\n",
       "      <td>2</td>\n",
       "      <td>64</td>\n",
       "      <td>0</td>\n",
       "      <td>8</td>\n",
       "      <td>28</td>\n",
       "      <td>20</td>\n",
       "      <td>3916</td>\n",
       "    </tr>\n",
       "    <tr>\n",
       "      <th>3</th>\n",
       "      <td>5</td>\n",
       "      <td>3</td>\n",
       "      <td>2011</td>\n",
       "      <td>8</td>\n",
       "      <td>230</td>\n",
       "      <td>3</td>\n",
       "      <td>3</td>\n",
       "      <td>3</td>\n",
       "      <td>2</td>\n",
       "      <td>67</td>\n",
       "      <td>0</td>\n",
       "      <td>8</td>\n",
       "      <td>28</td>\n",
       "      <td>18</td>\n",
       "      <td>3916</td>\n",
       "    </tr>\n",
       "    <tr>\n",
       "      <th>4</th>\n",
       "      <td>5</td>\n",
       "      <td>3</td>\n",
       "      <td>2011</td>\n",
       "      <td>8</td>\n",
       "      <td>230</td>\n",
       "      <td>3</td>\n",
       "      <td>3</td>\n",
       "      <td>3</td>\n",
       "      <td>2</td>\n",
       "      <td>63</td>\n",
       "      <td>0</td>\n",
       "      <td>6</td>\n",
       "      <td>28</td>\n",
       "      <td>18</td>\n",
       "      <td>3916</td>\n",
       "    </tr>\n",
       "  </tbody>\n",
       "</table>\n",
       "</div>"
      ],
      "text/plain": [
       "   make  model  year  engine_fuel_type  engine_hp  engine_cylinders  \\\n",
       "0     5      3  2011                 8        335                 3   \n",
       "1     5      3  2011                 8        300                 3   \n",
       "2     5      3  2011                 8        300                 3   \n",
       "3     5      3  2011                 8        230                 3   \n",
       "4     5      3  2011                 8        230                 3   \n",
       "\n",
       "   transmission_type  driven_wheels  number_of_doors  market_category  \\\n",
       "0                  3              3                2               38   \n",
       "1                  3              3                2               67   \n",
       "2                  3              3                2               64   \n",
       "3                  3              3                2               67   \n",
       "4                  3              3                2               63   \n",
       "\n",
       "   vehicle_size  vehicle_style  highway_mpg  city_mpg  popularity  \n",
       "0             0              8           26        19        3916  \n",
       "1             0              6           28        19        3916  \n",
       "2             0              8           28        20        3916  \n",
       "3             0              8           28        18        3916  \n",
       "4             0              6           28        18        3916  "
      ]
     },
     "execution_count": 113,
     "metadata": {},
     "output_type": "execute_result"
    }
   ],
   "source": [
    "x_data.head()"
   ]
  },
  {
   "cell_type": "code",
   "execution_count": 114,
   "id": "00bbcdaf",
   "metadata": {},
   "outputs": [
    {
     "data": {
      "text/plain": [
       "0    46135\n",
       "1    40650\n",
       "2    36350\n",
       "3    29450\n",
       "4    34500\n",
       "Name: msrp, dtype: int64"
      ]
     },
     "execution_count": 114,
     "metadata": {},
     "output_type": "execute_result"
    }
   ],
   "source": [
    "y_data.head()"
   ]
  },
  {
   "cell_type": "code",
   "execution_count": 115,
   "id": "d0a2063a",
   "metadata": {},
   "outputs": [],
   "source": [
    "from sklearn.model_selection import train_test_split\n",
    "x_train, x_test, y_train, y_test = train_test_split(x_data, y_data, test_size=0.15,random_state=1)"
   ]
  },
  {
   "cell_type": "code",
   "execution_count": 116,
   "id": "4d60b9b7",
   "metadata": {},
   "outputs": [
    {
     "data": {
      "text/html": [
       "<div>\n",
       "<style scoped>\n",
       "    .dataframe tbody tr th:only-of-type {\n",
       "        vertical-align: middle;\n",
       "    }\n",
       "\n",
       "    .dataframe tbody tr th {\n",
       "        vertical-align: top;\n",
       "    }\n",
       "\n",
       "    .dataframe thead th {\n",
       "        text-align: right;\n",
       "    }\n",
       "</style>\n",
       "<table border=\"1\" class=\"dataframe\">\n",
       "  <thead>\n",
       "    <tr style=\"text-align: right;\">\n",
       "      <th></th>\n",
       "      <th>make</th>\n",
       "      <th>model</th>\n",
       "      <th>year</th>\n",
       "      <th>engine_fuel_type</th>\n",
       "      <th>engine_hp</th>\n",
       "      <th>engine_cylinders</th>\n",
       "      <th>transmission_type</th>\n",
       "      <th>driven_wheels</th>\n",
       "      <th>number_of_doors</th>\n",
       "      <th>market_category</th>\n",
       "      <th>vehicle_size</th>\n",
       "      <th>vehicle_style</th>\n",
       "      <th>highway_mpg</th>\n",
       "      <th>city_mpg</th>\n",
       "      <th>popularity</th>\n",
       "    </tr>\n",
       "  </thead>\n",
       "  <tbody>\n",
       "    <tr>\n",
       "      <th>3194</th>\n",
       "      <td>8</td>\n",
       "      <td>246</td>\n",
       "      <td>2012</td>\n",
       "      <td>9</td>\n",
       "      <td>318</td>\n",
       "      <td>3</td>\n",
       "      <td>1</td>\n",
       "      <td>0</td>\n",
       "      <td>2</td>\n",
       "      <td>67</td>\n",
       "      <td>2</td>\n",
       "      <td>8</td>\n",
       "      <td>27</td>\n",
       "      <td>18</td>\n",
       "      <td>1624</td>\n",
       "    </tr>\n",
       "    <tr>\n",
       "      <th>2802</th>\n",
       "      <td>9</td>\n",
       "      <td>207</td>\n",
       "      <td>2016</td>\n",
       "      <td>9</td>\n",
       "      <td>305</td>\n",
       "      <td>3</td>\n",
       "      <td>1</td>\n",
       "      <td>3</td>\n",
       "      <td>4</td>\n",
       "      <td>23</td>\n",
       "      <td>0</td>\n",
       "      <td>9</td>\n",
       "      <td>26</td>\n",
       "      <td>18</td>\n",
       "      <td>1385</td>\n",
       "    </tr>\n",
       "    <tr>\n",
       "      <th>3350</th>\n",
       "      <td>29</td>\n",
       "      <td>254</td>\n",
       "      <td>2017</td>\n",
       "      <td>9</td>\n",
       "      <td>146</td>\n",
       "      <td>1</td>\n",
       "      <td>1</td>\n",
       "      <td>0</td>\n",
       "      <td>4</td>\n",
       "      <td>0</td>\n",
       "      <td>0</td>\n",
       "      <td>3</td>\n",
       "      <td>32</td>\n",
       "      <td>27</td>\n",
       "      <td>586</td>\n",
       "    </tr>\n",
       "    <tr>\n",
       "      <th>11660</th>\n",
       "      <td>43</td>\n",
       "      <td>892</td>\n",
       "      <td>2004</td>\n",
       "      <td>9</td>\n",
       "      <td>185</td>\n",
       "      <td>3</td>\n",
       "      <td>1</td>\n",
       "      <td>1</td>\n",
       "      <td>4</td>\n",
       "      <td>0</td>\n",
       "      <td>2</td>\n",
       "      <td>3</td>\n",
       "      <td>20</td>\n",
       "      <td>15</td>\n",
       "      <td>481</td>\n",
       "    </tr>\n",
       "    <tr>\n",
       "      <th>9292</th>\n",
       "      <td>16</td>\n",
       "      <td>738</td>\n",
       "      <td>2007</td>\n",
       "      <td>9</td>\n",
       "      <td>295</td>\n",
       "      <td>4</td>\n",
       "      <td>1</td>\n",
       "      <td>3</td>\n",
       "      <td>4</td>\n",
       "      <td>0</td>\n",
       "      <td>1</td>\n",
       "      <td>10</td>\n",
       "      <td>19</td>\n",
       "      <td>14</td>\n",
       "      <td>549</td>\n",
       "    </tr>\n",
       "  </tbody>\n",
       "</table>\n",
       "</div>"
      ],
      "text/plain": [
       "       make  model  year  engine_fuel_type  engine_hp  engine_cylinders  \\\n",
       "3194      8    246  2012                 9        318                 3   \n",
       "2802      9    207  2016                 9        305                 3   \n",
       "3350     29    254  2017                 9        146                 1   \n",
       "11660    43    892  2004                 9        185                 3   \n",
       "9292     16    738  2007                 9        295                 4   \n",
       "\n",
       "       transmission_type  driven_wheels  number_of_doors  market_category  \\\n",
       "3194                   1              0                2               67   \n",
       "2802                   1              3                4               23   \n",
       "3350                   1              0                4                0   \n",
       "11660                  1              1                4                0   \n",
       "9292                   1              3                4                0   \n",
       "\n",
       "       vehicle_size  vehicle_style  highway_mpg  city_mpg  popularity  \n",
       "3194              2              8           27        18        1624  \n",
       "2802              0              9           26        18        1385  \n",
       "3350              0              3           32        27         586  \n",
       "11660             2              3           20        15         481  \n",
       "9292              1             10           19        14         549  "
      ]
     },
     "execution_count": 116,
     "metadata": {},
     "output_type": "execute_result"
    }
   ],
   "source": [
    "x_train.head()"
   ]
  },
  {
   "cell_type": "code",
   "execution_count": 117,
   "id": "00035b92",
   "metadata": {},
   "outputs": [
    {
     "name": "stdout",
     "output_type": "stream",
     "text": [
      "(9519, 15)\n",
      "(1680, 15)\n",
      "(9519,)\n",
      "(1680,)\n"
     ]
    }
   ],
   "source": [
    "print(x_train.shape)\n",
    "print(x_test.shape)\n",
    "print(y_train.shape)\n",
    "print(y_test.shape)"
   ]
  },
  {
   "cell_type": "markdown",
   "id": "3e3cac28",
   "metadata": {},
   "source": [
    "# Regression Models "
   ]
  },
  {
   "cell_type": "markdown",
   "id": "d594a475",
   "metadata": {},
   "source": [
    "R2 measures the proportion of variance in the dependent variable that is explained by the independent variable(s), while MSE measures the average squared difference between the predicted and actual values of the dependent variable."
   ]
  },
  {
   "cell_type": "code",
   "execution_count": 118,
   "id": "6c7b712f",
   "metadata": {},
   "outputs": [],
   "source": [
    "from sklearn.linear_model import LinearRegression\n",
    "from sklearn.metrics import mean_squared_error\n",
    "from sklearn.metrics import r2_score\n",
    "from sklearn.preprocessing import PolynomialFeatures\n",
    "from sklearn.pipeline import Pipeline\n",
    "from sklearn.preprocessing import StandardScaler"
   ]
  },
  {
   "cell_type": "markdown",
   "id": "87a09eed",
   "metadata": {},
   "source": [
    "# Multi Linear and Multi Polynomial Regression"
   ]
  },
  {
   "cell_type": "code",
   "execution_count": 119,
   "id": "76ba6a58",
   "metadata": {},
   "outputs": [
    {
     "name": "stdout",
     "output_type": "stream",
     "text": [
      "Multi Linear Regression - R2 score (train): 0.2081196548443609\n",
      "Multi Linear Regression - R2 score (test): 0.2319642551021036\n",
      "Multi Linear Regression - MSE (train): 2911598529.1532755\n",
      "Multi Linear Regression - MSE (test): 3371677282.5241013\n",
      "Multi Linear Regression - Bias: -2810.756884709453\n",
      "Multi Linear Regression - Variance: 785385266.1432596\n",
      "___________________________________\n",
      "Multi Polynomial Regression - R2 score (train): 0.9708180420076374\n",
      "Multi Polynomial Regression - R2 score (test): -4.770237896160615\n",
      "Multi Polynomial Regression - MSE (train): 107296697.64903171\n",
      "Mutli Polynomial Regression - MSE (test): 25331347087.017197\n",
      "Multi Polynomial Regression - Bias: 2610.7587427201724\n",
      "Multi Polynomial Regression - Variance: 29956739883.445477\n"
     ]
    }
   ],
   "source": [
    "# Multi Linear regression model\n",
    "lr = LinearRegression() \n",
    "lr.fit(x_train, y_train)\n",
    "y_pred_train = lr.predict(x_train)\n",
    "y_pred_test = lr.predict(x_test)\n",
    "print(\"Multi Linear Regression - R2 score (train):\", r2_score(y_train, y_pred_train))\n",
    "print(\"Multi Linear Regression - R2 score (test):\", r2_score(y_test, y_pred_test))\n",
    "print(\"Multi Linear Regression - MSE (train):\", mean_squared_error(y_train, y_pred_train))\n",
    "print(\"Multi Linear Regression - MSE (test):\", mean_squared_error(y_test, y_pred_test))\n",
    "print(\"Multi Linear Regression - Bias:\", np.mean(y_pred_test - y_test))\n",
    "print(\"Multi Linear Regression - Variance:\", np.var(y_pred_test))\n",
    "print(\"___________________________________\")\n",
    "# Multi polynomial regression model\n",
    "degree = 4  # adjust this parameter, change the degree to see best value suitable\n",
    "poly = make_pipeline(PolynomialFeatures(degree), LinearRegression())\n",
    "poly.fit(x_train, y_train)\n",
    "y_pred_train = poly.predict(x_train)\n",
    "y_pred_test = poly.predict(x_test)\n",
    "print(\"Multi Polynomial Regression - R2 score (train):\", r2_score(y_train, y_pred_train))\n",
    "print(\"Multi Polynomial Regression - R2 score (test):\", r2_score(y_test, y_pred_test))\n",
    "print(\"Multi Polynomial Regression - MSE (train):\", mean_squared_error(y_train, y_pred_train))\n",
    "print(\"Mutli Polynomial Regression - MSE (test):\", mean_squared_error(y_test, y_pred_test))\n",
    "print(\"Multi Polynomial Regression - Bias:\", np.mean(y_pred_test - y_test))\n",
    "print(\"Multi Polynomial Regression - Variance:\", np.var(y_pred_test))"
   ]
  },
  {
   "cell_type": "markdown",
   "id": "e21a3a09",
   "metadata": {},
   "source": [
    "# Lasso and Ridge Regression"
   ]
  },
  {
   "cell_type": "code",
   "execution_count": 120,
   "id": "865c2a71",
   "metadata": {},
   "outputs": [
    {
     "name": "stderr",
     "output_type": "stream",
     "text": [
      "C:\\Users\\Bharath Atla\\anaconda3\\lib\\site-packages\\sklearn\\linear_model\\_coordinate_descent.py:631: ConvergenceWarning: Objective did not converge. You might want to increase the number of iterations, check the scale of the features or consider increasing regularisation. Duality gap: 2.943e+12, tolerance: 3.500e+09\n",
      "  model = cd_fast.enet_coordinate_descent(\n"
     ]
    },
    {
     "name": "stdout",
     "output_type": "stream",
     "text": [
      "Lasso Regression - R2 score (train): 0.8367656566571063\n",
      "Lasso Regression - R2 score (test): 0.853278541401862\n",
      "Lasso Regression - MSE (train): 600182687.8163748\n",
      "Lasso Regression - MSE (test): 644107272.4810586\n",
      "Lasso Regression - Bias: -187.98556106977463\n",
      "Lasso Regression - Variance: 4394212289.994033\n",
      "________________________________\n"
     ]
    },
    {
     "name": "stderr",
     "output_type": "stream",
     "text": [
      "C:\\Users\\Bharath Atla\\anaconda3\\lib\\site-packages\\sklearn\\linear_model\\_ridge.py:216: LinAlgWarning: Ill-conditioned matrix (rcond=8.77696e-34): result may not be accurate.\n",
      "  return linalg.solve(A, Xy, assume_a=\"pos\", overwrite_a=True).T\n"
     ]
    },
    {
     "name": "stdout",
     "output_type": "stream",
     "text": [
      "Ridge Regression - R2 score (train): 0.9910216220551017\n",
      "Ridge Regression - R2 score (test): -2.4652154759796185\n",
      "Ridge Regression - MSE (train): 33011846.017481536\n",
      "Ridge Regression - MSE (test): 15212297574.723753\n",
      "Ridge Regression - Bias: 1715.299581654299\n",
      "Ridge Regression - Variance: 19790212159.62346\n"
     ]
    }
   ],
   "source": [
    "# apply Lasso regularization to avoid overfitting\n",
    "alpha =100 # adjust this parameter to see best value suitable\n",
    "lasso = make_pipeline(PolynomialFeatures(degree), Lasso(alpha=alpha))\n",
    "lasso.fit(x_train, y_train)\n",
    "y_pred_train = lasso.predict(x_train)\n",
    "y_pred_test = lasso.predict(x_test)\n",
    "print(\"Lasso Regression - R2 score (train):\", r2_score(y_train, y_pred_train))\n",
    "print(\"Lasso Regression - R2 score (test):\", r2_score(y_test, y_pred_test))\n",
    "print(\"Lasso Regression - MSE (train):\", mean_squared_error(y_train, y_pred_train))\n",
    "print(\"Lasso Regression - MSE (test):\", mean_squared_error(y_test, y_pred_test))\n",
    "print(\"Lasso Regression - Bias:\", np.mean(y_pred_test - y_test))\n",
    "print(\"Lasso Regression - Variance:\", np.var(y_pred_test))\n",
    "print(\"________________________________\")\n",
    "# apply Ridge regularization to avoid overfitting\n",
    "alpha = 0.1  # adjust this parameter\n",
    "ridge = make_pipeline(PolynomialFeatures(degree), Ridge(alpha=alpha))\n",
    "ridge.fit(x_train, y_train)\n",
    "y_pred_train = ridge.predict(x_train)\n",
    "y_pred_test = ridge.predict(x_test)\n",
    "print(\"Ridge Regression - R2 score (train):\", r2_score(y_train, y_pred_train))\n",
    "print(\"Ridge Regression - R2 score (test):\", r2_score(y_test, y_pred_test))\n",
    "print(\"Ridge Regression - MSE (train):\", mean_squared_error(y_train, y_pred_train))\n",
    "print(\"Ridge Regression - MSE (test):\", mean_squared_error(y_test, y_pred_test))\n",
    "print(\"Ridge Regression - Bias:\", np.mean(y_pred_test - y_test))\n",
    "print(\"Ridge Regression - Variance:\", np.var(y_pred_test))"
   ]
  },
  {
   "cell_type": "markdown",
   "id": "c0c5624c",
   "metadata": {},
   "source": [
    "# ENSEMBLE TECHNIQUES"
   ]
  },
  {
   "cell_type": "markdown",
   "id": "adafbc72",
   "metadata": {},
   "source": [
    "# AVG VOTING"
   ]
  },
  {
   "cell_type": "code",
   "execution_count": 121,
   "id": "66a2ce9f",
   "metadata": {},
   "outputs": [
    {
     "name": "stdout",
     "output_type": "stream",
     "text": [
      "AVG voting - R2 (train):  0.9910216220551017\n",
      "AVG voting - R2 (test):  0.9083003151050302\n",
      "AVG voting - MSE (train):  33011846.017481536\n",
      "AVG voting - MSE (test):  402561659.96035945\n"
     ]
    }
   ],
   "source": [
    "from sklearn.ensemble import VotingRegressor, RandomForestRegressor\n",
    "from sklearn.linear_model import LinearRegression\n",
    "from sklearn.tree import DecisionTreeRegressor\n",
    "from sklearn.metrics import r2_score, mean_squared_error\n",
    "\n",
    "# initialize base models\n",
    "model1 = LinearRegression()\n",
    "model2 = DecisionTreeRegressor()\n",
    "model3 = RandomForestRegressor()\n",
    "\n",
    "# create voting ensemble\n",
    "ensemble = VotingRegressor(estimators=[('lr', model1), ('dt', model2), ('rf', model3)])\n",
    "\n",
    "# fit the model on training data\n",
    "ensemble.fit(x_train, y_train)\n",
    "\n",
    "# make predictions on testing data\n",
    "y_pred = ensemble.predict(x_test)\n",
    "\n",
    "# calculate R2 score\n",
    "r2 = r2_score(y_test, y_pred)\n",
    "\n",
    "# calculate MSE\n",
    "mse = mean_squared_error(y_test, y_pred)\n",
    "\n",
    "print(\"AVG voting - R2 (train): \", r2_score(y_train, y_pred_train))\n",
    "print(\"AVG voting - R2 (test): \", r2)\n",
    "print(\"AVG voting - MSE (train): \", mean_squared_error(y_train, y_pred_train))\n",
    "print(\"AVG voting - MSE (test): \", mse)"
   ]
  },
  {
   "cell_type": "markdown",
   "id": "4d2eadf0",
   "metadata": {},
   "source": [
    "# WEIGHTED AVG VOTING"
   ]
  },
  {
   "cell_type": "code",
   "execution_count": 122,
   "id": "213aee4b",
   "metadata": {},
   "outputs": [
    {
     "name": "stdout",
     "output_type": "stream",
     "text": [
      "Wighted AVG - R2 score (train):  0.9910216220551017\n",
      "Wighted AVG - R2 score (test):  0.81502852398823\n",
      "Weighted AVG - MSE (train):  33011846.017481536\n",
      "Weighted AVG - MSE (test):  812024866.9764026\n"
     ]
    }
   ],
   "source": [
    "from sklearn.ensemble import VotingRegressor, RandomForestRegressor\n",
    "from sklearn.linear_model import LinearRegression\n",
    "from sklearn.tree import DecisionTreeRegressor\n",
    "from sklearn.metrics import r2_score, mean_squared_error\n",
    "\n",
    "# initialize base models\n",
    "model1 = LinearRegression()\n",
    "model2 = DecisionTreeRegressor()\n",
    "model3 = RandomForestRegressor()\n",
    "\n",
    "# create voting ensemble with weights\n",
    "ensemble = VotingRegressor(estimators=[('lr', model1), ('dt', model2), ('rf', model3)], weights=[2, 1, 1])\n",
    "\n",
    "# fit the model on training data\n",
    "ensemble.fit(x_train, y_train)\n",
    "\n",
    "# make predictions on testing data\n",
    "y_pred = ensemble.predict(x_test)\n",
    "\n",
    "# calculate R2 score\n",
    "r2 = r2_score(y_test, y_pred)\n",
    "print(\"Wighted AVG - R2 score (train): \", r2_score(y_train, y_pred_train))\n",
    "print(\"Wighted AVG - R2 score (test): \", r2)\n",
    "\n",
    "# calculate mean squared error\n",
    "mse = mean_squared_error(y_test, y_pred)\n",
    "print(\"Weighted AVG - MSE (train): \", mean_squared_error(y_train, y_pred_train))\n",
    "print(\"Weighted AVG - MSE (test): \", mse)"
   ]
  },
  {
   "cell_type": "markdown",
   "id": "d3257a62",
   "metadata": {},
   "source": [
    "# Stacking"
   ]
  },
  {
   "cell_type": "code",
   "execution_count": 123,
   "id": "b2ab4cac",
   "metadata": {},
   "outputs": [
    {
     "name": "stdout",
     "output_type": "stream",
     "text": [
      "Stacking - Mean Squared Error (train):  33011846.017481536\n",
      "Stacking - Mean Squared Error (test):  294192107.20967263\n",
      "Stacking - R2 Score (train):  0.9910216220551017\n",
      "Stacking - R2 Score (test):  0.9329858597751941\n"
     ]
    }
   ],
   "source": [
    "from sklearn.ensemble import RandomForestRegressor\n",
    "from sklearn.tree import DecisionTreeRegressor\n",
    "from sklearn.svm import SVR\n",
    "from sklearn.linear_model import LinearRegression\n",
    "from sklearn.metrics import mean_squared_error, r2_score\n",
    "from sklearn.model_selection import KFold\n",
    "import numpy as np\n",
    "\n",
    "# initialize base models\n",
    "model1 = RandomForestRegressor()\n",
    "model2 = DecisionTreeRegressor()\n",
    "model3 = SVR()\n",
    "\n",
    "# initialize meta model\n",
    "meta_model = LinearRegression()\n",
    "\n",
    "# create k-fold object\n",
    "kfold = KFold(n_splits=5, shuffle=True, random_state=42)\n",
    "\n",
    "# initialize empty arrays to store predictions\n",
    "train_meta_features = np.zeros((x_train.shape[0], 3))\n",
    "test_meta_features = np.zeros((x_test.shape[0], 3))\n",
    "\n",
    "# create stacked ensemble\n",
    "for i, model in enumerate([model1, model2, model3]):\n",
    "    for train_index, test_index in kfold.split(x_train):\n",
    "        x_train_fold, x_val_fold = x_train.iloc[train_index], x_train.iloc[test_index]\n",
    "        y_train_fold, y_val_fold = y_train.iloc[train_index], y_train.iloc[test_index]\n",
    "\n",
    "        model.fit(x_train_fold, y_train_fold)\n",
    "        y_pred = model.predict(x_val_fold)\n",
    "        train_meta_features[test_index, i] = y_pred\n",
    "\n",
    "    model.fit(x_train, y_train)\n",
    "    y_pred = model.predict(x_test)\n",
    "    test_meta_features[:, i] = y_pred\n",
    "\n",
    "meta_model.fit(train_meta_features, y_train)\n",
    "y_pred = meta_model.predict(test_meta_features)\n",
    "\n",
    "# calculate mean squared error\n",
    "mse = mean_squared_error(y_test, y_pred)\n",
    "print(\"Stacking - Mean Squared Error (train): \", mean_squared_error(y_train, y_pred_train))\n",
    "print(\"Stacking - Mean Squared Error (test): \", mse)\n",
    "\n",
    "# calculate R2 score\n",
    "r2 = r2_score(y_test, y_pred)\n",
    "print(\"Stacking - R2 Score (train): \", r2_score(y_train, y_pred_train))\n",
    "print(\"Stacking - R2 Score (test): \", r2)"
   ]
  },
  {
   "cell_type": "markdown",
   "id": "75769f89",
   "metadata": {},
   "source": [
    "# BLENDING"
   ]
  },
  {
   "cell_type": "code",
   "execution_count": 124,
   "id": "40aa06dc",
   "metadata": {},
   "outputs": [
    {
     "name": "stdout",
     "output_type": "stream",
     "text": [
      "Blending - R2 score (train):  0.9910216220551017\n",
      "Blending - R2 score (test):  0.9222836476487452\n",
      "Blending - MSE (train):  33011846.017481536\n",
      "Blending - MSE (test):  341174823.4949659\n"
     ]
    }
   ],
   "source": [
    "from sklearn.ensemble import RandomForestRegressor\n",
    "from sklearn.tree import DecisionTreeRegressor\n",
    "from sklearn.svm import SVR\n",
    "from sklearn.linear_model import LinearRegression\n",
    "from sklearn.metrics import r2_score, mean_squared_error\n",
    "from sklearn.model_selection import train_test_split\n",
    "import numpy as np\n",
    "\n",
    "# initialize base models\n",
    "model1 = RandomForestRegressor()\n",
    "model2 = DecisionTreeRegressor()\n",
    "model3 = SVR()\n",
    "\n",
    "# split the training data into two parts\n",
    "x_train1, x_train2, y_train1, y_train2 = train_test_split(x_train, y_train, test_size=0.5, random_state=42)\n",
    "\n",
    "# train the base models on the first part of the training data\n",
    "model1.fit(x_train1, y_train1)\n",
    "model2.fit(x_train1, y_train1)\n",
    "model3.fit(x_train1, y_train1)\n",
    "\n",
    "# generate predictions on the second part of the training data\n",
    "y_pred1 = model1.predict(x_train2)\n",
    "y_pred2 = model2.predict(x_train2)\n",
    "y_pred3 = model3.predict(x_train2)\n",
    "\n",
    "# stack the predictions horizontally\n",
    "train_meta_features = np.column_stack((y_pred1, y_pred2, y_pred3))\n",
    "\n",
    "# train the meta model on the stacked predictions and the second part of the training data\n",
    "meta_model = LinearRegression()\n",
    "meta_model.fit(train_meta_features, y_train2)\n",
    "\n",
    "# generate predictions on the testing data using the base models\n",
    "y_pred1 = model1.predict(x_test)\n",
    "y_pred2 = model2.predict(x_test)\n",
    "y_pred3 = model3.predict(x_test)\n",
    "\n",
    "# stack the predictions horizontally\n",
    "test_meta_features = np.column_stack((y_pred1, y_pred2, y_pred3))\n",
    "\n",
    "# generate final predictions using the meta model\n",
    "y_pred = meta_model.predict(test_meta_features)\n",
    "\n",
    "# calculate R2 and MSE scores\n",
    "r2 = r2_score(y_test, y_pred)\n",
    "mse = mean_squared_error(y_test, y_pred)\n",
    "\n",
    "print(\"Blending - R2 score (train): \", r2_score(y_train, y_pred_train))\n",
    "print(\"Blending - R2 score (test): \", r2)\n",
    "print(\"Blending - MSE (train): \", mean_squared_error(y_train, y_pred_train))\n",
    "print(\"Blending - MSE (test): \", mse)"
   ]
  },
  {
   "cell_type": "markdown",
   "id": "1344428e",
   "metadata": {},
   "source": [
    "# BAGGING META ESTIMATOR"
   ]
  },
  {
   "cell_type": "code",
   "execution_count": 125,
   "id": "0572f79e",
   "metadata": {},
   "outputs": [
    {
     "name": "stderr",
     "output_type": "stream",
     "text": [
      "C:\\Users\\Bharath Atla\\anaconda3\\lib\\site-packages\\sklearn\\ensemble\\_base.py:166: FutureWarning: `base_estimator` was renamed to `estimator` in version 1.2 and will be removed in 1.4.\n",
      "  warnings.warn(\n"
     ]
    },
    {
     "name": "stdout",
     "output_type": "stream",
     "text": [
      "Bagging meta estimator - R2 score (train): 0.9751126217023285\n",
      "Bagging meta estimator - R2 Score (test):  0.9540701941219207\n",
      "Bagging meta estimator -MSE (train):  91506317.19712594\n",
      "Bagging meta estimator -MSE (test):  201631869.47822222\n"
     ]
    }
   ],
   "source": [
    "from sklearn.ensemble import BaggingRegressor\n",
    "from sklearn.tree import DecisionTreeRegressor\n",
    "from sklearn.metrics import r2_score, mean_squared_error\n",
    "\n",
    "\n",
    "# initialize base estimator\n",
    "base_estimator = DecisionTreeRegressor()\n",
    "\n",
    "# initialize bagging meta estimator\n",
    "bagging_model = BaggingRegressor(base_estimator=base_estimator,\n",
    "                                  n_estimators=10,\n",
    "                                  max_samples=0.8,\n",
    "                                  max_features=0.8,\n",
    "                                  n_jobs=-1,\n",
    "                                  random_state=42)\n",
    "\n",
    "# fit the model on the training data\n",
    "bagging_model.fit(x_train, y_train)\n",
    "\n",
    "y_pred_test = bagging_model.predict(x_test)\n",
    "y_pred_train = bagging_model.predict(x_train)\n",
    "\n",
    "# calculate r2 score\n",
    "r2 = r2_score(y_test, y_pred_test)\n",
    "\n",
    "# calculate mean squared error\n",
    "mse = mean_squared_error(y_test, y_pred_test)\n",
    "\n",
    "print(\"Bagging meta estimator - R2 score (train):\", r2_score(y_train, y_pred_train))\n",
    "print(\"Bagging meta estimator - R2 Score (test): \", r2)\n",
    "print(\"Bagging meta estimator -MSE (train): \", mean_squared_error(y_train, y_pred_train))\n",
    "print(\"Bagging meta estimator -MSE (test): \", mse)\n"
   ]
  },
  {
   "cell_type": "markdown",
   "id": "bd4b0e52",
   "metadata": {},
   "source": [
    "# Random Forest Regressor"
   ]
  },
  {
   "cell_type": "code",
   "execution_count": 126,
   "id": "f9deb23c",
   "metadata": {},
   "outputs": [
    {
     "name": "stdout",
     "output_type": "stream",
     "text": [
      "random forest -R2 Score (train):  0.9751126217023285\n",
      "random forest -R2 Score (test):  0.8820844413387583\n",
      "random forest -MSE (train):  91506317.19712594\n",
      "random forest -MSE (test):  201631869.47822222\n"
     ]
    }
   ],
   "source": [
    "from sklearn.ensemble import RandomForestRegressor\n",
    "from sklearn.metrics import mean_squared_error, r2_score\n",
    "\n",
    "# initialize the model with specified parameters\n",
    "rfr = RandomForestRegressor(n_estimators=100, max_depth=5, random_state=42)\n",
    "\n",
    "# fit the model on the training data\n",
    "rfr.fit(x_train, y_train)\n",
    "\n",
    "# make predictions on the test data\n",
    "y_pred = rfr.predict(x_test)\n",
    "\n",
    "# calculate root mean squared error\n",
    "rmse = np.sqrt(mse)\n",
    "\n",
    "# calculate R2 score\n",
    "r2 = r2_score(y_test, y_pred)\n",
    "\n",
    "print(\"random forest -R2 Score (train): \", r2_score(y_train, y_pred_train))\n",
    "print(\"random forest -R2 Score (test): \", r2)\n",
    "print(\"random forest -MSE (train): \", mean_squared_error(y_train, y_pred_train))\n",
    "print(\"random forest -MSE (test): \", mse)\n"
   ]
  },
  {
   "cell_type": "markdown",
   "id": "1a3daf00",
   "metadata": {},
   "source": [
    "# Boosting"
   ]
  },
  {
   "cell_type": "markdown",
   "id": "239ef0d3",
   "metadata": {},
   "source": [
    "# Ada boost"
   ]
  },
  {
   "cell_type": "code",
   "execution_count": 127,
   "id": "b3e6c5bf",
   "metadata": {},
   "outputs": [
    {
     "name": "stdout",
     "output_type": "stream",
     "text": [
      "AdaBoost Regression - R2 score (train): 0.9751126217023285\n",
      "AdaBoost Regression - R2 score (test): 0.6681023426268037\n",
      "AdaBoost Regression - MSE (train): 91506317.19712594\n",
      "AdaBoost Regression - MSE (test): 1457030872.4849021\n"
     ]
    }
   ],
   "source": [
    "from sklearn.ensemble import AdaBoostRegressor\n",
    "\n",
    "# Create an AdaBoost regressor\n",
    "n_estimators = 100\n",
    "learning_rate = 0.1\n",
    "ada = AdaBoostRegressor(n_estimators=n_estimators, learning_rate=learning_rate)\n",
    "\n",
    "# Fit the model to the training data\n",
    "ada.fit(x_train, y_train)\n",
    "\n",
    "# Make predictions on the test data\n",
    "y_pred_test = ada.predict(x_test)\n",
    "\n",
    "r2 = r2_score(y_test, y_pred_test)\n",
    "\n",
    "mse = mean_squared_error(y_test, y_pred_test)\n",
    "\n",
    "# Compute the R-squared score and mean squared error on the test data\n",
    "from sklearn.metrics import r2_score, mean_squared_error\n",
    "print(\"AdaBoost Regression - R2 score (train):\", r2_score(y_train, y_pred_train))\n",
    "print(\"AdaBoost Regression - R2 score (test):\", r2)\n",
    "print(\"AdaBoost Regression - MSE (train):\", mean_squared_error(y_train, y_pred_train))\n",
    "print(\"AdaBoost Regression - MSE (test):\", mse)"
   ]
  },
  {
   "cell_type": "markdown",
   "id": "c871cd02",
   "metadata": {},
   "source": [
    "# Gradient boosting"
   ]
  },
  {
   "cell_type": "code",
   "execution_count": 128,
   "id": "7086f0a6",
   "metadata": {},
   "outputs": [
    {
     "name": "stdout",
     "output_type": "stream",
     "text": [
      "Gradient Boosting - R2 score (train): 0.9751126217023285\n",
      "Gradient Boosting - R2 score (test): 0.8907548500056492\n",
      "Gradient Boosting - MSE (train): 91506317.19712594\n",
      "Gradient Boosting - MSE (test): 479586260.0260328\n"
     ]
    }
   ],
   "source": [
    "from sklearn.ensemble import GradientBoostingRegressor\n",
    "\n",
    "# define model and set hyperparameters\n",
    "gb = GradientBoostingRegressor(n_estimators=100, learning_rate=0.1, max_depth=3, random_state=42)\n",
    "\n",
    "# fit the model to training data\n",
    "gb.fit(x_train, y_train)\n",
    "\n",
    "# predict on test set and evaluate model\n",
    "y_pred_test = gb.predict(x_test)\n",
    "r2=r2_score(y_test, y_pred_test)\n",
    "mse=mean_squared_error(y_test, y_pred_test)\n",
    "print(\"Gradient Boosting - R2 score (train):\", r2_score(y_train, y_pred_train) )\n",
    "print(\"Gradient Boosting - R2 score (test):\", r2 )\n",
    "print(\"Gradient Boosting - MSE (train):\", mean_squared_error(y_train, y_pred_train))\n",
    "print(\"Gradient Boosting - MSE (test):\", mse)"
   ]
  },
  {
   "cell_type": "markdown",
   "id": "433015b2",
   "metadata": {},
   "source": [
    "# XG Boost"
   ]
  },
  {
   "cell_type": "code",
   "execution_count": 129,
   "id": "f31242f8",
   "metadata": {},
   "outputs": [
    {
     "name": "stdout",
     "output_type": "stream",
     "text": [
      "XGBoost Regressor - R2 score (train): 0.9957518260017642\n",
      "XGBoost Regressor - R2 score (test): 0.9362094577516088\n",
      "XGBoost Regressor - MSE(train): 15619755.232616352\n",
      "XGBoost Regressor - MSE(test): 280040510.57205385\n"
     ]
    }
   ],
   "source": [
    "from xgboost import XGBRegressor\n",
    "from sklearn.metrics import r2_score, mean_squared_error\n",
    "\n",
    "# create an XGBRegressor object\n",
    "xgbr = XGBRegressor(objective='reg:squarederror')\n",
    "\n",
    "# fit the model on the training data\n",
    "xgbr.fit(x_train, y_train)\n",
    "\n",
    "# predict on the test set\n",
    "y_pred_test = xgbr.predict(x_test)\n",
    "y_pred_train = xgbr.predict(x_train)\n",
    "# evaluate the model performance\n",
    "print(\"XGBoost Regressor - R2 score (train):\", r2_score(y_train, y_pred_train))\n",
    "print(\"XGBoost Regressor - R2 score (test):\", r2_score(y_test, y_pred_test))\n",
    "print(\"XGBoost Regressor - MSE(train):\", mean_squared_error(y_train, y_pred_train))\n",
    "print(\"XGBoost Regressor - MSE(test):\", mean_squared_error(y_test, y_pred_test))"
   ]
  },
  {
   "cell_type": "markdown",
   "id": "fd981903",
   "metadata": {},
   "source": [
    "# BAGGING META ESTIMATOR is the best performing model, with R2(train) score of 0.971 , R2(test) score of 0.961 and  MSE of 172759573.03."
   ]
  },
  {
   "cell_type": "markdown",
   "id": "53ea1e52",
   "metadata": {},
   "source": [
    "# Predictions - 1st"
   ]
  },
  {
   "cell_type": "code",
   "execution_count": 130,
   "id": "3a4ac954",
   "metadata": {},
   "outputs": [
    {
     "name": "stdout",
     "output_type": "stream",
     "text": [
      "[45795.66666667]\n"
     ]
    },
    {
     "name": "stderr",
     "output_type": "stream",
     "text": [
      "C:\\Users\\Bharath Atla\\anaconda3\\lib\\site-packages\\sklearn\\base.py:439: UserWarning: X does not have valid feature names, but BaggingRegressor was fitted with feature names\n",
      "  warnings.warn(\n"
     ]
    }
   ],
   "source": [
    "new_data1 = [5, 3, 2011, 8, 335, 3, 3, 3, 2, 38, 0, 8, 26, 19, 3916]\n",
    "new_data1 = np.array(new_data1).reshape(1, -1)\n",
    "prediction1 = bagging_model.predict(new_data1)\n",
    "print(prediction1)"
   ]
  },
  {
   "cell_type": "code",
   "execution_count": 132,
   "id": "753f418c",
   "metadata": {},
   "outputs": [
    {
     "name": "stdout",
     "output_type": "stream",
     "text": [
      "[31070.]\n"
     ]
    },
    {
     "name": "stderr",
     "output_type": "stream",
     "text": [
      "C:\\Users\\Bharath Atla\\anaconda3\\lib\\site-packages\\sklearn\\base.py:439: UserWarning: X does not have valid feature names, but BaggingRegressor was fitted with feature names\n",
      "  warnings.warn(\n"
     ]
    }
   ],
   "source": [
    "new_data2 = [5, 3, 2011, 8, 230, 3, 3, 3, 2, 67, 0, 8, 28, 18, 3916]\n",
    "new_data2 = np.array(new_data2).reshape(1, -1)\n",
    "prediction2 = bagging_model.predict(new_data2)\n",
    "print(prediction2)"
   ]
  },
  {
   "cell_type": "code",
   "execution_count": 133,
   "id": "94feb846",
   "metadata": {},
   "outputs": [
    {
     "name": "stdout",
     "output_type": "stream",
     "text": [
      "[38530.]\n"
     ]
    },
    {
     "name": "stderr",
     "output_type": "stream",
     "text": [
      "C:\\Users\\Bharath Atla\\anaconda3\\lib\\site-packages\\sklearn\\base.py:439: UserWarning: X does not have valid feature names, but BaggingRegressor was fitted with feature names\n",
      "  warnings.warn(\n"
     ]
    }
   ],
   "source": [
    "new_data3 = [5, 3, 2011, 8, 300, 3, 3, 3, 2, 64, 0, 8, 28, 20, 3916]\n",
    "new_data3 = np.array(new_data3).reshape(1, -1)\n",
    "prediction3 = bagging_model.predict(new_data3)\n",
    "print(prediction3)"
   ]
  },
  {
   "cell_type": "markdown",
   "id": "1e81d3e0",
   "metadata": {},
   "source": [
    "# hyper parameter tuning"
   ]
  },
  {
   "cell_type": "markdown",
   "id": "124834d6",
   "metadata": {},
   "source": [
    "# XGBoost"
   ]
  },
  {
   "cell_type": "code",
   "execution_count": 105,
   "id": "9c763884",
   "metadata": {},
   "outputs": [
    {
     "name": "stdout",
     "output_type": "stream",
     "text": [
      "XGBoost Regressor - R2 score (train): 0.9935393930515294\n",
      "XGBoost Regressor - R2 score (test): 0.9215153054153779\n",
      "XGBoost Regressor - MSE: 344547846.2620154\n",
      "Best hyperparameters found: {'learning_rate': 0.3, 'max_depth': 5, 'n_estimators': 100}\n"
     ]
    }
   ],
   "source": [
    "from xgboost import XGBRegressor\n",
    "from sklearn.model_selection import GridSearchCV\n",
    "from sklearn.metrics import make_scorer, r2_score, mean_squared_error\n",
    "\n",
    "# create an XGBRegressor object\n",
    "xgbr = XGBRegressor(objective='reg:squarederror')\n",
    "\n",
    "# define the hyperparameter grid\n",
    "param_grid = {\n",
    "    'n_estimators': [50, 100],\n",
    "    'max_depth': [3, 5],\n",
    "    'learning_rate': [0.1, 0.3],\n",
    "}\n",
    "\n",
    "# define the scoring function\n",
    "scorer = make_scorer(r2_score)\n",
    "\n",
    "# perform grid search with cross-validation\n",
    "grid_search = GridSearchCV(estimator=xgbr, param_grid=param_grid, scoring=scorer, cv=5)\n",
    "\n",
    "# fit the model on the training data\n",
    "grid_search.fit(x_train, y_train)\n",
    "\n",
    "# predict on the test set\n",
    "y_pred_test = grid_search.predict(x_test)\n",
    "y_pred_train = grid_search.predict(x_train)\n",
    "\n",
    "# evaluate the model performance\n",
    "print(\"XGBoost Regressor - R2 score (train):\", r2_score(y_train, y_pred_train))\n",
    "print(\"XGBoost Regressor - R2 score (test):\", r2_score(y_test, y_pred_test))\n",
    "print(\"XGBoost Regressor - MSE:\", mean_squared_error(y_test, y_pred_test))\n",
    "\n",
    "# print the best hyperparameters found\n",
    "print(\"Best hyperparameters found:\", grid_search.best_params_)"
   ]
  },
  {
   "cell_type": "code",
   "execution_count": 106,
   "id": "9c730abb",
   "metadata": {},
   "outputs": [
    {
     "name": "stdout",
     "output_type": "stream",
     "text": [
      "XGBoost Regressor - R2 score (train): 0.9940092744874076\n",
      "XGBoost Regressor - R2 score (test): 0.9133671896075092\n",
      "XGBoost Regressor - MSE: 380318078.5035088\n",
      "Best hyperparameters found: {'colsample_bytree': 0.5, 'learning_rate': 0.1, 'max_depth': 7, 'n_estimators': 150, 'subsample': 1.0}\n"
     ]
    }
   ],
   "source": [
    "from xgboost import XGBRegressor\n",
    "from sklearn.model_selection import GridSearchCV\n",
    "from sklearn.metrics import make_scorer, r2_score, mean_squared_error\n",
    "\n",
    "# create an XGBRegressor object\n",
    "xgbr = XGBRegressor(objective='reg:squarederror')\n",
    "\n",
    "# define the hyperparameter grid\n",
    "param_grid = {\n",
    "    'n_estimators': [50, 100, 150],\n",
    "    'max_depth': [3, 5, 7],\n",
    "    'learning_rate': [0.1, 0.2, 0.3],\n",
    "    'colsample_bytree': [0.5, 0.7, 1.0],\n",
    "    'subsample': [0.5, 0.7, 1.0]\n",
    "}\n",
    "\n",
    "# define the scoring function\n",
    "scorer = make_scorer(r2_score)\n",
    "\n",
    "# perform grid search with cross-validation\n",
    "grid_search = GridSearchCV(estimator=xgbr, param_grid=param_grid, scoring=scorer, cv=5)\n",
    "\n",
    "# fit the model on the training data\n",
    "grid_search.fit(x_train, y_train)\n",
    "\n",
    "# predict on the test set\n",
    "y_pred_test = grid_search.predict(x_test)\n",
    "y_pred_train = grid_search.predict(x_train)\n",
    "\n",
    "# evaluate the model performance\n",
    "print(\"XGBoost Regressor - R2 score (train):\", r2_score(y_train, y_pred_train))\n",
    "print(\"XGBoost Regressor - R2 score (test):\", r2_score(y_test, y_pred_test))\n",
    "print(\"XGBoost Regressor - MSE:\", mean_squared_error(y_test, y_pred_test))\n",
    "\n",
    "# print the best hyperparameters found\n",
    "print(\"Best hyperparameters found:\", grid_search.best_params_)\n"
   ]
  },
  {
   "cell_type": "markdown",
   "id": "e53a0ea9",
   "metadata": {},
   "source": [
    "# Bagging  meta estimator"
   ]
  },
  {
   "cell_type": "code",
   "execution_count": 91,
   "id": "bf7b3ee9",
   "metadata": {},
   "outputs": [
    {
     "name": "stderr",
     "output_type": "stream",
     "text": [
      "C:\\Users\\Bharath Atla\\anaconda3\\lib\\site-packages\\sklearn\\ensemble\\_base.py:166: FutureWarning: `base_estimator` was renamed to `estimator` in version 1.2 and will be removed in 1.4.\n",
      "  warnings.warn(\n"
     ]
    },
    {
     "name": "stdout",
     "output_type": "stream",
     "text": [
      "Best Score:  0.8618075764019828\n",
      "Best Params:  {'base_estimator__max_depth': 7, 'base_estimator__max_features': 1.0, 'n_estimators': 100}\n"
     ]
    },
    {
     "name": "stderr",
     "output_type": "stream",
     "text": [
      "C:\\Users\\Bharath Atla\\anaconda3\\lib\\site-packages\\sklearn\\ensemble\\_base.py:166: FutureWarning: `base_estimator` was renamed to `estimator` in version 1.2 and will be removed in 1.4.\n",
      "  warnings.warn(\n"
     ]
    },
    {
     "name": "stdout",
     "output_type": "stream",
     "text": [
      "Bagging meta estimator - R2 score (train): 0.9450493937957434\n",
      "Bagging meta estimator - R2 Score (test):  0.9394606422096792\n",
      "Bagging meta estimator -MSE:  265767809.26694888\n"
     ]
    }
   ],
   "source": [
    "from sklearn.model_selection import GridSearchCV\n",
    "from sklearn.ensemble import BaggingRegressor\n",
    "from sklearn.tree import DecisionTreeRegressor\n",
    "from sklearn.metrics import r2_score\n",
    "\n",
    "# define base estimator\n",
    "base_estimator = DecisionTreeRegressor()\n",
    "\n",
    "# define bagging meta estimator\n",
    "bagging_model = BaggingRegressor(base_estimator=base_estimator,\n",
    "                                  max_samples=0.8,\n",
    "                                  max_features=0.8,\n",
    "                                  random_state=42)\n",
    "\n",
    "# define hyperparameters to tune\n",
    "param_grid = {\n",
    "    'n_estimators': [10, 50, 100],\n",
    "    'base_estimator__max_depth': [3, 5, 7],\n",
    "    'base_estimator__max_features': [0.5, 0.7, 1.0]\n",
    "}\n",
    "\n",
    "# perform grid search cross-validation\n",
    "grid_search = GridSearchCV(estimator=bagging_model, param_grid=param_grid, cv=5, scoring='r2', n_jobs=-1)\n",
    "grid_result = grid_search.fit(x_train, y_train)\n",
    "\n",
    "# summarize results\n",
    "print(\"Best Score: \", grid_result.best_score_)\n",
    "print(\"Best Params: \", grid_result.best_params_)\n",
    "\n",
    "# use best parameters to fit the model\n",
    "best_model = grid_result.best_estimator_\n",
    "best_model.fit(x_train, y_train)\n",
    "\n",
    "# make predictions on test set\n",
    "y_pred_test = best_model.predict(x_test)\n",
    "y_pred_train = best_model.predict(x_train)\n",
    "\n",
    "# calculate r2 score\n",
    "r2 = r2_score(y_test, y_pred_test)\n",
    "\n",
    "# calculate mean squared error\n",
    "mse = mean_squared_error(y_test, y_pred_test)\n",
    "\n",
    "print(\"Bagging meta estimator - R2 score (train):\", r2_score(y_train, y_pred_train))\n",
    "print(\"Bagging meta estimator - R2 Score (test): \", r2)\n",
    "print(\"Bagging meta estimator -MSE: \", mse)"
   ]
  },
  {
   "cell_type": "code",
   "execution_count": 108,
   "id": "ce3d0c45",
   "metadata": {},
   "outputs": [
    {
     "name": "stdout",
     "output_type": "stream",
     "text": [
      "Best Score:  0.8834019901236727\n",
      "Best Params:  {'base_estimator__max_depth': 9, 'base_estimator__max_features': 0.8, 'n_estimators': 100}\n",
      "Bagging meta estimator - R2 score (train): 0.9656075771893612\n",
      "Bagging meta estimator - R2 Score (test):  0.9561667585720178\n",
      "Bagging meta estimator -MSE:  192427950.5529647\n"
     ]
    }
   ],
   "source": [
    "from sklearn.model_selection import GridSearchCV\n",
    "from sklearn.ensemble import BaggingRegressor\n",
    "from sklearn.tree import DecisionTreeRegressor\n",
    "from sklearn.metrics import r2_score\n",
    "\n",
    "# define base estimator\n",
    "base_estimator = DecisionTreeRegressor()\n",
    "\n",
    "# define bagging meta estimator\n",
    "bagging_model = BaggingRegressor(base_estimator=base_estimator,\n",
    "                                  max_samples=0.8,\n",
    "                                  max_features=0.8,\n",
    "                                  random_state=42)\n",
    "\n",
    "# define hyperparameters to tune\n",
    "param_grid = {\n",
    "    'n_estimators': [50, 100, 150],\n",
    "    'base_estimator__max_depth': [5, 7, 9],\n",
    "    'base_estimator__max_features': [0.7, 0.8, 1.0]\n",
    "}\n",
    "\n",
    "# perform grid search cross-validation\n",
    "grid_search = GridSearchCV(estimator=bagging_model, param_grid=param_grid, cv=5, scoring='r2', n_jobs=-1)\n",
    "grid_result = grid_search.fit(x_train, y_train)\n",
    "\n",
    "# summarize results\n",
    "print(\"Best Score: \", grid_result.best_score_)\n",
    "print(\"Best Params: \", grid_result.best_params_)\n",
    "\n",
    "# use best parameters to fit the model\n",
    "best_model = grid_result.best_estimator_\n",
    "best_model.fit(x_train, y_train)\n",
    "\n",
    "# make predictions on test set\n",
    "y_pred_test = best_model.predict(x_test)\n",
    "y_pred_train = best_model.predict(x_train)\n",
    "\n",
    "# calculate r2 score\n",
    "r2 = r2_score(y_test, y_pred_test)\n",
    "\n",
    "# calculate mean squared error\n",
    "mse = mean_squared_error(y_test, y_pred_test)\n",
    "\n",
    "print(\"Bagging meta estimator - R2 score (train):\", r2_score(y_train, y_pred_train))\n",
    "print(\"Bagging meta estimator - R2 Score (test): \", r2)\n",
    "print(\"Bagging meta estimator -MSE: \", mse)"
   ]
  },
  {
   "cell_type": "markdown",
   "id": "5c2b8833",
   "metadata": {},
   "source": [
    "# Random forest regressor"
   ]
  },
  {
   "cell_type": "code",
   "execution_count": 109,
   "id": "a0cb409d",
   "metadata": {},
   "outputs": [
    {
     "name": "stdout",
     "output_type": "stream",
     "text": [
      "RandomForestRegressor - Best Parameters:  {'max_depth': None, 'max_features': 'sqrt', 'n_estimators': 200}\n",
      "RandomForestRegressor - Best MSE:  524033626.7841522\n",
      "RandomForestRegressor - Train Mean Squared Error:  57608695.58233526\n",
      "RandomForestRegressor - Test Mean Squared Error:  143630256.2420074\n",
      "RandomForestRegressor - Train R2 Score:  0.984331907958831\n",
      "RandomForestRegressor - Test R2 Score:  0.9672824052840183\n"
     ]
    }
   ],
   "source": [
    "from sklearn.model_selection import GridSearchCV\n",
    "\n",
    "# define parameter grid for RandomForestRegressor\n",
    "param_grid_rf = {\n",
    "    'n_estimators': [100, 200, 300],\n",
    "    'max_depth': [5, 10, None],\n",
    "    'max_features': ['auto', 'sqrt', 'log2']\n",
    "}\n",
    "\n",
    "# create GridSearchCV object for RandomForestRegressor\n",
    "grid_rf = GridSearchCV(RandomForestRegressor(), param_grid_rf, cv=kfold, scoring='neg_mean_squared_error', n_jobs=-1)\n",
    "\n",
    "# fit the grid search object on the training data\n",
    "grid_rf.fit(x_train, y_train)\n",
    "\n",
    "# print the best parameters and the corresponding mean squared error\n",
    "print(\"RandomForestRegressor - Best Parameters: \", grid_rf.best_params_)\n",
    "print(\"RandomForestRegressor - Best MSE: \", -grid_rf.best_score_)\n",
    "\n",
    "# get the best model\n",
    "best_model = grid_rf.best_estimator_\n",
    "\n",
    "# predict on train and test data\n",
    "y_pred_train = best_model.predict(x_train)\n",
    "y_pred_test = best_model.predict(x_test)\n",
    "\n",
    "# calculate mean squared error\n",
    "mse_train = mean_squared_error(y_train, y_pred_train)\n",
    "mse_test = mean_squared_error(y_test, y_pred_test)\n",
    "\n",
    "# calculate R2 score\n",
    "r2_train = r2_score(y_train, y_pred_train)\n",
    "r2_test = r2_score(y_test, y_pred_test)\n",
    "\n",
    "# print the train and test scores\n",
    "print(\"RandomForestRegressor - Train Mean Squared Error: \", mse_train)\n",
    "print(\"RandomForestRegressor - Test Mean Squared Error: \", mse_test)\n",
    "print(\"RandomForestRegressor - Train R2 Score: \", r2_train)\n",
    "print(\"RandomForestRegressor - Test R2 Score: \", r2_test)"
   ]
  },
  {
   "cell_type": "markdown",
   "id": "928fa64a",
   "metadata": {},
   "source": [
    "# Decison tree regressor"
   ]
  },
  {
   "cell_type": "code",
   "execution_count": 110,
   "id": "5fb13ecd",
   "metadata": {
    "scrolled": true
   },
   "outputs": [
    {
     "name": "stdout",
     "output_type": "stream",
     "text": [
      "DecisionTreeRegressor - Best Parameters:  {'max_depth': 15, 'min_samples_leaf': 1, 'min_samples_split': 2}\n",
      "DecisionTreeRegressor - Best MSE:  424789841.72805655\n",
      "DecisionTreeRegressor - Train Mean Squared Error:  15740589.534480888\n",
      "DecisionTreeRegressor - Test Mean Squared Error:  571748907.3191546\n",
      "DecisionTreeRegressor - Train R2 Score:  0.9957189621616058\n",
      "DecisionTreeRegressor - Test R2 Score:  0.8697610829472122\n"
     ]
    }
   ],
   "source": [
    "from sklearn.tree import DecisionTreeRegressor\n",
    "from sklearn.model_selection import GridSearchCV\n",
    "from sklearn.metrics import mean_squared_error, r2_score\n",
    "\n",
    "# define parameter grid for DecisionTreeRegressor\n",
    "param_grid_dt = {\n",
    "    'max_depth': [5, 10, 15],\n",
    "    'min_samples_split': [2, 5, 10],\n",
    "    'min_samples_leaf': [1, 2, 4]\n",
    "}\n",
    "\n",
    "# create GridSearchCV object for DecisionTreeRegressor\n",
    "grid_dt = GridSearchCV(DecisionTreeRegressor(random_state=42), param_grid_dt, cv=5, scoring='neg_mean_squared_error', n_jobs=-1)\n",
    "\n",
    "# fit the grid search object on the training data\n",
    "grid_dt.fit(x_train, y_train)\n",
    "\n",
    "# print the best parameters and the corresponding mean squared error\n",
    "print(\"DecisionTreeRegressor - Best Parameters: \", grid_dt.best_params_)\n",
    "print(\"DecisionTreeRegressor - Best MSE: \", -grid_dt.best_score_)\n",
    "\n",
    "# get the best model\n",
    "best_model = grid_dt.best_estimator_\n",
    "\n",
    "# predict on train and test data\n",
    "y_pred_train = best_model.predict(x_train)\n",
    "y_pred_test = best_model.predict(x_test)\n",
    "\n",
    "# calculate mean squared error\n",
    "mse_train = mean_squared_error(y_train, y_pred_train)\n",
    "mse_test = mean_squared_error(y_test, y_pred_test)\n",
    "\n",
    "# calculate R2 score\n",
    "r2_train = r2_score(y_train, y_pred_train)\n",
    "r2_test = r2_score(y_test, y_pred_test)\n",
    "\n",
    "# print the train and test scores\n",
    "print(\"DecisionTreeRegressor - Train Mean Squared Error: \", mse_train)\n",
    "print(\"DecisionTreeRegressor - Test Mean Squared Error: \", mse_test)\n",
    "print(\"DecisionTreeRegressor - Train R2 Score: \", r2_train)\n",
    "print(\"DecisionTreeRegressor - Test R2 Score: \", r2_test)"
   ]
  },
  {
   "cell_type": "code",
   "execution_count": null,
   "id": "571894f7",
   "metadata": {},
   "outputs": [],
   "source": []
  },
  {
   "cell_type": "markdown",
   "id": "9b052eb8",
   "metadata": {},
   "source": [
    "# Pickle file"
   ]
  },
  {
   "cell_type": "code",
   "execution_count": 134,
   "id": "64b4b33e",
   "metadata": {},
   "outputs": [],
   "source": [
    "import pickle\n",
    "\n",
    "#Bagging meta estimator model \n",
    "bagging_dict = {'model': bagging_model,\n",
    "                'n_estimators': 10,\n",
    "                'max_samples': 0.8,\n",
    "                'max_features': 0.8,\n",
    "                'random_state': 42}\n",
    "                \n",
    "#open a file to save the dictionary object\n",
    "with open('bagging_estimator_model1.pkl', 'wb') as file:\n",
    "    pickle.dump(bagging_dict, file)\n"
   ]
  },
  {
   "cell_type": "markdown",
   "id": "cad5168f",
   "metadata": {},
   "source": [
    "import pickle\n",
    "\n",
    "#XGBoost model\n",
    "xgb_dict = {'model': xgbr}\n",
    "\n",
    "#open a file to save the dictionary object\n",
    "with open('xgb_model.pkl', 'wb') as file:\n",
    "    pickle.dump(xgb_dict, file)\n"
   ]
  },
  {
   "cell_type": "code",
   "execution_count": 135,
   "id": "385ab0a6",
   "metadata": {},
   "outputs": [],
   "source": [
    "import pandas as pd\n",
    "import pickle\n",
    "from sklearn.preprocessing import LabelEncoder\n",
    "\n",
    "#Define the categorical columns\n",
    "cat_cols = ['make', 'model', 'engine_fuel_type', 'transmission_type', 'driven_wheels', 'market_category', 'vehicle_size', 'vehicle_style']\n",
    "\n",
    "#Apply label encoding to categorical columns\n",
    "label_encoders = {}\n",
    "for col in cat_cols:\n",
    "    df[col] = df[col].astype(object)\n",
    "    le = LabelEncoder()\n",
    "    le.fit(df[col])\n",
    "    df[col] = le.transform(df[col])\n",
    "    label_encoders[col] = le\n",
    "\n",
    "#Save the label encoders to a pickle file\n",
    "with open('label_encoders1.pkl', 'wb') as f:\n",
    "    pickle.dump([le for col, le in label_encoders.items()], f)"
   ]
  },
  {
   "cell_type": "code",
   "execution_count": null,
   "id": "13bc810e",
   "metadata": {},
   "outputs": [],
   "source": []
  },
  {
   "cell_type": "markdown",
   "id": "299f6823",
   "metadata": {},
   "source": [
    "# Predictions - final"
   ]
  },
  {
   "cell_type": "code",
   "execution_count": 136,
   "id": "481c4d27",
   "metadata": {},
   "outputs": [
    {
     "name": "stdout",
     "output_type": "stream",
     "text": [
      "Predicted MSRP: 44032.166666666664\n"
     ]
    }
   ],
   "source": [
    "import pickle\n",
    "import pandas as pd\n",
    "\n",
    "# load bagging model from pickle file\n",
    "with open('bagging_estimator_model1.pkl', 'rb') as f:\n",
    "    bagging_dict = pickle.load(f)\n",
    "    bagging_model = bagging_dict['model']\n",
    "\n",
    "# load label encoders from pickle file\n",
    "with open('label_encoders1.pkl', 'rb') as f:\n",
    "    label_encoder_objects = pickle.load(f)\n",
    "\n",
    "# create a dataframe with input values\n",
    "input_data = pd.DataFrame({'make': ['bmw'],\n",
    "                           'model': ['1_series'],\n",
    "                           'year': [2011],\n",
    "                           'engine_fuel_type': ['premium_unleaded_(required)'],\n",
    "                           'engine_hp': [335],\n",
    "                           'engine_cylinders': [6],\n",
    "                           'transmission_type': ['manual'],\n",
    "                           'driven_wheels': ['rear_wheel_drive'],\n",
    "                           'number_of_doors': [2],\n",
    "                           'market_category': ['factory_tuner,luxury,high-performance'],\n",
    "                           'vehicle_size': ['compact'],\n",
    "                           'vehicle_style': ['coupe'],\n",
    "                           'highway_mpg': [26],\n",
    "                           'city_mpg': [19],\n",
    "                           'popularity': [3916]})\n",
    "\n",
    "# label encode categorical columns\n",
    "cat_cols = ['make', 'model', 'engine_fuel_type', 'transmission_type', 'driven_wheels', 'market_category', 'vehicle_size', 'vehicle_style']\n",
    "label_encoder_dict = dict(zip(cat_cols, label_encoder_objects))\n",
    "for col in cat_cols:\n",
    "    input_data[col] = input_data[col].astype(object)\n",
    "    le = label_encoder_dict[col]\n",
    "    input_data[col] = le.transform(input_data[col])\n",
    "\n",
    "# make prediction using bagging model\n",
    "msrp = bagging_model.predict(input_data)\n",
    "\n",
    "# print predicted MSRP\n",
    "print(\"Predicted MSRP:\", msrp[0])"
   ]
  },
  {
   "cell_type": "code",
   "execution_count": 137,
   "id": "7f957aa1",
   "metadata": {},
   "outputs": [
    {
     "name": "stdout",
     "output_type": "stream",
     "text": [
      "Predicted MSRP: 152599.48333333334\n"
     ]
    }
   ],
   "source": [
    "import pickle\n",
    "import pandas as pd\n",
    "\n",
    "# load bagging model from pickle file\n",
    "with open('bagging_estimator_model1.pkl', 'rb') as f:\n",
    "    bagging_dict = pickle.load(f)\n",
    "    bagging_model = bagging_dict['model']\n",
    "\n",
    "# load label encoders from pickle file\n",
    "with open('label_encoders1.pkl', 'rb') as f:\n",
    "    label_encoder_objects = pickle.load(f)\n",
    "\n",
    "# create a dataframe with input values\n",
    "input_data = pd.DataFrame({'make': ['bugatti'],\n",
    "                           'model': ['1_series'],\n",
    "                           'year': [2000],\n",
    "                           'engine_fuel_type': ['premium_unleaded_(required)'],\n",
    "                           'engine_hp': [350],\n",
    "                           'engine_cylinders': [4],\n",
    "                           'transmission_type': ['manual'],\n",
    "                           'driven_wheels': ['rear_wheel_drive'],\n",
    "                           'number_of_doors': [4],\n",
    "                           'market_category': ['factory_tuner,luxury,high-performance'],\n",
    "                           'vehicle_size': ['compact'],\n",
    "                           'vehicle_style': ['coupe'],\n",
    "                           'highway_mpg': [20],\n",
    "                           'city_mpg': [10],\n",
    "                           'popularity': [2000]})\n",
    "\n",
    "# label encode categorical columns\n",
    "cat_cols = ['make', 'model', 'engine_fuel_type', 'transmission_type', 'driven_wheels', 'market_category', 'vehicle_size', 'vehicle_style']\n",
    "label_encoder_dict = dict(zip(cat_cols, label_encoder_objects))\n",
    "for col in cat_cols:\n",
    "    input_data[col] = input_data[col].astype(object)\n",
    "    le = label_encoder_dict[col]\n",
    "    input_data[col] = le.transform(input_data[col])\n",
    "\n",
    "# make prediction using bagging model\n",
    "msrp = bagging_model.predict(input_data)\n",
    "\n",
    "# print predicted MSRP\n",
    "print(\"Predicted MSRP:\", msrp[0])"
   ]
  },
  {
   "cell_type": "code",
   "execution_count": null,
   "id": "39060909",
   "metadata": {},
   "outputs": [],
   "source": []
  },
  {
   "cell_type": "markdown",
   "id": "53b8bb0c",
   "metadata": {},
   "source": [
    "# Rough"
   ]
  },
  {
   "cell_type": "code",
   "execution_count": null,
   "id": "5d9201b0",
   "metadata": {},
   "outputs": [],
   "source": []
  }
 ],
 "metadata": {
  "kernelspec": {
   "display_name": "Python 3 (ipykernel)",
   "language": "python",
   "name": "python3"
  },
  "language_info": {
   "codemirror_mode": {
    "name": "ipython",
    "version": 3
   },
   "file_extension": ".py",
   "mimetype": "text/x-python",
   "name": "python",
   "nbconvert_exporter": "python",
   "pygments_lexer": "ipython3",
   "version": "3.9.12"
  }
 },
 "nbformat": 4,
 "nbformat_minor": 5
}
